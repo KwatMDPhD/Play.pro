{
 "cells": [
  {
   "cell_type": "code",
   "execution_count": 1,
   "id": "952b8d9f-18be-4685-8989-27df2ec72233",
   "metadata": {},
   "outputs": [],
   "source": [
    "n = 10^2\n",
    "\n",
    "#ch_ = 'a':'z'\n",
    "ch_ = 1:9\n",
    "\n",
    "an_ = [rand(ch_) for id in 1:n]\n",
    "\n",
    ";"
   ]
  },
  {
   "cell_type": "code",
   "execution_count": 2,
   "id": "b2bac33c-2bc6-43cc-969e-bb4fd68cfbcd",
   "metadata": {},
   "outputs": [],
   "source": [
    "ra = rand(an_)\n",
    "\n",
    "const rac = ra\n",
    "\n",
    "rat = float(ra)\n",
    "\n",
    ";"
   ]
  },
  {
   "cell_type": "code",
   "execution_count": 3,
   "id": "8b9123ce-e387-4f4c-a4fe-f65fd4c1166c",
   "metadata": {},
   "outputs": [],
   "source": [
    "function fug(an)\n",
    "    \n",
    "    # `ra` is global.\n",
    "    an == ra\n",
    "    \n",
    "end\n",
    "\n",
    "function fugc(an)\n",
    "    \n",
    "    # `rac` is global but constant.\n",
    "    an == rac\n",
    "    \n",
    "end\n",
    "\n",
    "function fua(an, ra)\n",
    "    \n",
    "    # `ra` is argument.\n",
    "    an == ra\n",
    "    \n",
    "end\n",
    "\n",
    ";"
   ]
  },
  {
   "cell_type": "code",
   "execution_count": 4,
   "id": "2e682647-d337-4e6b-a085-9c6d7c00f181",
   "metadata": {},
   "outputs": [
    {
     "name": "stdout",
     "output_type": "stream",
     "text": [
      "  1.233 μs (4 allocations: 208 bytes)\n",
      "  1.288 μs (4 allocations: 208 bytes)\n",
      "  1.400 μs (4 allocations: 208 bytes)\n"
     ]
    }
   ],
   "source": [
    "# `ra` is global and can change at run time, so the compiler can not conclude about it at compile time;\n",
    "\n",
    "@btime map(an->an==ra, $an_)\n",
    "\n",
    "@btime map(fug, $an_)\n",
    "\n",
    "@btime map(an->fua(an, ra), $an_)\n",
    "\n",
    ";"
   ]
  },
  {
   "cell_type": "code",
   "execution_count": 5,
   "id": "6025d310-bf6b-4343-8d81-012e73220710",
   "metadata": {},
   "outputs": [
    {
     "name": "stdout",
     "output_type": "stream",
     "text": [
      "  53.214 ns (1 allocation: 160 bytes)\n",
      "  53.204 ns (1 allocation: 160 bytes)\n"
     ]
    }
   ],
   "source": [
    "# Interpolation lets the compiler see and conclude about `ra`;\n",
    "\n",
    "@btime map(an->an==$ra, $an_)\n",
    "\n",
    "@btime map(an->fua(an, $ra), $an_)\n",
    "\n",
    ";"
   ]
  },
  {
   "cell_type": "code",
   "execution_count": 6,
   "id": "9c6360e8-e94c-43dc-86be-2f59fd1493c5",
   "metadata": {},
   "outputs": [
    {
     "name": "stdout",
     "output_type": "stream",
     "text": [
      "  42.591 ns (1 allocation: 160 bytes)\n",
      "  53.245 ns (1 allocation: 160 bytes)\n",
      "  42.591 ns (1 allocation: 160 bytes)\n",
      "  42.592 ns (1 allocation: 160 bytes)\n",
      "  53.245 ns (1 allocation: 160 bytes)\n"
     ]
    }
   ],
   "source": [
    "# The compiler can always (even without interpolation) conclude about constant `rac`;\n",
    "\n",
    "@btime map(an->fua(an, rac), $an_)\n",
    "@btime map(an->fua(an, $rac), $an_)\n",
    "\n",
    "@btime map(fugc, $an_)\n",
    "\n",
    "@btime map(an->an==rac, $an_)\n",
    "@btime map(an->an==$rac, $an_)\n",
    "\n",
    ";"
   ]
  },
  {
   "cell_type": "code",
   "execution_count": 16,
   "id": "0841b19b-daf7-4f23-b577-fb9e48284580",
   "metadata": {},
   "outputs": [
    {
     "name": "stdout",
     "output_type": "stream",
     "text": [
      "  153.686 ns (3 allocations: 208 bytes)\n",
      "  62.457 ns (1 allocation: 160 bytes)\n",
      "  141.236 ns (3 allocations: 208 bytes)\n",
      "  53.299 ns (1 allocation: 160 bytes)\n",
      "  53.245 ns (1 allocation: 160 bytes)\n",
      "  53.299 ns (1 allocation: 160 bytes)\n"
     ]
    }
   ],
   "source": [
    "@btime map(==(rat), $an_)\n",
    "@btime map(==($rat), $an_)\n",
    "\n",
    "@btime map(==(ra), $an_)\n",
    "@btime map(==($ra), $an_)\n",
    "\n",
    "@btime map(==(rac), $an_)\n",
    "@btime map(==($rac), $an_)\n",
    "\n",
    ";"
   ]
  },
  {
   "cell_type": "code",
   "execution_count": 17,
   "id": "69e52544-cf84-4680-97fb-82cacfd41122",
   "metadata": {},
   "outputs": [
    {
     "name": "stdout",
     "output_type": "stream",
     "text": [
      "  220.483 ns (3 allocations: 208 bytes)\n",
      "  217.565 ns (2 allocations: 192 bytes)\n"
     ]
    }
   ],
   "source": [
    "an_ = [rand(1:9) for _ in 1:10^2]\n",
    "\n",
    "ar = 0\n",
    "\n",
    "const arc = 0\n",
    "\n",
    "@btime map(==($ar), an_)\n",
    "\n",
    "@btime map(==(arc), an_)\n",
    "\n",
    ";"
   ]
  },
  {
   "cell_type": "code",
   "execution_count": null,
   "id": "b3e1a732-059e-448e-bd32-1413322fb166",
   "metadata": {},
   "outputs": [],
   "source": [
    "# Only when the compiler knows about all variables, there is no allocation.\n",
    "\n",
    "@btime map(==($rat), $an_)\n",
    "\n",
    "@btime map(==($ra), $an_)\n",
    "\n",
    "@btime map(==(rac), $an_)\n",
    "\n",
    "@btime map(==($rac), $an_)\n",
    "\n",
    ";"
   ]
  }
 ],
 "metadata": {
  "kernelspec": {
   "display_name": "Julia 1.8.3",
   "language": "julia",
   "name": "julia-1.8"
  },
  "language_info": {
   "file_extension": ".jl",
   "mimetype": "application/julia",
   "name": "julia",
   "version": "1.8.3"
  }
 },
 "nbformat": 4,
 "nbformat_minor": 5
}
