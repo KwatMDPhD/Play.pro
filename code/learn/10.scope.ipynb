{
 "cells": [
  {
   "cell_type": "markdown",
   "id": "67bb00d2-d5d2-45ad-87c7-b4efaae54c31",
   "metadata": {},
   "source": [
    "`for` loop creates a private block, whose variables can not be seen by the parent block;"
   ]
  },
  {
   "cell_type": "code",
   "execution_count": 1,
   "id": "5b0186ee-c0c5-4250-98b9-2d47cab5d066",
   "metadata": {},
   "outputs": [
    {
     "ename": "LoadError",
     "evalue": "UndefVarError: va not defined",
     "output_type": "error",
     "traceback": [
      "UndefVarError: va not defined",
      "",
      "Stacktrace:",
      " [1] top-level scope",
      "   @ :0",
      " [2] eval",
      "   @ ./boot.jl:368 [inlined]",
      " [3] include_string(mapexpr::typeof(REPL.softscope), mod::Module, code::String, filename::String)",
      "   @ Base ./loading.jl:1428"
     ]
    }
   ],
   "source": [
    "for _ in 1:2\n",
    "    \n",
    "    va = 1\n",
    "    \n",
    "end\n",
    "\n",
    "va"
   ]
  },
  {
   "cell_type": "code",
   "execution_count": 2,
   "id": "fdb9ea04-60e0-4ec8-aa70-4ba947eb9d03",
   "metadata": {},
   "outputs": [
    {
     "ename": "LoadError",
     "evalue": "UndefVarError: va not defined",
     "output_type": "error",
     "traceback": [
      "UndefVarError: va not defined",
      "",
      "Stacktrace:",
      " [1] fu1()",
      "   @ Main ./In[2]:9",
      " [2] top-level scope",
      "   @ In[2]:13",
      " [3] eval",
      "   @ ./boot.jl:368 [inlined]",
      " [4] include_string(mapexpr::typeof(REPL.softscope), mod::Module, code::String, filename::String)",
      "   @ Base ./loading.jl:1428"
     ]
    }
   ],
   "source": [
    "function fu1()\n",
    "    \n",
    "    for _ in 1:2\n",
    "\n",
    "        va = 1\n",
    "\n",
    "    end\n",
    "    \n",
    "    va\n",
    "    \n",
    "end\n",
    "\n",
    "fu1()"
   ]
  },
  {
   "cell_type": "code",
   "execution_count": 3,
   "id": "1b6813a1-3ad6-483b-bbd3-13753dba9c38",
   "metadata": {},
   "outputs": [
    {
     "ename": "LoadError",
     "evalue": "UndefVarError: va not defined",
     "output_type": "error",
     "traceback": [
      "UndefVarError: va not defined",
      "",
      "Stacktrace:",
      " [1] fu2()",
      "   @ Main ./In[3]:7",
      " [2] top-level scope",
      "   @ In[3]:11",
      " [3] eval",
      "   @ ./boot.jl:368 [inlined]",
      " [4] include_string(mapexpr::typeof(REPL.softscope), mod::Module, code::String, filename::String)",
      "   @ Base ./loading.jl:1428"
     ]
    }
   ],
   "source": [
    "function fu2()\n",
    "    \n",
    "    for va in 1:2\n",
    "\n",
    "    end\n",
    "    \n",
    "    va\n",
    "    \n",
    "end\n",
    "\n",
    "fu2()"
   ]
  },
  {
   "cell_type": "markdown",
   "id": "e5c4acd4-d46d-4fd8-a669-f4ff73af10ba",
   "metadata": {},
   "source": [
    "Although `va` is never accessed, the compiler sees it in the parent block.\n",
    "The compiler wants to avoid error so it infers `va` from the one computed in the child block;"
   ]
  },
  {
   "cell_type": "code",
   "execution_count": 4,
   "id": "6e011333-d3cc-4bf2-b363-be7c43593690",
   "metadata": {},
   "outputs": [
    {
     "data": {
      "text/plain": [
       "1"
      ]
     },
     "execution_count": 4,
     "metadata": {},
     "output_type": "execute_result"
    }
   ],
   "source": [
    "function fu3()\n",
    "    \n",
    "    if false\n",
    "    \n",
    "        va = 0\n",
    "        \n",
    "    end\n",
    "    \n",
    "    for _ in 1:2\n",
    "\n",
    "        va = 1\n",
    "\n",
    "    end\n",
    "    \n",
    "    va\n",
    "    \n",
    "end\n",
    "\n",
    "fu3()"
   ]
  },
  {
   "cell_type": "markdown",
   "id": "678dff62-d21c-47be-90fe-153e8416682f",
   "metadata": {},
   "source": [
    "If the child block does not compute `va` then the code errors;"
   ]
  },
  {
   "cell_type": "code",
   "execution_count": 11,
   "id": "5959015b-30a7-484c-875b-567715aaffa6",
   "metadata": {},
   "outputs": [
    {
     "ename": "LoadError",
     "evalue": "UndefVarError: va not defined",
     "output_type": "error",
     "traceback": [
      "UndefVarError: va not defined",
      "",
      "Stacktrace:",
      " [1] fu3n()",
      "   @ Main ./In[11]:15",
      " [2] top-level scope",
      "   @ In[11]:19",
      " [3] eval",
      "   @ ./boot.jl:368 [inlined]",
      " [4] include_string(mapexpr::typeof(REPL.softscope), mod::Module, code::String, filename::String)",
      "   @ Base ./loading.jl:1428"
     ]
    }
   ],
   "source": [
    "function fu3n()\n",
    "    \n",
    "    if false\n",
    "    \n",
    "        va = 0\n",
    "        \n",
    "    end\n",
    "    \n",
    "    for _ in 1:0\n",
    "\n",
    "        va = 1\n",
    "\n",
    "    end\n",
    "    \n",
    "    va\n",
    "    \n",
    "end\n",
    "\n",
    "fu3n()"
   ]
  },
  {
   "cell_type": "markdown",
   "id": "6bc35806-c90f-40cc-9b50-b5cbaa8ec94e",
   "metadata": {},
   "source": [
    "Accessing is not the same as changing.\n",
    "Changing `va` requires it to be made;"
   ]
  },
  {
   "cell_type": "code",
   "execution_count": 15,
   "id": "cfc667d0-630b-4289-bc5e-5316c7a6268b",
   "metadata": {},
   "outputs": [
    {
     "data": {
      "text/plain": [
       "fu4b (generic function with 1 method)"
      ]
     },
     "execution_count": 15,
     "metadata": {},
     "output_type": "execute_result"
    }
   ],
   "source": [
    "function fu4b(bo)\n",
    "    \n",
    "    if bo\n",
    "    \n",
    "        va = 0\n",
    "        \n",
    "    end\n",
    "    \n",
    "    for _ in 1:2\n",
    "\n",
    "        va += 1\n",
    "\n",
    "    end\n",
    "    \n",
    "    va\n",
    "    \n",
    "end"
   ]
  },
  {
   "cell_type": "code",
   "execution_count": 16,
   "id": "69c80006-0aea-44e7-b4d0-30afa82eaa74",
   "metadata": {},
   "outputs": [
    {
     "ename": "LoadError",
     "evalue": "UndefVarError: va not defined",
     "output_type": "error",
     "traceback": [
      "UndefVarError: va not defined",
      "",
      "Stacktrace:",
      " [1] fu4b(bo::Bool)",
      "   @ Main ./In[15]:11",
      " [2] top-level scope",
      "   @ In[16]:1",
      " [3] eval",
      "   @ ./boot.jl:368 [inlined]",
      " [4] include_string(mapexpr::typeof(REPL.softscope), mod::Module, code::String, filename::String)",
      "   @ Base ./loading.jl:1428"
     ]
    }
   ],
   "source": [
    "fu4b(false)"
   ]
  },
  {
   "cell_type": "code",
   "execution_count": 17,
   "id": "5abcaedc-32f7-4a7d-836f-604940141f33",
   "metadata": {},
   "outputs": [
    {
     "data": {
      "text/plain": [
       "2"
      ]
     },
     "execution_count": 17,
     "metadata": {},
     "output_type": "execute_result"
    }
   ],
   "source": [
    "fu4b(true)"
   ]
  }
 ],
 "metadata": {
  "kernelspec": {
   "display_name": "Julia 1.8.3",
   "language": "julia",
   "name": "julia-1.8"
  },
  "language_info": {
   "file_extension": ".jl",
   "mimetype": "application/julia",
   "name": "julia",
   "version": "1.8.3"
  }
 },
 "nbformat": 4,
 "nbformat_minor": 5
}
