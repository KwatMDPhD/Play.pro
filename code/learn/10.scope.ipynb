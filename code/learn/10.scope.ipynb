{
 "cells": [
  {
   "cell_type": "markdown",
   "id": "67bb00d2-d5d2-45ad-87c7-b4efaae54c31",
   "metadata": {},
   "source": [
    "`for` loop creates a private block, whose variables can not be seen by its parent block."
   ]
  },
  {
   "cell_type": "code",
   "execution_count": 1,
   "id": "5b0186ee-c0c5-4250-98b9-2d47cab5d066",
   "metadata": {},
   "outputs": [
    {
     "ename": "LoadError",
     "evalue": "UndefVarError: va not defined",
     "output_type": "error",
     "traceback": [
      "UndefVarError: va not defined",
      "",
      "Stacktrace:",
      " [1] top-level scope",
      "   @ :0",
      " [2] eval",
      "   @ ./boot.jl:368 [inlined]",
      " [3] include_string(mapexpr::typeof(REPL.softscope), mod::Module, code::String, filename::String)",
      "   @ Base ./loading.jl:1428"
     ]
    }
   ],
   "source": [
    "for _ in 1:1\n",
    "    \n",
    "    va = 1\n",
    "    \n",
    "end\n",
    "\n",
    "va"
   ]
  },
  {
   "cell_type": "code",
   "execution_count": 2,
   "id": "fdb9ea04-60e0-4ec8-aa70-4ba947eb9d03",
   "metadata": {},
   "outputs": [
    {
     "ename": "LoadError",
     "evalue": "UndefVarError: va not defined",
     "output_type": "error",
     "traceback": [
      "UndefVarError: va not defined",
      "",
      "Stacktrace:",
      " [1] fu1()",
      "   @ Main ./In[2]:9",
      " [2] top-level scope",
      "   @ In[2]:13",
      " [3] eval",
      "   @ ./boot.jl:368 [inlined]",
      " [4] include_string(mapexpr::typeof(REPL.softscope), mod::Module, code::String, filename::String)",
      "   @ Base ./loading.jl:1428"
     ]
    }
   ],
   "source": [
    "function fu1()\n",
    "    \n",
    "    for _ in 1:1\n",
    "\n",
    "        va = 1\n",
    "\n",
    "    end\n",
    "    \n",
    "    va\n",
    "    \n",
    "end\n",
    "\n",
    "fu1()"
   ]
  },
  {
   "cell_type": "code",
   "execution_count": 3,
   "id": "1b6813a1-3ad6-483b-bbd3-13753dba9c38",
   "metadata": {},
   "outputs": [
    {
     "ename": "LoadError",
     "evalue": "UndefVarError: va not defined",
     "output_type": "error",
     "traceback": [
      "UndefVarError: va not defined",
      "",
      "Stacktrace:",
      " [1] fu2()",
      "   @ Main ./In[3]:7",
      " [2] top-level scope",
      "   @ In[3]:11",
      " [3] eval",
      "   @ ./boot.jl:368 [inlined]",
      " [4] include_string(mapexpr::typeof(REPL.softscope), mod::Module, code::String, filename::String)",
      "   @ Base ./loading.jl:1428"
     ]
    }
   ],
   "source": [
    "function fu2()\n",
    "    \n",
    "    for va in 1:1\n",
    "\n",
    "    end\n",
    "    \n",
    "    va\n",
    "    \n",
    "end\n",
    "\n",
    "fu2()"
   ]
  },
  {
   "cell_type": "markdown",
   "id": "a4feb796-1e5d-48eb-81f7-e12a45981d5b",
   "metadata": {},
   "source": [
    "The compiler sees variable `va` even though it is not assigned, gets ready to use it, and refers to it in its and its children's blocks.\n",
    "However, if it is not assigned, updating or returning it errors."
   ]
  },
  {
   "cell_type": "code",
   "execution_count": 4,
   "id": "d4ac28c5-20a7-4c91-bc7a-d224f9776683",
   "metadata": {},
   "outputs": [
    {
     "data": {
      "text/plain": [
       "fu3 (generic function with 1 method)"
      ]
     },
     "execution_count": 4,
     "metadata": {},
     "output_type": "execute_result"
    }
   ],
   "source": [
    "function fu3(bo, n)\n",
    "    \n",
    "    if bo\n",
    "    \n",
    "        va = 0\n",
    "        \n",
    "    end\n",
    "    \n",
    "    for _ in 1:n\n",
    "\n",
    "        va += 1\n",
    "\n",
    "    end\n",
    "    \n",
    "    va\n",
    "    \n",
    "end"
   ]
  },
  {
   "cell_type": "code",
   "execution_count": 5,
   "id": "60705edd-f7c1-4659-880c-b57d6396bc3c",
   "metadata": {},
   "outputs": [
    {
     "data": {
      "text/plain": [
       "0"
      ]
     },
     "execution_count": 5,
     "metadata": {},
     "output_type": "execute_result"
    }
   ],
   "source": [
    "fu3(true, 0)"
   ]
  },
  {
   "cell_type": "code",
   "execution_count": 6,
   "id": "60852cd4-0471-4708-a869-f01d88c77200",
   "metadata": {},
   "outputs": [
    {
     "ename": "LoadError",
     "evalue": "UndefVarError: va not defined",
     "output_type": "error",
     "traceback": [
      "UndefVarError: va not defined",
      "",
      "Stacktrace:",
      " [1] fu3(bo::Bool, n::Int64)",
      "   @ Main ./In[4]:11",
      " [2] top-level scope",
      "   @ In[6]:1",
      " [3] eval",
      "   @ ./boot.jl:368 [inlined]",
      " [4] include_string(mapexpr::typeof(REPL.softscope), mod::Module, code::String, filename::String)",
      "   @ Base ./loading.jl:1428"
     ]
    }
   ],
   "source": [
    "fu3(false, 1)"
   ]
  },
  {
   "cell_type": "code",
   "execution_count": 7,
   "id": "5959015b-30a7-484c-875b-567715aaffa6",
   "metadata": {},
   "outputs": [
    {
     "data": {
      "text/plain": [
       "fu4 (generic function with 1 method)"
      ]
     },
     "execution_count": 7,
     "metadata": {},
     "output_type": "execute_result"
    }
   ],
   "source": [
    "function fu4(bo, n)\n",
    "    \n",
    "    if bo\n",
    "    \n",
    "        va = 0\n",
    "        \n",
    "    end\n",
    "    \n",
    "    for _ in 1:n\n",
    "\n",
    "        va = 1\n",
    "\n",
    "    end\n",
    "    \n",
    "    va\n",
    "    \n",
    "end"
   ]
  },
  {
   "cell_type": "code",
   "execution_count": 8,
   "id": "f53c9295-f7cb-4655-ae83-50c04a937daf",
   "metadata": {},
   "outputs": [
    {
     "data": {
      "text/plain": [
       "0"
      ]
     },
     "execution_count": 8,
     "metadata": {},
     "output_type": "execute_result"
    }
   ],
   "source": [
    "fu4(true, 0)"
   ]
  },
  {
   "cell_type": "code",
   "execution_count": 9,
   "id": "17f07cb2-e447-4b52-8ee3-52f23283f2e7",
   "metadata": {},
   "outputs": [
    {
     "data": {
      "text/plain": [
       "1"
      ]
     },
     "execution_count": 9,
     "metadata": {},
     "output_type": "execute_result"
    }
   ],
   "source": [
    "fu4(false, 1)"
   ]
  }
 ],
 "metadata": {
  "kernelspec": {
   "display_name": "Julia 1.8.3",
   "language": "julia",
   "name": "julia-1.8"
  },
  "language_info": {
   "file_extension": ".jl",
   "mimetype": "application/julia",
   "name": "julia",
   "version": "1.8.3"
  }
 },
 "nbformat": 4,
 "nbformat_minor": 5
}
