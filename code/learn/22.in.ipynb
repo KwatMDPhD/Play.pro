{
 "cells": [
  {
   "cell_type": "code",
   "execution_count": null,
   "id": "028212bf-8d9e-4080-bfe0-3a48741a86d2",
   "metadata": {},
   "outputs": [],
   "source": [
    "for po in (2, 3, 4, 5, 6, 7)\n",
    "    \n",
    "    println(po)\n",
    "    \n",
    "    st_ = [join(rand('a':'z', 8)) for _ in 1:10^po]\n",
    "\n",
    "    se = Set(st_)\n",
    "\n",
    "    la = st_[end]\n",
    "\n",
    "    @btime $la in $st_\n",
    "\n",
    "    @btime $la in Set($st_)\n",
    "\n",
    "    @btime Set($st_)\n",
    "\n",
    "    @btime $la in $se\n",
    "    \n",
    "end"
   ]
  },
  {
   "cell_type": "markdown",
   "id": "63e72002-c5aa-4863-8832-0a68dfa19618",
   "metadata": {},
   "source": [
    "In my computer, if I need to loop up 10 (the second trial / the first trial) times or more, I make a `Set`."
   ]
  }
 ],
 "metadata": {
  "kernelspec": {
   "display_name": "Julia 1.8.3",
   "language": "julia",
   "name": "julia-1.8"
  },
  "language_info": {
   "file_extension": ".jl",
   "mimetype": "application/julia",
   "name": "julia",
   "version": "1.8.3"
  }
 },
 "nbformat": 4,
 "nbformat_minor": 5
}
