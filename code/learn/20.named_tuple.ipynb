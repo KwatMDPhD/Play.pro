{
 "cells": [
  {
   "cell_type": "code",
   "execution_count": 1,
   "id": "a03509f3-8e8d-446b-a91d-a77acf2ac710",
   "metadata": {},
   "outputs": [
    {
     "data": {
      "text/plain": [
       "(In = 1:9, Fl = 1.0:1.0:9.0)"
      ]
     },
     "execution_count": 1,
     "metadata": {},
     "output_type": "execute_result"
    }
   ],
   "source": [
    "na = (In=1:9, Fl=1.0:9)"
   ]
  },
  {
   "cell_type": "code",
   "execution_count": 2,
   "id": "fadf37e4-b32f-443f-bc27-f0e4d262e9ca",
   "metadata": {},
   "outputs": [
    {
     "name": "stdout",
     "output_type": "stream",
     "text": [
      "MethodInstance for getproperty(::NamedTuple{(:In, :Fl), Tuple{UnitRange{Int64}, StepRangeLen{Float64, Base.TwicePrecision{Float64}, Base.TwicePrecision{Float64}, Int64}}}, ::Symbol)\n",
      "  from getproperty(x, f::Symbol) in Base at Base.jl:38\n",
      "Arguments\n",
      "  #self#\u001b[36m::Core.Const(getproperty)\u001b[39m\n",
      "  x\u001b[36m::NamedTuple{(:In, :Fl), Tuple{UnitRange{Int64}, StepRangeLen{Float64, Base.TwicePrecision{Float64}, Base.TwicePrecision{Float64}, Int64}}}\u001b[39m\n",
      "  f\u001b[36m::Symbol\u001b[39m\n",
      "Body\u001b[91m\u001b[1m::Union{StepRangeLen{Float64, Base.TwicePrecision{Float64}, Base.TwicePrecision{Float64}, Int64}, UnitRange{Int64}}\u001b[22m\u001b[39m\n",
      "\u001b[90m1 ─\u001b[39m      nothing\n",
      "\u001b[90m│  \u001b[39m %2 = Base.getfield(x, f)\u001b[91m\u001b[1m::Union{StepRangeLen{Float64, Base.TwicePrecision{Float64}, Base.TwicePrecision{Float64}, Int64}, UnitRange{Int64}}\u001b[22m\u001b[39m\n",
      "\u001b[90m└──\u001b[39m      return %2\n",
      "\n"
     ]
    }
   ],
   "source": [
    "# At compile time, the compiler does not know that the `Symbol` is `:Char`.\n",
    "# It compiles getproperty(ta, ::Symbol), which returns `Vector{Any}`.\n",
    "@code_warnaype na.In"
   ]
  },
  {
   "cell_type": "code",
   "execution_count": 3,
   "id": "7ffbb15c-6cbe-4608-bbdf-862ae24928fe",
   "metadata": {},
   "outputs": [
    {
     "name": "stdout",
     "output_type": "stream",
     "text": [
      "MethodInstance for (::var\"#1#2\")(::NamedTuple{(:In, :Fl), Tuple{UnitRange{Int64}, StepRangeLen{Float64, Base.TwicePrecision{Float64}, Base.TwicePrecision{Float64}, Int64}}})\n",
      "  from (::var\"#1#2\")(na) in Main at In[3]:3\n",
      "Arguments\n",
      "  #self#\u001b[36m::Core.Const(var\"#1#2\"())\u001b[39m\n",
      "  na\u001b[36m::NamedTuple{(:In, :Fl), Tuple{UnitRange{Int64}, StepRangeLen{Float64, Base.TwicePrecision{Float64}, Base.TwicePrecision{Float64}, Int64}}}\u001b[39m\n",
      "Body\u001b[36m::UnitRange{Int64}\u001b[39m\n",
      "\u001b[90m1 ─\u001b[39m %1 = Base.getproperty(na, :In)\u001b[36m::UnitRange{Int64}\u001b[39m\n",
      "\u001b[90m└──\u001b[39m      return %1\n",
      "\n"
     ]
    }
   ],
   "source": [
    "# At compile time, the compiler knows that the `Symbol` is `:Char`.\n",
    "# It compiles getproperty(ta, :Char), which returns `Vector{Char}`.\n",
    "@code_warnaype (na->na.In)(na)"
   ]
  },
  {
   "cell_type": "markdown",
   "id": "38dd8b6d-a911-46fd-bcf7-682b9bab7ed5",
   "metadata": {},
   "source": [
    "If the compiler knows the columns extracted from a `NamedTuple` at compile time, the compiler optimizes code and return type."
   ]
  },
  {
   "cell_type": "code",
   "execution_count": 9,
   "id": "b2bcbbd1-a30e-46a2-9c50-de6adc12c87c",
   "metadata": {},
   "outputs": [],
   "source": [
    "na = (ab=[1, 2], cd=[3.0, 4.0], ef=[true, false])\n",
    "\n",
    "luffy(na, id) = na[id]\n",
    "\n",
    "dragon(na) = luffy(na, 1)\n",
    "\n",
    ";"
   ]
  },
  {
   "cell_type": "code",
   "execution_count": 10,
   "id": "3168a91c-29bf-444f-aec2-632df993d0b5",
   "metadata": {},
   "outputs": [
    {
     "name": "stdout",
     "output_type": "stream",
     "text": [
      "MethodInstance for luffy(::NamedTuple{(:ab, :cd, :ef), Tuple{Vector{Int64}, Vector{Float64}, Vector{Bool}}}, ::Int64)\n",
      "  from luffy(na, id) in Main at In[9]:3\n",
      "Arguments\n",
      "  #self#\u001b[36m::Core.Const(luffy)\u001b[39m\n",
      "  na\u001b[36m::NamedTuple{(:ab, :cd, :ef), Tuple{Vector{Int64}, Vector{Float64}, Vector{Bool}}}\u001b[39m\n",
      "  id\u001b[36m::Int64\u001b[39m\n",
      "Body\u001b[91m\u001b[1m::Union{Vector{Bool}, Vector{Float64}, Vector{Int64}}\u001b[22m\u001b[39m\n",
      "\u001b[90m1 ─\u001b[39m %1 = Base.getindex(na, id)\u001b[91m\u001b[1m::Union{Vector{Bool}, Vector{Float64}, Vector{Int64}}\u001b[22m\u001b[39m\n",
      "\u001b[90m└──\u001b[39m      return %1\n",
      "\n"
     ]
    }
   ],
   "source": [
    "@code_warntype luffy(na, 1)"
   ]
  },
  {
   "cell_type": "code",
   "execution_count": null,
   "id": "c91ba352-39f3-42cc-84bc-9b74c5185868",
   "metadata": {},
   "outputs": [],
   "source": [
    "@code_warntype dragon(na)"
   ]
  },
  {
   "cell_type": "markdown",
   "id": "32c71232-6863-435d-a81d-7407eadae72a",
   "metadata": {},
   "source": [
    "It is not enough to have a type-stable data structure but also type-stable code."
   ]
  }
 ],
 "metadata": {
  "kernelspec": {
   "display_name": "Julia 1.8.3",
   "language": "julia",
   "name": "julia-1.8"
  },
  "language_info": {
   "file_extension": ".jl",
   "mimetype": "application/julia",
   "name": "julia",
   "version": "1.8.3"
  }
 },
 "nbformat": 4,
 "nbformat_minor": 5
}
