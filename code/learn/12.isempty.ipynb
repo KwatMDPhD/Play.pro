{
 "cells": [
  {
   "cell_type": "markdown",
   "id": "b6107dd4-1178-4743-a04f-fb8e3445b4c8",
   "metadata": {},
   "source": [
    "`isempty` is general in terms of Julia yet specific in terms of operations, making it fast."
   ]
  },
  {
   "cell_type": "code",
   "execution_count": 2,
   "id": "36a47ef1-695c-46c9-9f17-f1fde38538cd",
   "metadata": {},
   "outputs": [
    {
     "name": "stdout",
     "output_type": "stream",
     "text": [
      "Set{Any}()\n",
      "  2.083 ns (0 allocations: 0 bytes)\n",
      "  2.125 ns (0 allocations: 0 bytes)\n",
      "  9.844 ns (0 allocations: 0 bytes)\n",
      "Set([2, 1])\n",
      "  2.083 ns (0 allocations: 0 bytes)\n",
      "  2.125 ns (0 allocations: 0 bytes)\n",
      "  2.416 ns (0 allocations: 0 bytes)\n",
      "Dict{Any, Any}()\n",
      "  2.125 ns (0 allocations: 0 bytes)\n",
      "  2.125 ns (0 allocations: 0 bytes)\n",
      "  10.468 ns (0 allocations: 0 bytes)\n",
      "Dict(\"1\" => 1, \"2\" => 2)\n",
      "  2.125 ns (0 allocations: 0 bytes)\n",
      "  2.125 ns (0 allocations: 0 bytes)\n",
      "  4.583 ns (0 allocations: 0 bytes)\n",
      "\n",
      "  2.125 ns (0 allocations: 0 bytes)\n",
      "  3.041 ns (0 allocations: 0 bytes)\n",
      "  3.375 ns (0 allocations: 0 bytes)\n",
      "12\n",
      "  2.125 ns (0 allocations: 0 bytes)\n",
      "  3.958 ns (0 allocations: 0 bytes)\n",
      "  3.333 ns (0 allocations: 0 bytes)\n",
      "()\n",
      "  1.167 ns (0 allocations: 0 bytes)\n",
      "  1.208 ns (0 allocations: 0 bytes)\n",
      "  1.208 ns (0 allocations: 0 bytes)\n",
      "(1, 2)\n",
      "  1.208 ns (0 allocations: 0 bytes)\n",
      "  1.208 ns (0 allocations: 0 bytes)\n",
      "  1.166 ns (0 allocations: 0 bytes)\n",
      "Any[]\n",
      "  2.125 ns (0 allocations: 0 bytes)\n",
      "  2.125 ns (0 allocations: 0 bytes)\n",
      "  5.250 ns (0 allocations: 0 bytes)\n",
      "[1, 2]\n",
      "  2.084 ns (0 allocations: 0 bytes)\n",
      "  2.083 ns (0 allocations: 0 bytes)\n",
      "  4.625 ns (0 allocations: 0 bytes)\n"
     ]
    }
   ],
   "source": [
    "for (em, co) in (\n",
    "    (Set(), Set((1, 2))),\n",
    "    (Dict(), Dict(\"1\" => 1 ,\"2\"=>2)),\n",
    "    (\"\", \"12\"),\n",
    "    ((), (1,2)),\n",
    "    ([], [1,2]),\n",
    ")\n",
    "    \n",
    "    for co2 in (em, co)\n",
    "\n",
    "        println(co2)\n",
    "\n",
    "        @btime isempty($co2)\n",
    "\n",
    "        @btime length($co2) == 0\n",
    "\n",
    "        @btime $co2 == $em\n",
    "        \n",
    "    end\n",
    "    \n",
    "end"
   ]
  }
 ],
 "metadata": {
  "kernelspec": {
   "display_name": "Julia 1.8.3",
   "language": "julia",
   "name": "julia-1.8"
  },
  "language_info": {
   "file_extension": ".jl",
   "mimetype": "application/julia",
   "name": "julia",
   "version": "1.8.3"
  }
 },
 "nbformat": 4,
 "nbformat_minor": 5
}
