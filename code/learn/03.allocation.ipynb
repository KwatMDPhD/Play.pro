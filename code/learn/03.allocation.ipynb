{
 "cells": [
  {
   "cell_type": "markdown",
   "id": "89b50c35-b961-4905-a8a5-84c08481eaca",
   "metadata": {},
   "source": [
    "The stack is for small immutable concrete objects.\n",
    "The compiler knows their current and later states.\n",
    "The stack objects are fast to work with.\n",
    "\n",
    "The heap is for all other objects.\n",
    "These objects have unknown types, sizes, fields, or other attributes and can even change to something else.\n",
    "The heap objects are slow to work with.\n",
    "\n",
    "One allocation means that one object was born in the heap."
   ]
  },
  {
   "cell_type": "code",
   "execution_count": 15,
   "id": "a7de511e-3b8f-44ac-b7bb-466e3ad6d51b",
   "metadata": {},
   "outputs": [
    {
     "name": "stdout",
     "output_type": "stream",
     "text": [
      "  1.208 ns (0 allocations: 0 bytes)\n",
      "  1.208 ns (0 allocations: 0 bytes)\n",
      "  2.125 ns (0 allocations: 0 bytes)\n",
      "  1.166 ns (0 allocations: 0 bytes)\n"
     ]
    }
   ],
   "source": [
    "# These objects are hard-coded (immutable) and concrete.\n",
    "\n",
    "@btime 1\n",
    "\n",
    "@btime 'a'\n",
    "\n",
    "@btime \"a\"\n",
    "\n",
    "@btime ()\n",
    "\n",
    ";"
   ]
  },
  {
   "cell_type": "code",
   "execution_count": 16,
   "id": "a5ac7ebb-b674-4844-b6d4-3edab191be9b",
   "metadata": {},
   "outputs": [
    {
     "name": "stdout",
     "output_type": "stream",
     "text": [
      "  16.074 ns (1 allocation: 48 bytes)\n",
      "  57.986 ns (4 allocations: 384 bytes)\n",
      "  58.325 ns (4 allocations: 512 bytes)\n"
     ]
    }
   ],
   "source": [
    "# These objects are not concrete.\n",
    "\n",
    "@btime []\n",
    "\n",
    "@btime Set()\n",
    "\n",
    "@btime Dict()\n",
    "\n",
    ";"
   ]
  },
  {
   "cell_type": "code",
   "execution_count": 22,
   "id": "0cc301da-9e35-4d98-b77d-430a5b1fd6ad",
   "metadata": {},
   "outputs": [],
   "source": [
    "va = 1\n",
    "\n",
    "const vac = 1\n",
    "\n",
    ";"
   ]
  },
  {
   "cell_type": "code",
   "execution_count": 46,
   "id": "f249b5bd-8f71-444c-8821-1af34b6a26f6",
   "metadata": {},
   "outputs": [
    {
     "name": "stdout",
     "output_type": "stream",
     "text": [
      "  16.784 ns (1 allocation: 64 bytes)\n",
      "  90.168 ns (4 allocations: 400 bytes)\n",
      "  58.494 ns (4 allocations: 528 bytes)\n"
     ]
    }
   ],
   "source": [
    "# These containers have known types but not size, so they are not concrete and are born in the heap.\n",
    "\n",
    "@btime Char[]\n",
    "\n",
    "@btime Set{Float64}()\n",
    "\n",
    "@btime Dict{String, Int}()\n",
    "\n",
    ";"
   ]
  },
  {
   "cell_type": "code",
   "execution_count": 47,
   "id": "2c317456-bf9c-4d2a-9636-b7b3d8602883",
   "metadata": {},
   "outputs": [
    {
     "name": "stdout",
     "output_type": "stream",
     "text": [
      "  1.166 ns (0 allocations: 0 bytes)\n",
      "  17.743 ns (1 allocation: 144 bytes)\n"
     ]
    }
   ],
   "source": [
    "# All the values are born in the stack but the containers difffer.\n",
    "\n",
    "@btime (1,2,3,4,5,6,7,8,9,10)\n",
    "\n",
    "@btime [1,2,3,4,5,6,7,8,9,10]\n",
    "\n",
    ";"
   ]
  },
  {
   "cell_type": "code",
   "execution_count": 43,
   "id": "bbba515b-66d9-49f0-a323-d24b0e32ec06",
   "metadata": {},
   "outputs": [
    {
     "name": "stdout",
     "output_type": "stream",
     "text": [
      "  416.246 ns (2 allocations: 96 bytes)\n",
      "  17.493 ns (1 allocation: 64 bytes)\n"
     ]
    }
   ],
   "source": [
    "# Using the mutable version allocates `Any[]` and then, after infering its type during run time, `Bool[]`.\n",
    "\n",
    "@btime [nu == va for nu in (1,2,3)]\n",
    "\n",
    "@btime [nu == vac for nu in (1,2,3)]\n",
    "\n",
    ";"
   ]
  },
  {
   "cell_type": "markdown",
   "id": "6fc5767e-d729-490f-8b36-066152fa109b",
   "metadata": {},
   "source": [
    "Profile allocations to see this temporary `Any[]` allocation."
   ]
  },
  {
   "cell_type": "code",
   "execution_count": 44,
   "id": "89c43ff2-2df2-4a99-aca1-39852b343112",
   "metadata": {},
   "outputs": [
    {
     "data": {
      "text/plain": [
       "fuc (generic function with 1 method)"
      ]
     },
     "execution_count": 44,
     "metadata": {},
     "output_type": "execute_result"
    }
   ],
   "source": [
    "function fu()\n",
    "    \n",
    "    [nu == va for nu in (1,2,3)]\n",
    "    \n",
    "end\n",
    "\n",
    "function fuc()\n",
    "    \n",
    "    [nu == vac for nu in (1,2,3)]\n",
    "    \n",
    "end"
   ]
  },
  {
   "cell_type": "code",
   "execution_count": 42,
   "id": "0fb081a8-49d3-49a0-9282-b6bf051bde37",
   "metadata": {},
   "outputs": [
    {
     "name": "stdout",
     "output_type": "stream",
     "text": [
      "  414.362 ns (2 allocations: 96 bytes)\n",
      "  17.452 ns (1 allocation: 64 bytes)\n"
     ]
    }
   ],
   "source": [
    "@btime fu()\n",
    "\n",
    "@btime fuc()\n",
    "\n",
    ";"
   ]
  },
  {
   "cell_type": "code",
   "execution_count": 37,
   "id": "b071c072-7614-4fa1-b418-33f010f6216d",
   "metadata": {},
   "outputs": [
    {
     "data": {
      "text/plain": [
       "\"alloc-profile.pb.gz\""
      ]
     },
     "execution_count": 37,
     "metadata": {},
     "output_type": "execute_result"
    },
    {
     "name": "stderr",
     "output_type": "stream",
     "text": [
      "Main binary filename not available.\n",
      "Serving web UI on http://localhost:62261\n"
     ]
    }
   ],
   "source": [
    "Profile.Allocs.clear()\n",
    "\n",
    "Profile.Allocs.@profile sample_rate=1 fu()\n",
    "\n",
    "PProf.Allocs.pprof(from_c=false)"
   ]
  },
  {
   "cell_type": "code",
   "execution_count": 39,
   "id": "009ad3ad-0562-435d-9475-287e210031ee",
   "metadata": {},
   "outputs": [
    {
     "data": {
      "text/plain": [
       "\"alloc-profile.pb.gz\""
      ]
     },
     "execution_count": 39,
     "metadata": {},
     "output_type": "execute_result"
    },
    {
     "name": "stderr",
     "output_type": "stream",
     "text": [
      "Main binary filename not available.\n",
      "Serving web UI on http://localhost:62261\n"
     ]
    }
   ],
   "source": [
    "Profile.Allocs.clear()\n",
    "\n",
    "Profile.Allocs.@profile sample_rate=1 fuc()\n",
    "\n",
    "PProf.Allocs.pprof(from_c=false)"
   ]
  }
 ],
 "metadata": {
  "kernelspec": {
   "display_name": "Julia 1.8.3",
   "language": "julia",
   "name": "julia-1.8"
  },
  "language_info": {
   "file_extension": ".jl",
   "mimetype": "application/julia",
   "name": "julia",
   "version": "1.8.3"
  }
 },
 "nbformat": 4,
 "nbformat_minor": 5
}
