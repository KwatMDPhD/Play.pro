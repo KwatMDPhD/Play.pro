{
 "cells": [
  {
   "cell_type": "markdown",
   "id": "bfb70f09-4fab-451f-aa37-fe6fddd9c44a",
   "metadata": {},
   "source": [
    "`Char`s are concrete, so they always occupy 4 bytes (this is why an empty `Char` '' can not exist):"
   ]
  },
  {
   "cell_type": "code",
   "execution_count": 1,
   "id": "3c9332a2-ab4f-43a0-8b57-466816bf9894",
   "metadata": {},
   "outputs": [
    {
     "data": {
      "text/plain": [
       "4"
      ]
     },
     "execution_count": 1,
     "metadata": {},
     "output_type": "execute_result"
    }
   ],
   "source": [
    "sizeof(Char)"
   ]
  },
  {
   "cell_type": "code",
   "execution_count": 2,
   "id": "16ad67aa-db03-4675-a6e2-5f7c4a283b81",
   "metadata": {},
   "outputs": [
    {
     "data": {
      "text/plain": [
       "4"
      ]
     },
     "execution_count": 2,
     "metadata": {},
     "output_type": "execute_result"
    }
   ],
   "source": [
    "sizeof('a')"
   ]
  },
  {
   "cell_type": "markdown",
   "id": "224357d5-a3ed-4355-ba96-451ca670f5ba",
   "metadata": {},
   "source": [
    "On the other hand, `String`s are mutable in size, like `Array`s:"
   ]
  },
  {
   "cell_type": "code",
   "execution_count": 3,
   "id": "010beea8-427d-48d2-9da5-85832645f5ca",
   "metadata": {},
   "outputs": [
    {
     "name": "stdout",
     "output_type": "stream",
     "text": [
      "Type Array does not have a definite size.\n",
      "Type String does not have a definite size.\n"
     ]
    }
   ],
   "source": [
    "for ty in (Array, String)\n",
    "    \n",
    "    try\n",
    "\n",
    "        sizeof(ty)\n",
    "\n",
    "    catch er\n",
    "\n",
    "        println(er.msg)\n",
    "\n",
    "    end\n",
    "    \n",
    "end"
   ]
  },
  {
   "cell_type": "code",
   "execution_count": 4,
   "id": "ab26f0f6-09ba-41a7-a74d-5c3955ae5096",
   "metadata": {},
   "outputs": [
    {
     "name": "stdout",
     "output_type": "stream",
     "text": [
      "0\n",
      "1\n",
      "2\n",
      "3\n",
      "9\n"
     ]
    }
   ],
   "source": [
    "for st in (\n",
    "    \"\",\n",
    "    \"a\",\n",
    "    \"aa\",\n",
    "    \"aaa\",\n",
    "    \"aaaaaaaaa\",\n",
    ")\n",
    "    \n",
    "    println(sizeof(st))\n",
    "\n",
    "end\n"
   ]
  },
  {
   "cell_type": "markdown",
   "id": "04b800f2-69ee-41a2-8db7-5f5ab6b7fd42",
   "metadata": {},
   "source": [
    "Because `Char`s are concrete, they are born in the stack and are faster to work with than `String`s:"
   ]
  },
  {
   "cell_type": "code",
   "execution_count": 5,
   "id": "64cc6ca2-9be4-4dcd-9ad8-dd9a85fe3a44",
   "metadata": {},
   "outputs": [
    {
     "name": "stdout",
     "output_type": "stream",
     "text": [
      "  3.917 ns (0 allocations: 0 bytes)\n"
     ]
    },
    {
     "data": {
      "text/plain": [
       "true"
      ]
     },
     "execution_count": 5,
     "metadata": {},
     "output_type": "execute_result"
    }
   ],
   "source": [
    "xs = ('a', 'c', 'e')\n",
    "\n",
    "ys = ('a', 'b', 'c', 'd', 'e')\n",
    "\n",
    "@btime all(x in $ys for x in $xs)"
   ]
  },
  {
   "cell_type": "code",
   "execution_count": 6,
   "id": "2e8833d2-b08a-4999-b02d-37ff1d5a7e69",
   "metadata": {},
   "outputs": [
    {
     "name": "stdout",
     "output_type": "stream",
     "text": [
      "  33.366 ns (0 allocations: 0 bytes)\n"
     ]
    },
    {
     "data": {
      "text/plain": [
       "true"
      ]
     },
     "execution_count": 6,
     "metadata": {},
     "output_type": "execute_result"
    }
   ],
   "source": [
    "xs = (\"a\", \"c\", \"e\")\n",
    "\n",
    "ys = (\"a\", \"b\", \"c\", \"d\", \"e\")\n",
    "\n",
    "@btime all(x in $ys for x in $xs)"
   ]
  }
 ],
 "metadata": {
  "kernelspec": {
   "display_name": "Julia 1.8.3",
   "language": "julia",
   "name": "julia-1.8"
  },
  "language_info": {
   "file_extension": ".jl",
   "mimetype": "application/julia",
   "name": "julia",
   "version": "1.8.3"
  }
 },
 "nbformat": 4,
 "nbformat_minor": 5
}
