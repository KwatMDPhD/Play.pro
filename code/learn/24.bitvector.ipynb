{
 "cells": [
  {
   "cell_type": "code",
   "execution_count": 1,
   "id": "a7428674-5603-4250-a402-8bf227a1f344",
   "metadata": {},
   "outputs": [
    {
     "name": "stdout",
     "output_type": "stream",
     "text": [
      "(Vector{Bool}, DenseVector{Bool}, AbstractVector{Bool}, Any)\n",
      "1000\n",
      "  27.485 ns (0 allocations: 0 bytes)\n"
     ]
    },
    {
     "data": {
      "text/plain": [
       "497"
      ]
     },
     "execution_count": 1,
     "metadata": {},
     "output_type": "execute_result"
    }
   ],
   "source": [
    "bo_ = rand((false, true), 10^3)\n",
    "\n",
    "println(supertypes(typeof(bo_)))\n",
    "\n",
    "println(sizeof(bo_))\n",
    "\n",
    "@btime sum($bo_)"
   ]
  },
  {
   "cell_type": "code",
   "execution_count": 9,
   "id": "51ac6e34-c447-4a3f-99a4-1c3d6be8b5fb",
   "metadata": {},
   "outputs": [
    {
     "name": "stdout",
     "output_type": "stream",
     "text": [
      "(BitVector, AbstractVector{Bool}, Any)\n",
      "128\n",
      "  4.875 ns (0 allocations: 0 bytes)\n"
     ]
    },
    {
     "data": {
      "text/plain": [
       "490"
      ]
     },
     "execution_count": 9,
     "metadata": {},
     "output_type": "execute_result"
    }
   ],
   "source": [
    "bi_ = BitVector(bo_)\n",
    "\n",
    "println(supertypes(typeof(bi_)))\n",
    "\n",
    "println(sizeof(bi_))\n",
    "\n",
    "@btime sum($bi_)"
   ]
  },
  {
   "cell_type": "markdown",
   "id": "a74510b3-cb8f-4bc8-a477-774a47221055",
   "metadata": {},
   "source": [
    "Making `BitVector` takes more time but it is smaller and faster to operate on."
   ]
  }
 ],
 "metadata": {
  "kernelspec": {
   "display_name": "Julia 1.8.3",
   "language": "julia",
   "name": "julia-1.8"
  },
  "language_info": {
   "file_extension": ".jl",
   "mimetype": "application/julia",
   "name": "julia",
   "version": "1.8.3"
  }
 },
 "nbformat": 4,
 "nbformat_minor": 5
}
