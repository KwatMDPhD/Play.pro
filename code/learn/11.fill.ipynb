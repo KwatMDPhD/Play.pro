{
 "cells": [
  {
   "cell_type": "code",
   "execution_count": 1,
   "id": "2e6269ab-cb15-4541-9fb0-80f554c631c7",
   "metadata": {},
   "outputs": [],
   "source": [
    "n = 10^2\n",
    "\n",
    "si = (n, n)\n",
    "\n",
    ";"
   ]
  },
  {
   "cell_type": "code",
   "execution_count": 2,
   "id": "de9b3e7d-ea4a-4ce9-b269-97819e469b4a",
   "metadata": {},
   "outputs": [
    {
     "name": "stdout",
     "output_type": "stream",
     "text": [
      "  33.064 ns (1 allocation: 896 bytes)\n",
      "  32.495 ns (1 allocation: 896 bytes)\n",
      "  851.667 ns (2 allocations: 78.17 KiB)\n",
      "  843.750 ns (2 allocations: 78.17 KiB)\n"
     ]
    }
   ],
   "source": [
    "@btime fill(0.0, $n)\n",
    "\n",
    "@btime zeros($n)\n",
    "\n",
    "@btime fill(0.0, $si)\n",
    "\n",
    "@btime zeros($si)\n",
    "\n",
    ";"
   ]
  },
  {
   "cell_type": "code",
   "execution_count": 3,
   "id": "c3b7073e-8286-49e4-8299-7a18ac9a4a62",
   "metadata": {},
   "outputs": [
    {
     "name": "stdout",
     "output_type": "stream",
     "text": [
      "  32.655 ns (1 allocation: 896 bytes)\n",
      "  32.663 ns (1 allocation: 896 bytes)\n",
      "  828.667 ns (2 allocations: 78.17 KiB)\n",
      "  851.107 ns (2 allocations: 78.17 KiB)\n"
     ]
    }
   ],
   "source": [
    "@btime fill(0, $n)\n",
    "\n",
    "@btime zeros(Int, $n)\n",
    "\n",
    "@btime fill(0, $si)\n",
    "\n",
    "@btime zeros(Int, $si)\n",
    "\n",
    ";"
   ]
  },
  {
   "cell_type": "code",
   "execution_count": 4,
   "id": "e32d1ef5-5b3e-401e-828e-a52c428ab35f",
   "metadata": {},
   "outputs": [
    {
     "name": "stdout",
     "output_type": "stream",
     "text": [
      "  32.035 ns (1 allocation: 896 bytes)\n",
      "  31.993 ns (1 allocation: 896 bytes)\n",
      "  1.125 μs (2 allocations: 78.17 KiB)\n",
      "  1.100 μs (2 allocations: 78.17 KiB)\n"
     ]
    }
   ],
   "source": [
    "@btime fill(1.0, $n)\n",
    "\n",
    "@btime ones($n)\n",
    "\n",
    "@btime fill(1.0, $si)\n",
    "\n",
    "@btime ones($si)\n",
    "\n",
    ";"
   ]
  },
  {
   "cell_type": "code",
   "execution_count": 5,
   "id": "1e038758-cc6e-470c-ad42-7f207c7f009e",
   "metadata": {},
   "outputs": [
    {
     "name": "stdout",
     "output_type": "stream",
     "text": [
      "  32.538 ns (1 allocation: 896 bytes)\n",
      "  33.300 ns (1 allocation: 896 bytes)\n",
      "  1.183 μs (2 allocations: 78.17 KiB)\n",
      "  1.141 μs (2 allocations: 78.17 KiB)\n"
     ]
    }
   ],
   "source": [
    "@btime fill(1, $n)\n",
    "\n",
    "@btime ones(Int, $n)\n",
    "\n",
    "@btime fill(1, $si)\n",
    "\n",
    "@btime ones(Int, $si)\n",
    "\n",
    ";"
   ]
  },
  {
   "cell_type": "markdown",
   "id": "de0364df-6aa4-439e-aa39-2454501b160d",
   "metadata": {},
   "source": [
    "Use more speicfic `zeros` and `ones` instead of `fill` to make an array.\n",
    "\n",
    "Pre-allocating and using `fill!` is even better."
   ]
  }
 ],
 "metadata": {
  "kernelspec": {
   "display_name": "Julia 1.8.3",
   "language": "julia",
   "name": "julia-1.8"
  },
  "language_info": {
   "file_extension": ".jl",
   "mimetype": "application/julia",
   "name": "julia",
   "version": "1.8.3"
  }
 },
 "nbformat": 4,
 "nbformat_minor": 5
}
