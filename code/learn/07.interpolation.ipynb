{
 "cells": [
  {
   "cell_type": "code",
   "execution_count": 7,
   "id": "55af89e0-9854-440c-a589-dbe762c6a384",
   "metadata": {},
   "outputs": [
    {
     "name": "stderr",
     "output_type": "stream",
     "text": [
      "WARNING: redefinition of constant nuac_. This may fail, cause incorrect answers, or produce other errors.\n"
     ]
    }
   ],
   "source": [
    "nua_ = [1, 2, 3]\n",
    "\n",
    "const nuac_ = [1, 2, 3]\n",
    "\n",
    "nut_ = (1, 2, 3)\n",
    "\n",
    "const nutc_ = (1, 2, 3)\n",
    "\n",
    ";"
   ]
  },
  {
   "cell_type": "markdown",
   "id": "ba4edf93-e45b-470c-b583-bcfb7d200205",
   "metadata": {},
   "source": [
    "Letting the compiler know about all variable types (that do not change) allows it to optimize the code at compile time.\n",
    "\n",
    "Interpolated, hard-coded objects are made in a non-global block before benchmarking starts, and the compiler knows about them.\n",
    "\n",
    "Accessing such object takes a fraction of ns.\n",
    "\n",
    "Non-constant global variables, even the ones pointing to an immutable type like `Tuple`, can be redirected (by other code) to another type at run time."
   ]
  },
  {
   "cell_type": "code",
   "execution_count": 8,
   "id": "1f46fd4a-2afa-49c7-9598-1eb74293227f",
   "metadata": {},
   "outputs": [],
   "source": [
    "# The output makes a `Int[]` (allocation)."
   ]
  },
  {
   "cell_type": "code",
   "execution_count": 9,
   "id": "2ba55b0a-693f-443d-bd3a-10586f1b821a",
   "metadata": {},
   "outputs": [
    {
     "name": "stdout",
     "output_type": "stream",
     "text": [
      "  174.508 ns (2 allocations: 96 bytes)\n",
      "  20.311 ns (1 allocation: 80 bytes)\n"
     ]
    }
   ],
   "source": [
    "# Only at run time, the compiler gets to know about the input type `Int` and makes an intermediate `Int[]` (allocation) to optimize the code for.\n",
    "@btime map(nu->nu^2, nua_)\n",
    "\n",
    "# Interpolation lets the compiler know about it at compile time.\n",
    "@btime map(nu->nu^2, $nua_)\n",
    "\n",
    ";"
   ]
  },
  {
   "cell_type": "code",
   "execution_count": 10,
   "id": "ebb8269f-99d9-4c95-9ec5-074ed3bc4dfd",
   "metadata": {},
   "outputs": [
    {
     "name": "stdout",
     "output_type": "stream",
     "text": [
      "  36.800 ns (2 allocations: 160 bytes)\n",
      "  20.269 ns (1 allocation: 80 bytes)\n"
     ]
    }
   ],
   "source": [
    "# A hard-coded `Int[1, 2, 3]` is made (allocated) and the compiler knows about its type.\n",
    "@btime map(nu->nu^2, [1, 2, 3])\n",
    "\n",
    "# Making in the same block is faster.\n",
    "@btime map(nu->nu^2, $[1, 2, 3])\n",
    "\n",
    ";"
   ]
  },
  {
   "cell_type": "code",
   "execution_count": 11,
   "id": "a12ce07d-69fa-4fd5-8af6-571b89b66fd3",
   "metadata": {},
   "outputs": [
    {
     "name": "stdout",
     "output_type": "stream",
     "text": [
      "  20.394 ns (1 allocation: 80 bytes)\n",
      "  20.311 ns (1 allocation: 80 bytes)\n"
     ]
    }
   ],
   "source": [
    "# The compiler knows about the types of constant variables.\n",
    "@btime map(nu->nu^2, nuac_)\n",
    "\n",
    "# Interpolation does not matter.\n",
    "@btime map(nu->nu^2, $nuac_)\n",
    "\n",
    ";"
   ]
  },
  {
   "cell_type": "code",
   "execution_count": 13,
   "id": "0d116d7d-b8bc-48ef-a8a3-1fc5dfa51023",
   "metadata": {},
   "outputs": [],
   "source": [
    "# The output makes a `Tuple`."
   ]
  },
  {
   "cell_type": "code",
   "execution_count": 14,
   "id": "eef7e51e-8df6-4359-8ed8-1b842f9a1035",
   "metadata": {},
   "outputs": [
    {
     "name": "stdout",
     "output_type": "stream",
     "text": [
      "  17.576 ns (1 allocation: 32 bytes)\n",
      "  2.125 ns (0 allocations: 0 bytes)\n"
     ]
    }
   ],
   "source": [
    "# Only at run time, the compiler gets to know about the input type `Int` and makes an intermediate `Int[]` (allocation) to optimize the code for.\n",
    "@btime map(nu->nu^2, nut_)\n",
    "\n",
    "# Interpolation lets the compiler know about it at compile time.\n",
    "@btime map(nu->nu^2, $nut_)\n",
    ";"
   ]
  },
  {
   "cell_type": "code",
   "execution_count": null,
   "id": "1236727a-3417-4b2f-b306-cdad01cb4e28",
   "metadata": {},
   "outputs": [],
   "source": [
    "# A hard-coded `Tuple` is made and the compiler knows about its type.\n",
    "@btime map(nu->nu^2, (1, 2, 3))\n",
    "\n",
    "# Making in the same block is faster.\n",
    "@btime map(nu->nu^2, $(1, 2, 3))\n",
    "\n",
    ";"
   ]
  },
  {
   "cell_type": "code",
   "execution_count": null,
   "id": "7fce5929-aa70-4e67-9531-c5327d9a2450",
   "metadata": {},
   "outputs": [],
   "source": [
    "# The compiler knows about the types of interpolated variables.\n",
    "@btime map(nu->nu^2, $nutc_)\n",
    "\n",
    "# Interpolation does not matter.\n",
    "@btime map(nu->nu^2, nutc_)\n",
    "\n",
    ";"
   ]
  },
  {
   "cell_type": "code",
   "execution_count": 15,
   "id": "93bde75c-f3cd-4cea-aab6-174f74e0e90b",
   "metadata": {},
   "outputs": [],
   "source": [
    "# The compiler knows about these inputs.\n",
    "\n",
    "@btime [nu^2 for nu in $nua_]\n",
    "\n",
    "@btime [nu^2 for nu in $[1, 2, 3]]\n",
    "\n",
    "@btime [nu^2 for nu in $nut_]\n",
    "\n",
    "@btime [nu^2 for nu in $(1, 2, 3)]\n",
    "\n",
    "@btime [nu^2 for nu in (1, 2, 3)]\n",
    "\n",
    "@btime [nu^2 for nu in $[1, 2, 3]]\n",
    "\n",
    "# The hard-coded object is made (allocated) during benchmarking.\n",
    "@btime [nu^2 for nu in [1, 2, 3]]\n",
    "\n",
    ";"
   ]
  },
  {
   "cell_type": "code",
   "execution_count": 16,
   "id": "64c15587-63cf-462d-a6b2-6d123c40845f",
   "metadata": {},
   "outputs": [
    {
     "name": "stdout",
     "output_type": "stream",
     "text": [
      "  20.520 ns (1 allocation: 80 bytes)\n",
      "  88.411 ns (2 allocations: 96 bytes)\n",
      "  17.242 ns (1 allocation: 80 bytes)\n",
      "  87.495 ns (2 allocations: 112 bytes)\n"
     ]
    },
    {
     "data": {
      "text/plain": [
       "3-element Vector{Int64}:\n",
       " 1\n",
       " 4\n",
       " 9"
      ]
     },
     "execution_count": 16,
     "metadata": {},
     "output_type": "execute_result"
    }
   ],
   "source": [
    "# Accessing mutable variables results in an allocation of temporary typed, immutable counterparts.\n",
    "\n",
    "@btime [nu^2 for nu in nuac_]\n",
    "\n",
    "@btime [nu^2 for nu in nua_]\n",
    "\n",
    "@btime [nu^2 for nu in nutc_]\n",
    "\n",
    "@btime [nu^2 for nu in nut_]\n",
    "\n",
    ";"
   ]
  }
 ],
 "metadata": {
  "kernelspec": {
   "display_name": "Julia 1.8.3",
   "language": "julia",
   "name": "julia-1.8"
  },
  "language_info": {
   "file_extension": ".jl",
   "mimetype": "application/julia",
   "name": "julia",
   "version": "1.8.3"
  }
 },
 "nbformat": 4,
 "nbformat_minor": 5
}
