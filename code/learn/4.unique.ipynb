{
 "cells": [
  {
   "cell_type": "code",
   "execution_count": 1,
   "id": "16f27f45-f1f4-4083-8769-a981bdafa0a5",
   "metadata": {},
   "outputs": [],
   "source": [
    "n = 10^3\n",
    "\n",
    "in_ = collect(1:n)\n",
    "\n",
    "fl_ = float.(in_)\n",
    "\n",
    "ch_ = [Char(i[1]) for i in in_]\n",
    "\n",
    "st_ = string.(in_);\n",
    "\n",
    ";"
   ]
  },
  {
   "cell_type": "markdown",
   "id": "0303c889-3723-42ce-a6e9-f2413e96f6d8",
   "metadata": {},
   "source": [
    "`Int`, the smallest concrete type here, is the fastest: \n",
    "\n",
    "`String` is not concrete only after one is created and the computer knows its size, so it is slow to work with:"
   ]
  },
  {
   "cell_type": "code",
   "execution_count": 2,
   "id": "66f39dfc-fe75-4f2f-a8f5-4788456cefc2",
   "metadata": {},
   "outputs": [
    {
     "name": "stdout",
     "output_type": "stream",
     "text": [
      "Int64: 8\n",
      "Float64: 8\n",
      "Char: 4\n",
      "String: Type String does not have a definite size.\n"
     ]
    }
   ],
   "source": [
    "for ty in (Int, Float64, Char, String)\n",
    "    \n",
    "    print(\"$ty: \")\n",
    "    \n",
    "    try\n",
    "        \n",
    "        println(sizeof(ty))\n",
    "        \n",
    "    catch er\n",
    "        \n",
    "        println(er.msg)\n",
    "        \n",
    "    end\n",
    "    \n",
    "end "
   ]
  },
  {
   "cell_type": "markdown",
   "id": "0a9f7663-dc4c-4920-a44d-687bf4559b4d",
   "metadata": {},
   "source": [
    "`unique` allocates the most, so it is the slowest (avoid it):"
   ]
  },
  {
   "cell_type": "code",
   "execution_count": 3,
   "id": "968062ad-1162-401a-b14f-576e0569bf19",
   "metadata": {},
   "outputs": [
    {
     "name": "stdout",
     "output_type": "stream",
     "text": [
      "  196.645 ns (7 allocations: 880 bytes)\n",
      "  226.832 ns (7 allocations: 880 bytes)\n",
      "  197.196 ns (7 allocations: 624 bytes)\n",
      "  401.328 ns (7 allocations: 848 bytes)\n"
     ]
    }
   ],
   "source": [
    "@btime unique($in_)\n",
    "\n",
    "@btime unique($fl_)\n",
    "\n",
    "@btime unique($ch_)\n",
    "\n",
    "@btime unique($st_)\n",
    "\n",
    ";"
   ]
  },
  {
   "cell_type": "markdown",
   "id": "e9b86f13-7c96-4b40-9009-13e4921ff6b7",
   "metadata": {},
   "source": [
    "`Set` always allocates 7 times and is faster:"
   ]
  },
  {
   "cell_type": "code",
   "execution_count": 4,
   "id": "7830f591-49df-451a-b7f7-00949681b142",
   "metadata": {},
   "outputs": [
    {
     "name": "stdout",
     "output_type": "stream",
     "text": [
      "  98.865 ns (4 allocations: 400 bytes)\n",
      "  127.690 ns (4 allocations: 400 bytes)\n",
      "  102.533 ns (4 allocations: 336 bytes)\n",
      "  197.285 ns (4 allocations: 384 bytes)\n"
     ]
    }
   ],
   "source": [
    "@btime Set($in_)\n",
    "\n",
    "@btime Set($fl_)\n",
    "\n",
    "@btime Set($ch_)\n",
    "\n",
    "@btime Set($st_)\n",
    "\n",
    ";"
   ]
  },
  {
   "cell_type": "markdown",
   "id": "d1305d89-8b27-4b4b-aef7-2d9dfa10757b",
   "metadata": {},
   "source": [
    "`unique!` allocates 0 for the number types and more than 7 for the letter types.\n",
    "\n",
    "So it is the fastest for working with the numbers and slower than `Set` for the letters:"
   ]
  },
  {
   "cell_type": "code",
   "execution_count": 5,
   "id": "600d06bb-2908-40cc-abcd-12266b7a9c51",
   "metadata": {},
   "outputs": [
    {
     "name": "stdout",
     "output_type": "stream",
     "text": [
      "  18.202 ns (0 allocations: 0 bytes)\n",
      "  24.389 ns (0 allocations: 0 bytes)\n",
      "  123.846 ns (4 allocations: 336 bytes)\n",
      "  350.467 ns (4 allocations: 384 bytes)\n"
     ]
    }
   ],
   "source": [
    "@btime unique!($in_)\n",
    "\n",
    "@btime unique!($fl_)\n",
    "\n",
    "@btime unique!($ch_)\n",
    "\n",
    "@btime unique!($st_)\n",
    "\n",
    ";"
   ]
  },
  {
   "cell_type": "markdown",
   "id": "cee071d6-bcf6-4960-8172-68f0872788ff",
   "metadata": {},
   "source": [
    "`Set` is the fastest for working with `Char` and `String`.\n",
    "\n",
    "`unique!` is the fastest for working with `Int` and `Float64`."
   ]
  },
  {
   "cell_type": "markdown",
   "id": "48618646-a022-4ee4-8c6d-12e28ea7fbfe",
   "metadata": {},
   "source": [
    "However, the content matters.\n",
    "\n",
    "Contents with repeats slow down `Set` more:"
   ]
  },
  {
   "cell_type": "code",
   "execution_count": 10,
   "id": "1f79922c-eaab-4f23-a4f5-61853ed54157",
   "metadata": {},
   "outputs": [
    {
     "name": "stdout",
     "output_type": "stream",
     "text": [
      "  21.792 μs (7 allocations: 880 bytes)\n",
      "  29.791 μs (7 allocations: 144.59 KiB)\n",
      "  18.202 ns (0 allocations: 0 bytes)\n"
     ]
    }
   ],
   "source": [
    "inr_ = repeat(1:10, n)\n",
    "\n",
    "@btime unique($inr_)\n",
    "\n",
    "@btime Set($inr_)\n",
    "\n",
    "@btime unique!($inr_)\n",
    "\n",
    ";"
   ]
  }
 ],
 "metadata": {
  "kernelspec": {
   "display_name": "Julia 1.8.3",
   "language": "julia",
   "name": "julia-1.8"
  },
  "language_info": {
   "file_extension": ".jl",
   "mimetype": "application/julia",
   "name": "julia",
   "version": "1.8.3"
  }
 },
 "nbformat": 4,
 "nbformat_minor": 5
}
