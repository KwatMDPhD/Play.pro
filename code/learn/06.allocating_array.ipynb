{
 "cells": [
  {
   "cell_type": "code",
   "execution_count": 10,
   "id": "1c722797-1b1c-498c-8ab5-9541cd6a7587",
   "metadata": {},
   "outputs": [
    {
     "name": "stdout",
     "output_type": "stream",
     "text": [
      "0\n",
      "0\n",
      "0\n",
      "0\n",
      "0\n",
      "0\n"
     ]
    }
   ],
   "source": [
    "# `Vector`s have a size of 0 and are born in the heap.\n",
    "\n",
    "for ve in (\n",
    "    [],\n",
    "    String[],\n",
    "    Int[],\n",
    "    Float64[],\n",
    "    Float32[],\n",
    "    Char[],\n",
    ")\n",
    "    \n",
    "    println(sizeof(ve))\n",
    "    \n",
    "end "
   ]
  },
  {
   "cell_type": "code",
   "execution_count": 11,
   "id": "59dadcfd-6c3d-412d-8421-bceea817eae3",
   "metadata": {},
   "outputs": [
    {
     "name": "stdout",
     "output_type": "stream",
     "text": [
      "  16.115 ns (1 allocation: 48 bytes)\n",
      "  16.115 ns (1 allocation: 48 bytes)\n",
      "  16.784 ns (1 allocation: 64 bytes)\n",
      "  16.784 ns (1 allocation: 64 bytes)\n",
      "  16.784 ns (1 allocation: 64 bytes)\n",
      "  16.784 ns (1 allocation: 64 bytes)\n"
     ]
    }
   ],
   "source": [
    "@btime []\n",
    "\n",
    "# `String[]` uses also 48 bytes like 'Any[]`, perhaps because `String` does not have a definite size like `Any`.\n",
    "@btime String[]\n",
    "\n",
    "@btime Int[]\n",
    "\n",
    "@btime Float64[]\n",
    "\n",
    "@btime Float32[]\n",
    "\n",
    "@btime Char[]\n",
    "\n",
    ";"
   ]
  },
  {
   "cell_type": "code",
   "execution_count": 12,
   "id": "f14a28b7-ee6b-49ee-a5c5-106330309fc8",
   "metadata": {},
   "outputs": [
    {
     "name": "stdout",
     "output_type": "stream",
     "text": [
      "  16.115 ns (1 allocation: 48 bytes)\n"
     ]
    },
    {
     "data": {
      "text/plain": [
       "Any[]"
      ]
     },
     "execution_count": 12,
     "metadata": {},
     "output_type": "execute_result"
    }
   ],
   "source": [
    "@btime [;]"
   ]
  },
  {
   "cell_type": "code",
   "execution_count": 13,
   "id": "d806a51b-fbc0-4e0c-8c93-4d7c555cbe92",
   "metadata": {},
   "outputs": [
    {
     "name": "stdout",
     "output_type": "stream",
     "text": [
      "  17.327 ns (1 allocation: 48 bytes)\n"
     ]
    },
    {
     "data": {
      "text/plain": [
       "0×0 Matrix{Any}"
      ]
     },
     "execution_count": 13,
     "metadata": {},
     "output_type": "execute_result"
    }
   ],
   "source": [
    "@btime [;;]"
   ]
  }
 ],
 "metadata": {
  "kernelspec": {
   "display_name": "Julia 1.8.3",
   "language": "julia",
   "name": "julia-1.8"
  },
  "language_info": {
   "file_extension": ".jl",
   "mimetype": "application/julia",
   "name": "julia",
   "version": "1.8.3"
  }
 },
 "nbformat": 4,
 "nbformat_minor": 5
}
