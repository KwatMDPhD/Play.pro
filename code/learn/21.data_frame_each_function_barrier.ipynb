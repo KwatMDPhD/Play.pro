{
 "cells": [
  {
   "cell_type": "code",
   "execution_count": 1,
   "id": "d8a938e3-0311-4226-8291-d470661152f5",
   "metadata": {},
   "outputs": [],
   "source": [
    "using DataFrames\n",
    "\n",
    "using Tables"
   ]
  },
  {
   "cell_type": "code",
   "execution_count": 2,
   "id": "c0dd4587-ce6f-49f2-b26e-a3bc7c975c02",
   "metadata": {},
   "outputs": [],
   "source": [
    "n = 10^2\n",
    "\n",
    "ro_x_co_x_an = DataFrame(\n",
    "    \"In\"=>rand(1:9, n),\n",
    "    \"Fl\"=>rand(1.0:9, n),\n",
    "    \"Ch\"=>rand('a':'z', n),\n",
    "    \"St4\"=>[join(rand('a':'z', 4)) for _ in 1:n],\n",
    "    \"St8\"=>[join(rand('a':'z', 8)) for _ in 1:n],\n",
    ")\n",
    "\n",
    ";"
   ]
  },
  {
   "cell_type": "markdown",
   "id": "6e242cc2-0891-49ca-b4f4-b4d05b5853e8",
   "metadata": {},
   "source": [
    "What is the best way to read one DataFrame column?"
   ]
  },
  {
   "cell_type": "code",
   "execution_count": 3,
   "id": "324d0cbd-e10c-420b-9053-5846a14b6dde",
   "metadata": {},
   "outputs": [
    {
     "name": "stdout",
     "output_type": "stream",
     "text": [
      "  2.083 ns (0 allocations: 0 bytes)\n",
      "  79.588 ns (0 allocations: 0 bytes)\n",
      "  152.402 ns (1 allocation: 48 bytes)\n"
     ]
    }
   ],
   "source": [
    "# Everything in `()` is evaluated before the trial, making this a bad benchmark.\n",
    "@btime $(ro_x_co_x_an[!, \"St4\"])\n",
    "\n",
    "# Evaluate the global mutable variable (interpolate) so that the compiler knows more.\n",
    "@btime $ro_x_co_x_an[!, \"St4\"]\n",
    "\n",
    "# `view` allocates and is slower (a surprise).\n",
    "@btime view($ro_x_co_x_an, !, \"St4\")\n",
    "\n",
    ";"
   ]
  },
  {
   "cell_type": "markdown",
   "id": "a3c766e8-16e6-4de0-846b-9e9326abb3da",
   "metadata": {},
   "source": [
    "What is the best way to read two DataFrame columns?"
   ]
  },
  {
   "cell_type": "code",
   "execution_count": 4,
   "id": "22de9ef8-8c42-4492-b11d-17de12e0b8f3",
   "metadata": {},
   "outputs": [
    {
     "name": "stdout",
     "output_type": "stream",
     "text": [
      "  10.041 μs (504 allocations: 17.31 KiB)\n",
      "  14.250 μs (220 allocations: 7.98 KiB)\n"
     ]
    }
   ],
   "source": [
    "# `zip` DataFrame.\n",
    "function zi(da)\n",
    "    \n",
    "    for (a, b) in zip(da[!, \"St4\"], da[!, \"St8\"])\n",
    "        \n",
    "    end\n",
    "    \n",
    "end\n",
    "\n",
    "# `eachrow` DataFrame.\n",
    "function ea(da)\n",
    "    \n",
    "    for (a, b) in eachrow(da[!, [\"St4\", \"St8\"]])\n",
    "        \n",
    "    end\n",
    "    \n",
    "end\n",
    "\n",
    "# `zip` method allocates more but is faster.\n",
    "\n",
    "@btime zi($ro_x_co_x_an)\n",
    "\n",
    "@btime ea($ro_x_co_x_an)\n",
    "\n",
    ";"
   ]
  },
  {
   "cell_type": "code",
   "execution_count": 10,
   "id": "f07c037c-8797-4d00-9c19-400edc7f8802",
   "metadata": {},
   "outputs": [
    {
     "name": "stdout",
     "output_type": "stream",
     "text": [
      "  19.833 μs (813 allocations: 31.20 KiB)\n",
      "  22.042 μs (910 allocations: 31.20 KiB)\n",
      "MethodInstance for mea(::DataFrame)\n",
      "  from mea(da) in Main at In[10]:13\n",
      "Arguments\n",
      "  #self#\u001b[36m::Core.Const(mea)\u001b[39m\n",
      "  da\u001b[36m::DataFrame\u001b[39m\n",
      "Locals\n",
      "  @_3\u001b[33m\u001b[1m::Union{Nothing, Tuple{Any, Int64}}\u001b[22m\u001b[39m\n",
      "  ma\u001b[91m\u001b[1m::Matrix\u001b[22m\u001b[39m\n",
      "  @_5\u001b[91m\u001b[1m::Any\u001b[22m\u001b[39m\n",
      "  b\u001b[91m\u001b[1m::Any\u001b[22m\u001b[39m\n",
      "  a\u001b[91m\u001b[1m::Any\u001b[22m\u001b[39m\n",
      "Body\u001b[36m::Nothing\u001b[39m\n",
      "\u001b[90m1 ─\u001b[39m       (ma = Main.Matrix(da))\n",
      "\u001b[90m│  \u001b[39m %2  = ma\u001b[91m\u001b[1m::Matrix\u001b[22m\u001b[39m\n",
      "\u001b[90m│  \u001b[39m %3  = Base.vect(4, 5)\u001b[36m::Vector{Int64}\u001b[39m\n",
      "\u001b[90m│  \u001b[39m %4  = Base.getindex(%2, Main.:(:), %3)\u001b[91m\u001b[1m::Matrix\u001b[22m\u001b[39m\n",
      "\u001b[90m│  \u001b[39m %5  = Main.eachrow(%4)\u001b[91m\u001b[1m::Base.Generator{Base.OneTo{Int64}}\u001b[22m\u001b[39m\n",
      "\u001b[90m│  \u001b[39m       (@_3 = Base.iterate(%5))\n",
      "\u001b[90m│  \u001b[39m %7  = (@_3 === nothing)\u001b[36m::Bool\u001b[39m\n",
      "\u001b[90m│  \u001b[39m %8  = Base.not_int(%7)\u001b[36m::Bool\u001b[39m\n",
      "\u001b[90m└──\u001b[39m       goto #4 if not %8\n",
      "\u001b[90m2 ┄\u001b[39m %10 = @_3\u001b[91m\u001b[1m::Tuple{Any, Int64}\u001b[22m\u001b[39m\n",
      "\u001b[90m│  \u001b[39m %11 = Core.getfield(%10, 1)\u001b[91m\u001b[1m::Any\u001b[22m\u001b[39m\n",
      "\u001b[90m│  \u001b[39m %12 = Base.indexed_iterate(%11, 1)\u001b[91m\u001b[1m::Any\u001b[22m\u001b[39m\n",
      "\u001b[90m│  \u001b[39m       (a = Core.getfield(%12, 1))\n",
      "\u001b[90m│  \u001b[39m       (@_5 = Core.getfield(%12, 2))\n",
      "\u001b[90m│  \u001b[39m %15 = Base.indexed_iterate(%11, 2, @_5)\u001b[91m\u001b[1m::Any\u001b[22m\u001b[39m\n",
      "\u001b[90m│  \u001b[39m       (b = Core.getfield(%15, 1))\n",
      "\u001b[90m│  \u001b[39m %17 = Core.getfield(%10, 2)\u001b[36m::Int64\u001b[39m\n",
      "\u001b[90m│  \u001b[39m       (@_3 = Base.iterate(%5, %17))\n",
      "\u001b[90m│  \u001b[39m %19 = (@_3 === nothing)\u001b[36m::Bool\u001b[39m\n",
      "\u001b[90m│  \u001b[39m %20 = Base.not_int(%19)\u001b[36m::Bool\u001b[39m\n",
      "\u001b[90m└──\u001b[39m       goto #4 if not %20\n",
      "\u001b[90m3 ─\u001b[39m       goto #2\n",
      "\u001b[90m4 ┄\u001b[39m       return nothing\n",
      "\n"
     ]
    }
   ],
   "source": [
    "# Make `Matrix` and `zip`.\n",
    "function mzi(da)\n",
    "    \n",
    "    ma = Matrix(da)\n",
    "    \n",
    "    for (a, b) in zip(ma[:, 4], ma[:, 5])\n",
    "        \n",
    "    end\n",
    "    \n",
    "end\n",
    "\n",
    "# Make `Matrix` and `eachrow`.\n",
    "function mea(da)\n",
    "    \n",
    "    ma = Matrix(da)\n",
    "    \n",
    "    for (a, b) in eachrow(ma[:, [4, 5]])\n",
    "        \n",
    "    end\n",
    "    \n",
    "end\n",
    "\n",
    "# `Matrix`ing is slower...\n",
    "\n",
    "@btime mzi($ro_x_co_x_an)\n",
    "\n",
    "@btime mea($ro_x_co_x_an)\n",
    "\n",
    ";\n",
    "\n",
    "@code_warntype mea(ro_x_co_x_an)"
   ]
  },
  {
   "cell_type": "markdown",
   "id": "b69d6757-0be1-414d-b248-ce173710e246",
   "metadata": {},
   "source": [
    "Does breaking the functions into smaller ones improve the performance?"
   ]
  },
  {
   "cell_type": "code",
   "execution_count": 6,
   "id": "5c1c9aaf-b40c-41d5-91fb-1a8ba2dd9f7b",
   "metadata": {},
   "outputs": [
    {
     "name": "stdout",
     "output_type": "stream",
     "text": [
      "  2.593 μs (105 allocations: 5.86 KiB)\n"
     ]
    }
   ],
   "source": [
    "# The part of the code to make a `Matrix`.\n",
    "function mt(da)\n",
    "    \n",
    "    Matrix(da)\n",
    "    \n",
    "end\n",
    "\n",
    "@btime mt($ro_x_co_x_an)\n",
    "\n",
    ";"
   ]
  },
  {
   "cell_type": "code",
   "execution_count": 11,
   "id": "332ad033-3be4-4077-9d4f-d655871fc28d",
   "metadata": {},
   "outputs": [
    {
     "name": "stdout",
     "output_type": "stream",
     "text": [
      "  303.336 ns (2 allocations: 1.75 KiB)\n",
      "  332.392 ns (2 allocations: 1.84 KiB)\n",
      "MethodInstance for maea(::Matrix{Any})\n",
      "  from maea(ma) in Main at In[11]:11\n",
      "Arguments\n",
      "  #self#\u001b[36m::Core.Const(maea)\u001b[39m\n",
      "  ma\u001b[36m::Matrix{Any}\u001b[39m\n",
      "Locals\n",
      "  @_3\u001b[33m\u001b[1m::Union{Nothing, Tuple{SubArray{Any, 1, Matrix{Any}, Tuple{Int64, Base.Slice{Base.OneTo{Int64}}}, true}, Int64}}\u001b[22m\u001b[39m\n",
      "  @_4\u001b[36m::Tuple{Base.OneTo{Int64}, Int64}\u001b[39m\n",
      "  b\u001b[91m\u001b[1m::Any\u001b[22m\u001b[39m\n",
      "  a\u001b[91m\u001b[1m::Any\u001b[22m\u001b[39m\n",
      "Body\u001b[36m::Nothing\u001b[39m\n",
      "\u001b[90m1 ─\u001b[39m %1  = Base.vect(4, 5)\u001b[36m::Vector{Int64}\u001b[39m\n",
      "\u001b[90m│  \u001b[39m %2  = Base.getindex(ma, Main.:(:), %1)\u001b[36m::Matrix{Any}\u001b[39m\n",
      "\u001b[90m│  \u001b[39m %3  = Main.eachrow(%2)\u001b[36m::Base.Generator{Base.OneTo{Int64}, Base.var\"#240#241\"{Matrix{Any}}}\u001b[39m\n",
      "\u001b[90m│  \u001b[39m       (@_3 = Base.iterate(%3))\n",
      "\u001b[90m│  \u001b[39m %5  = (@_3 === nothing)\u001b[36m::Bool\u001b[39m\n",
      "\u001b[90m│  \u001b[39m %6  = Base.not_int(%5)\u001b[36m::Bool\u001b[39m\n",
      "\u001b[90m└──\u001b[39m       goto #4 if not %6\n",
      "\u001b[90m2 ┄\u001b[39m %8  = @_3\u001b[36m::Tuple{SubArray{Any, 1, Matrix{Any}, Tuple{Int64, Base.Slice{Base.OneTo{Int64}}}, true}, Int64}\u001b[39m\n",
      "\u001b[90m│  \u001b[39m %9  = Core.getfield(%8, 1)\u001b[36m::SubArray{Any, 1, Matrix{Any}, Tuple{Int64, Base.Slice{Base.OneTo{Int64}}}, true}\u001b[39m\n",
      "\u001b[90m│  \u001b[39m %10 = Base.indexed_iterate(%9, 1)\u001b[91m\u001b[1m::Tuple{Any, Tuple{Base.OneTo{Int64}, Int64}}\u001b[22m\u001b[39m\n",
      "\u001b[90m│  \u001b[39m       (a = Core.getfield(%10, 1))\n",
      "\u001b[90m│  \u001b[39m       (@_4 = Core.getfield(%10, 2))\n",
      "\u001b[90m│  \u001b[39m %13 = Base.indexed_iterate(%9, 2, @_4)\u001b[91m\u001b[1m::Tuple{Any, Tuple{Base.OneTo{Int64}, Int64}}\u001b[22m\u001b[39m\n",
      "\u001b[90m│  \u001b[39m       (b = Core.getfield(%13, 1))\n",
      "\u001b[90m│  \u001b[39m %15 = Core.getfield(%8, 2)\u001b[36m::Int64\u001b[39m\n",
      "\u001b[90m│  \u001b[39m       (@_3 = Base.iterate(%3, %15))\n",
      "\u001b[90m│  \u001b[39m %17 = (@_3 === nothing)\u001b[36m::Bool\u001b[39m\n",
      "\u001b[90m│  \u001b[39m %18 = Base.not_int(%17)\u001b[36m::Bool\u001b[39m\n",
      "\u001b[90m└──\u001b[39m       goto #4 if not %18\n",
      "\u001b[90m3 ─\u001b[39m       goto #2\n",
      "\u001b[90m4 ┄\u001b[39m       return nothing\n",
      "\n"
     ]
    }
   ],
   "source": [
    "# The part of the code to `zip`.\n",
    "function mazi(ma)\n",
    "    \n",
    "    for (a, b) in zip(ma[:, 4], ma[:, 5])\n",
    "        \n",
    "    end\n",
    "    \n",
    "end\n",
    "\n",
    "# The part of the code to `eachrow`.\n",
    "function maea(ma)\n",
    "    \n",
    "    for (a, b) in eachrow(ma[:, [4, 5]])\n",
    "        \n",
    "    end\n",
    "    \n",
    "end\n",
    "\n",
    "ma = Matrix(ro_x_co_x_an)\n",
    "\n",
    "@btime mazi($ma)\n",
    "\n",
    "@btime maea($ma)\n",
    "\n",
    ";\n",
    "\n",
    "@code_warntype maea(ma)"
   ]
  },
  {
   "cell_type": "markdown",
   "id": "97a086bf-ae98-4af4-94fa-b8fcad73a064",
   "metadata": {},
   "source": [
    "Sum of the parts (3 us + 0.3 us = 3.3 us) were less than their combined (20 us).\n",
    "\n",
    "Does substituting these parts improve the performance?"
   ]
  },
  {
   "cell_type": "code",
   "execution_count": null,
   "id": "79a26fa8-0b2b-402d-ad2c-eef32e191d9a",
   "metadata": {},
   "outputs": [],
   "source": [
    "# Use a function to barrier the code that makes a `Matirx`.\n",
    "\n",
    "function mt_mzi(da)\n",
    "    \n",
    "    ma = mt(da)\n",
    "    \n",
    "    for (a, b) in zip(ma[:, 4], ma[:, 5])\n",
    "        \n",
    "    end\n",
    "    \n",
    "end\n",
    "\n",
    "function mt_mea(da)\n",
    "    \n",
    "    ma = mt(da)\n",
    "    \n",
    "    for (a, b) in eachrow(ma[:, [4, 5]])\n",
    "        \n",
    "    end\n",
    "    \n",
    "end\n",
    "\n",
    "@btime mt_mzi($ro_x_co_x_an)\n",
    "\n",
    "@btime mt_mea($ro_x_co_x_an)\n",
    "\n",
    ";"
   ]
  },
  {
   "cell_type": "code",
   "execution_count": null,
   "id": "fe4ddfad-4e8e-40b3-8905-e8f8a3429e30",
   "metadata": {},
   "outputs": [],
   "source": [
    "# Using a function to barrier the code that loops a `Matirx`.\n",
    "\n",
    "function _mazi(da)\n",
    "    \n",
    "    ma = Matrix(da)\n",
    "    \n",
    "    mazi(ma)\n",
    "    \n",
    "end\n",
    "\n",
    "function _maea(da)\n",
    "    \n",
    "    ma = Matrix(da)\n",
    "    \n",
    "    maea(ma)\n",
    "    \n",
    "end\n",
    "\n",
    "@btime _mazi($ro_x_co_x_an)\n",
    "\n",
    "@btime _maea($ro_x_co_x_an)\n",
    "\n",
    ";"
   ]
  },
  {
   "cell_type": "code",
   "execution_count": null,
   "id": "43baf279-3273-4b8e-9307-3a8f678ec209",
   "metadata": {},
   "outputs": [],
   "source": [
    "# Barrier both.\n",
    "\n",
    "function mt_mazi(da)\n",
    "    \n",
    "    ma = mt(da)\n",
    "    \n",
    "    mazi(ma)\n",
    "    \n",
    "end\n",
    "\n",
    "function mt_maea(da)\n",
    "    \n",
    "    ma = mt(da)\n",
    "    \n",
    "    maea(ma)\n",
    "    \n",
    "end\n",
    "\n",
    "@btime mt_mazi($ro_x_co_x_an)\n",
    "\n",
    "@btime mt_maea($ro_x_co_x_an)\n",
    "\n",
    ";"
   ]
  },
  {
   "cell_type": "markdown",
   "id": "46288061-a264-4673-8c61-7f819bcf0897",
   "metadata": {},
   "source": [
    "The compiler optimizes code at function boundaries.\n",
    "Use multiple smaller functions! "
   ]
  },
  {
   "cell_type": "code",
   "execution_count": null,
   "id": "69c12434-e226-4898-a6be-64db9aa7198d",
   "metadata": {},
   "outputs": [],
   "source": [
    "@code_warntype mt_mea(ro_x_co_x_an)"
   ]
  },
  {
   "cell_type": "code",
   "execution_count": null,
   "id": "ea6775ca-a6f1-47ad-9595-f963d7d59173",
   "metadata": {},
   "outputs": [],
   "source": [
    "@code_warntype mt_maea(ro_x_co_x_an)"
   ]
  },
  {
   "cell_type": "code",
   "execution_count": null,
   "id": "8092724b-5ae1-4401-8b22-4c8a1a60fe27",
   "metadata": {},
   "outputs": [],
   "source": [
    "@code_warntype maea(ma)"
   ]
  }
 ],
 "metadata": {
  "kernelspec": {
   "display_name": "Julia 1.8.3",
   "language": "julia",
   "name": "julia-1.8"
  },
  "language_info": {
   "file_extension": ".jl",
   "mimetype": "application/julia",
   "name": "julia",
   "version": "1.8.3"
  }
 },
 "nbformat": 4,
 "nbformat_minor": 5
}
