{
 "cells": [
  {
   "cell_type": "code",
   "execution_count": 1,
   "id": "d8a938e3-0311-4226-8291-d470661152f5",
   "metadata": {},
   "outputs": [],
   "source": [
    "using DataFrames\n",
    "\n",
    "using Tables"
   ]
  },
  {
   "cell_type": "code",
   "execution_count": 2,
   "id": "c0dd4587-ce6f-49f2-b26e-a3bc7c975c02",
   "metadata": {},
   "outputs": [],
   "source": [
    "n = 10^2\n",
    "\n",
    "ro_x_co_x_an = DataFrame(\n",
    "    \"In\"=>rand(1:9, n),\n",
    "    \"Fl\"=>rand(1.0:9, n),\n",
    "    \"Ch\"=>rand('a':'z', n),\n",
    "    \"St4\"=>[join(rand('a':'z', 4)) for _ in 1:n],\n",
    "    \"St8\"=>[join(rand('a':'z', 8)) for _ in 1:n],\n",
    ")\n",
    "\n",
    ";"
   ]
  },
  {
   "cell_type": "markdown",
   "id": "6e242cc2-0891-49ca-b4f4-b4d05b5853e8",
   "metadata": {},
   "source": [
    "What is the best way to read one DataFrame column?"
   ]
  },
  {
   "cell_type": "code",
   "execution_count": 3,
   "id": "324d0cbd-e10c-420b-9053-5846a14b6dde",
   "metadata": {},
   "outputs": [
    {
     "name": "stdout",
     "output_type": "stream",
     "text": [
      "  2.125 ns (0 allocations: 0 bytes)\n",
      "  121.050 ns (0 allocations: 0 bytes)\n",
      "  97.427 ns (0 allocations: 0 bytes)\n",
      "  189.233 ns (1 allocation: 48 bytes)\n"
     ]
    }
   ],
   "source": [
    "# Everything in `()` is evaluated before the trial, making this a bad benchmark.\n",
    "@btime $(ro_x_co_x_an[!, \"St4\"])\n",
    "\n",
    "# Evaluate the global mutable variable (interpolate) so that the compiler knows more.\n",
    "\n",
    "@btime ro_x_co_x_an[!, \"St4\"]\n",
    "\n",
    "@btime $ro_x_co_x_an[!, \"St4\"]\n",
    "\n",
    "# `view` allocates and is slower (a surprise).\n",
    "@btime view($ro_x_co_x_an, !, \"St4\")\n",
    "\n",
    ";"
   ]
  },
  {
   "cell_type": "markdown",
   "id": "a3c766e8-16e6-4de0-846b-9e9326abb3da",
   "metadata": {},
   "source": [
    "What is the best way to read two DataFrame columns?"
   ]
  },
  {
   "cell_type": "code",
   "execution_count": 4,
   "id": "22de9ef8-8c42-4492-b11d-17de12e0b8f3",
   "metadata": {},
   "outputs": [
    {
     "name": "stdout",
     "output_type": "stream",
     "text": [
      "  15.000 μs (504 allocations: 17.31 KiB)\n",
      "  21.208 μs (220 allocations: 7.98 KiB)\n"
     ]
    }
   ],
   "source": [
    "# `zip` DataFrame.\n",
    "function zi(da)\n",
    "    \n",
    "    for (a, b) in zip(da[!, \"St4\"], da[!, \"St8\"])\n",
    "        \n",
    "    end\n",
    "    \n",
    "end\n",
    "\n",
    "# `eachrow` DataFrame.\n",
    "function ea(da)\n",
    "    \n",
    "    for (a, b) in eachrow(da[!, [\"St4\", \"St8\"]])\n",
    "        \n",
    "    end\n",
    "    \n",
    "end\n",
    "\n",
    "# `zip` method allocates more but is faster.\n",
    "\n",
    "@btime zi($ro_x_co_x_an)\n",
    "\n",
    "@btime ea($ro_x_co_x_an)\n",
    "\n",
    ";"
   ]
  },
  {
   "cell_type": "code",
   "execution_count": 5,
   "id": "f07c037c-8797-4d00-9c19-400edc7f8802",
   "metadata": {},
   "outputs": [
    {
     "name": "stdout",
     "output_type": "stream",
     "text": [
      "  25.791 μs (813 allocations: 31.20 KiB)\n",
      "  32.042 μs (910 allocations: 31.20 KiB)\n"
     ]
    }
   ],
   "source": [
    "# Make `Matrix` and `zip`.\n",
    "function mzi(da)\n",
    "    \n",
    "    ma = Matrix(da)\n",
    "    \n",
    "    for (a, b) in zip(ma[:, 4], ma[:, 5])\n",
    "        \n",
    "    end\n",
    "    \n",
    "end\n",
    "\n",
    "# Make `Matrix` and `eachrow`.\n",
    "function mea(da)\n",
    "    \n",
    "    ma = Matrix(da)\n",
    "    \n",
    "    for (a, b) in eachrow(ma[:, [4, 5]])\n",
    "        \n",
    "    end\n",
    "    \n",
    "end\n",
    "\n",
    "# `Matrix`ing is slower...\n",
    "\n",
    "@btime mzi($ro_x_co_x_an)\n",
    "\n",
    "@btime mea($ro_x_co_x_an)\n",
    "\n",
    ";"
   ]
  },
  {
   "cell_type": "markdown",
   "id": "b69d6757-0be1-414d-b248-ce173710e246",
   "metadata": {},
   "source": [
    "Does breaking the functions into smaller ones improve the performance?"
   ]
  },
  {
   "cell_type": "code",
   "execution_count": 6,
   "id": "5c1c9aaf-b40c-41d5-91fb-1a8ba2dd9f7b",
   "metadata": {},
   "outputs": [
    {
     "name": "stdout",
     "output_type": "stream",
     "text": [
      "  3.083 μs (105 allocations: 5.86 KiB)\n"
     ]
    }
   ],
   "source": [
    "# The part of the code to make a `Matrix`.\n",
    "function mt(da)\n",
    "    \n",
    "    Matrix(da)\n",
    "    \n",
    "end\n",
    "\n",
    "@btime mt($ro_x_co_x_an)\n",
    "\n",
    ";"
   ]
  },
  {
   "cell_type": "code",
   "execution_count": 7,
   "id": "332ad033-3be4-4077-9d4f-d655871fc28d",
   "metadata": {},
   "outputs": [
    {
     "name": "stdout",
     "output_type": "stream",
     "text": [
      "  322.231 ns (2 allocations: 1.75 KiB)\n",
      "  361.310 ns (2 allocations: 1.84 KiB)\n"
     ]
    }
   ],
   "source": [
    "# The part of the code to `zip`.\n",
    "function mazi(ma)\n",
    "    \n",
    "    for (a, b) in zip(ma[:, 4], ma[:, 5])\n",
    "        \n",
    "    end\n",
    "    \n",
    "end\n",
    "\n",
    "# The part of the code to `eachrow`.\n",
    "function maea(ma)\n",
    "    \n",
    "    for (a, b) in eachrow(ma[:, [4, 5]])\n",
    "        \n",
    "    end\n",
    "    \n",
    "end\n",
    "\n",
    "ma = Matrix(ro_x_co_x_an)\n",
    "\n",
    "@btime mazi($ma)\n",
    "\n",
    "@btime maea($ma)\n",
    "\n",
    ";"
   ]
  },
  {
   "cell_type": "markdown",
   "id": "97a086bf-ae98-4af4-94fa-b8fcad73a064",
   "metadata": {},
   "source": [
    "Sum of the parts (3 us + 0.3 us = 3.3 us) were less than their combined (20 us).\n",
    "\n",
    "Does substituting these parts improve the performance?"
   ]
  },
  {
   "cell_type": "code",
   "execution_count": 8,
   "id": "79a26fa8-0b2b-402d-ad2c-eef32e191d9a",
   "metadata": {},
   "outputs": [
    {
     "name": "stdout",
     "output_type": "stream",
     "text": [
      "  25.709 μs (813 allocations: 31.20 KiB)\n",
      "  31.958 μs (910 allocations: 31.20 KiB)\n"
     ]
    }
   ],
   "source": [
    "# Use a function to barrier the code that makes a `Matirx`.\n",
    "\n",
    "function mt_mzi(da)\n",
    "    \n",
    "    ma = mt(da)\n",
    "    \n",
    "    for (a, b) in zip(ma[:, 4], ma[:, 5])\n",
    "        \n",
    "    end\n",
    "    \n",
    "end\n",
    "\n",
    "function mt_mea(da)\n",
    "    \n",
    "    ma = mt(da)\n",
    "    \n",
    "    for (a, b) in eachrow(ma[:, [4, 5]])\n",
    "        \n",
    "    end\n",
    "    \n",
    "end\n",
    "\n",
    "@btime mt_mzi($ro_x_co_x_an)\n",
    "\n",
    "@btime mt_mea($ro_x_co_x_an)\n",
    "\n",
    ";"
   ]
  },
  {
   "cell_type": "code",
   "execution_count": 9,
   "id": "fe4ddfad-4e8e-40b3-8905-e8f8a3429e30",
   "metadata": {},
   "outputs": [
    {
     "name": "stdout",
     "output_type": "stream",
     "text": [
      "  3.448 μs (107 allocations: 7.61 KiB)\n",
      "  3.516 μs (107 allocations: 7.70 KiB)\n"
     ]
    }
   ],
   "source": [
    "# Using a function to barrier the code that loops a `Matirx`.\n",
    "\n",
    "function _mazi(da)\n",
    "    \n",
    "    ma = Matrix(da)\n",
    "    \n",
    "    mazi(ma)\n",
    "    \n",
    "end\n",
    "\n",
    "function _maea(da)\n",
    "    \n",
    "    ma = Matrix(da)\n",
    "    \n",
    "    maea(ma)\n",
    "    \n",
    "end\n",
    "\n",
    "@btime _mazi($ro_x_co_x_an)\n",
    "\n",
    "@btime _maea($ro_x_co_x_an)\n",
    "\n",
    ";"
   ]
  },
  {
   "cell_type": "code",
   "execution_count": 10,
   "id": "43baf279-3273-4b8e-9307-3a8f678ec209",
   "metadata": {},
   "outputs": [
    {
     "name": "stdout",
     "output_type": "stream",
     "text": [
      "  3.438 μs (107 allocations: 7.61 KiB)\n",
      "  3.521 μs (107 allocations: 7.70 KiB)\n"
     ]
    }
   ],
   "source": [
    "# Barrier both.\n",
    "\n",
    "function mt_mazi(da)\n",
    "    \n",
    "    ma = mt(da)\n",
    "    \n",
    "    mazi(ma)\n",
    "    \n",
    "end\n",
    "\n",
    "function mt_maea(da)\n",
    "    \n",
    "    ma = mt(da)\n",
    "    \n",
    "    maea(ma)\n",
    "    \n",
    "end\n",
    "\n",
    "@btime mt_mazi($ro_x_co_x_an)\n",
    "\n",
    "@btime mt_maea($ro_x_co_x_an)\n",
    "\n",
    ";"
   ]
  },
  {
   "cell_type": "markdown",
   "id": "b12bf050-2519-4e15-9cec-b2eff73244f5",
   "metadata": {},
   "source": [
    "The compiler optimizes code at function boundaries.\n",
    "Use multiple smaller functions! \n",
    "\n",
    "But what is really happening here is that `DataFrame` columns can be of any type.\n",
    "`DataFrame` is not parameterized but its `field`s (columns) are.\n",
    "So, the columns can change during run time and the compiler can not know about them or objects (like `Matirx`) derived from them.\n",
    "\n",
    "At the function barrier, the compiler knows that the function gets a `DataFrame`-derived `Matrix` (but not its type) and dispatches to `Matirx{Any}`.\n",
    "The compiler does so because `Matirx` is not a concrete type but `Matrix{Any}` is.\n",
    "\n",
    "In the slower code, if we helped the compiler know that the `Matrix` is `Matrix{Any}`, the compiler does less work and the performance is even better than using the function barrier."
   ]
  },
  {
   "cell_type": "code",
   "execution_count": 11,
   "id": "110bfb94-1c5f-4fb9-ab9f-bed364bfbf54",
   "metadata": {},
   "outputs": [
    {
     "name": "stdout",
     "output_type": "stream",
     "text": [
      "  1.817 μs (104 allocations: 7.47 KiB)\n",
      "  1.846 μs (104 allocations: 7.56 KiB)\n"
     ]
    }
   ],
   "source": [
    "# Make `Matrix{Any}` and `zip`.\n",
    "function mzi(da)\n",
    "    \n",
    "    ma = Matrix{Any}(da)\n",
    "    \n",
    "    for (a, b) in zip(ma[:, 4], ma[:, 5])\n",
    "        \n",
    "    end\n",
    "    \n",
    "end\n",
    "\n",
    "# Make `Matrix{Any}` and `eachrow`.\n",
    "function mea(da)\n",
    "    \n",
    "    ma = Matrix{Any}(da)\n",
    "    \n",
    "    for (a, b) in eachrow(ma[:, [4, 5]])\n",
    "        \n",
    "    end\n",
    "    \n",
    "end\n",
    "\n",
    "# `Matrix{Any}`ing is the fastest.\n",
    "\n",
    "@btime mzi($ro_x_co_x_an)\n",
    "\n",
    "@btime mea($ro_x_co_x_an)\n",
    "\n",
    ";"
   ]
  },
  {
   "cell_type": "markdown",
   "id": "cf2b80df-c510-4965-8db5-9b5f8b304817",
   "metadata": {},
   "source": [
    "https://discourse.julialang.org/t/matrix-vs-matrix-any/90911\n",
    "\n",
    "`Matrix(::DataFrame)` makes `Matrix` not `Matrix{Any}`.\n",
    "The compiler can not know the type at compile time and must figure it out at run time.\n",
    "All subsequent operations using this object must be dynamically dispatched.\n",
    "Dynamic dispatch is like a big `if-elseif` code, which has many branches and prevents the processor from pre-computing.\n",
    "\n",
    "Typing the object with an assertion helps the compiler know the type at compile time and do optimizations.\n",
    "The compiler inlines omits, and reorders code as fit.\n",
    "We want the compiler to do more work at compile time and less at run time.\n",
    "We want the execution to be fast.\n",
    "Withtout the compiler doing work at the compile time, Julia becomes just an interpreter with high latency.\n",
    "\n",
    "`Any` is an abstract type.\n",
    "`Matrix{Any}` is also problematic for the same reason above.\n",
    "The compiler must dynamically dispatch operations for it at run time."
   ]
  }
 ],
 "metadata": {
  "kernelspec": {
   "display_name": "Julia 1.8.3",
   "language": "julia",
   "name": "julia-1.8"
  },
  "language_info": {
   "file_extension": ".jl",
   "mimetype": "application/julia",
   "name": "julia",
   "version": "1.8.3"
  }
 },
 "nbformat": 4,
 "nbformat_minor": 5
}
