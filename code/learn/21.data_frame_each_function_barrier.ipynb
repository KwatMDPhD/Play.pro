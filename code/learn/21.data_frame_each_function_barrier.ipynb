{
 "cells": [
  {
   "cell_type": "code",
   "execution_count": 7,
   "id": "d8a938e3-0311-4226-8291-d470661152f5",
   "metadata": {},
   "outputs": [],
   "source": [
    "using DataFrames\n",
    "using Tables"
   ]
  },
  {
   "cell_type": "code",
   "execution_count": 8,
   "id": "c0dd4587-ce6f-49f2-b26e-a3bc7c975c02",
   "metadata": {},
   "outputs": [],
   "source": [
    "n = 10^2\n",
    "\n",
    "ro_x_co_x_an = DataFrame(\n",
    "    \"In\"=>rand(1:9, n),\n",
    "    \"Fl\"=>rand(1.0:9, n),\n",
    "    \"Ch\"=>rand('a':'z', n),\n",
    "    \"St4\"=>[join(rand('a':'z', 4)) for _ in 1:n],\n",
    "    \"St8\"=>[join(rand('a':'z', 8)) for _ in 1:n],\n",
    ")\n",
    "\n",
    ";"
   ]
  },
  {
   "cell_type": "markdown",
   "id": "6e242cc2-0891-49ca-b4f4-b4d05b5853e8",
   "metadata": {},
   "source": [
    "What is the best way to access one DataFrame column?"
   ]
  },
  {
   "cell_type": "code",
   "execution_count": 9,
   "id": "324d0cbd-e10c-420b-9053-5846a14b6dde",
   "metadata": {},
   "outputs": [
    {
     "name": "stdout",
     "output_type": "stream",
     "text": [
      "  2.125 ns (0 allocations: 0 bytes)\n",
      "  104.766 ns (0 allocations: 0 bytes)\n",
      "  75.309 ns (0 allocations: 0 bytes)\n",
      "  148.237 ns (1 allocation: 48 bytes)\n"
     ]
    }
   ],
   "source": [
    "# Everything in `()` is evaluated before the trial, making this a bad benchamrk.\n",
    "@btime $(ro_x_co_x_an[!, \"St4\"])\n",
    "\n",
    "# Interpolate the global mutable variable so that the compiler knows more.\n",
    "\n",
    "@btime ro_x_co_x_an[!, \"St4\"]\n",
    "\n",
    "@btime $ro_x_co_x_an[!, \"St4\"]\n",
    "\n",
    "# Surprisingly, `view` allocates and is slower.\n",
    "@btime view($ro_x_co_x_an, !, \"St4\")\n",
    "\n",
    ";"
   ]
  },
  {
   "cell_type": "markdown",
   "id": "a3c766e8-16e6-4de0-846b-9e9326abb3da",
   "metadata": {},
   "source": [
    "What is the best way to access two DataFrame columns and do something simple (`string`) with them?"
   ]
  },
  {
   "cell_type": "code",
   "execution_count": 10,
   "id": "22de9ef8-8c42-4492-b11d-17de12e0b8f3",
   "metadata": {},
   "outputs": [
    {
     "name": "stdout",
     "output_type": "stream",
     "text": [
      "  12.625 μs (604 allocations: 20.44 KiB)\n",
      "  18.750 μs (320 allocations: 11.11 KiB)\n"
     ]
    }
   ],
   "source": [
    "# `zip` DataFrame.\n",
    "function zi(da)\n",
    "    \n",
    "    for (a, b) in zip(da[!, \"St4\"], da[!, \"St8\"])\n",
    "        \n",
    "        string(a, b)\n",
    "        \n",
    "    end\n",
    "    \n",
    "end\n",
    "\n",
    "# `eachrow` DataFrame.\n",
    "function ea(da)\n",
    "    \n",
    "    for (a, b) in eachrow(da[!, [\"St4\", \"St8\"]])\n",
    "        \n",
    "        string(a, b)\n",
    "        \n",
    "    end\n",
    "    \n",
    "end\n",
    "\n",
    "# `zip` method allocates more but is faster.\n",
    "\n",
    "@btime zi($ro_x_co_x_an)\n",
    "\n",
    "@btime ea($ro_x_co_x_an)\n",
    "\n",
    ";"
   ]
  },
  {
   "cell_type": "code",
   "execution_count": 11,
   "id": "91c4d15a-926f-4ff5-ac92-bb64deb6154e",
   "metadata": {},
   "outputs": [
    {
     "name": "stdout",
     "output_type": "stream",
     "text": [
      "  25.000 μs (924 allocations: 35.13 KiB)\n",
      "  35.083 μs (1020 allocations: 35.05 KiB)\n"
     ]
    }
   ],
   "source": [
    "# Make `Matrix` and `zip`.\n",
    "function mzi(da)\n",
    "    \n",
    "    ma = Matrix(da)\n",
    "    \n",
    "    id_ = indexin((\"St4\", \"St8\"), names(da))\n",
    "    \n",
    "    for (a, b) in zip(ma[:, id_[1]], ma[:, id_[2]])\n",
    "        \n",
    "        string(a, b)\n",
    "        \n",
    "    end\n",
    "    \n",
    "end\n",
    "\n",
    "# Make `Matrix` and `eachrow`.\n",
    "function mea(da)\n",
    "    \n",
    "    ma = Matrix(da)\n",
    "    \n",
    "    id_ = indexin((\"St4\", \"St8\"), names(da))\n",
    "    \n",
    "    for (a, b) in eachrow(ma[:, id_])\n",
    "        \n",
    "        string(a, b)\n",
    "        \n",
    "    end\n",
    "    \n",
    "end\n",
    "\n",
    "# Surprisingly, `Matrix`ing is slower...\n",
    "\n",
    "@btime mzi($ro_x_co_x_an)\n",
    "\n",
    "@btime mea($ro_x_co_x_an)\n",
    "\n",
    ";"
   ]
  },
  {
   "cell_type": "markdown",
   "id": "b69d6757-0be1-414d-b248-ce173710e246",
   "metadata": {},
   "source": [
    "Does breaking the functions into smaller ones improve the performance?"
   ]
  },
  {
   "cell_type": "code",
   "execution_count": 12,
   "id": "5c1c9aaf-b40c-41d5-91fb-1a8ba2dd9f7b",
   "metadata": {},
   "outputs": [
    {
     "name": "stdout",
     "output_type": "stream",
     "text": [
      "  3.062 μs (117 allocations: 6.70 KiB)\n"
     ]
    }
   ],
   "source": [
    "# `Matrix`ing.\n",
    "function maid(da)\n",
    "    \n",
    "    ma = Matrix(da)\n",
    "    \n",
    "    id_ = indexin((\"St4\", \"St8\"), names(da))\n",
    "    \n",
    "    ma, id_\n",
    "    \n",
    "end\n",
    "\n",
    "@btime maid($ro_x_co_x_an)\n",
    "\n",
    ";"
   ]
  },
  {
   "cell_type": "code",
   "execution_count": 13,
   "id": "c4bb8e1b-59e8-4475-8346-2094693cf0ad",
   "metadata": {},
   "outputs": [
    {
     "name": "stdout",
     "output_type": "stream",
     "text": [
      "  2.032 μs (102 allocations: 4.88 KiB)\n",
      "  2.079 μs (101 allocations: 4.89 KiB)\n"
     ]
    }
   ],
   "source": [
    "# `zip` `Matrix`.\n",
    "function mazi(ma, id_)\n",
    "    \n",
    "    for (a, b) in zip(ma[:, id_[1]], ma[:, id_[2]])\n",
    "        \n",
    "        string(a, b)\n",
    "        \n",
    "    end\n",
    "    \n",
    "end\n",
    "\n",
    "# `eachrow` `Matrix`.\n",
    "function maea(ma, id_)\n",
    "    \n",
    "    for (a, b) in eachrow(ma[:, id_])\n",
    "        \n",
    "        string(a, b)\n",
    "        \n",
    "    end\n",
    "    \n",
    "end\n",
    "\n",
    "ma = Matrix(ro_x_co_x_an)\n",
    "\n",
    "id_ = indexin((\"St4\", \"St8\"), names(ro_x_co_x_an))\n",
    "\n",
    "@btime mazi($ma, $id_)\n",
    "\n",
    "@btime maea($ma, $id_)\n",
    "\n",
    ";"
   ]
  },
  {
   "cell_type": "markdown",
   "id": "97a086bf-ae98-4af4-94fa-b8fcad73a064",
   "metadata": {},
   "source": [
    "Sum of the parts were less than expected.\n",
    "Does substituting these parts improve the performance?"
   ]
  },
  {
   "cell_type": "code",
   "execution_count": null,
   "id": "79a26fa8-0b2b-402d-ad2c-eef32e191d9a",
   "metadata": {},
   "outputs": [],
   "source": [
    "# Use `maid`.\n",
    "\n",
    "function maid_mzi(da)\n",
    "    \n",
    "    ma, id_ = maid(da)\n",
    "    \n",
    "    for (a, b) in zip(ma[:, id_[1]], ma[:, id_[2]])\n",
    "        \n",
    "        string(a, b)\n",
    "        \n",
    "    end\n",
    "    \n",
    "end\n",
    "\n",
    "function maid_mea(da)\n",
    "    \n",
    "    ma, id_ = maid(da)\n",
    "    \n",
    "    for (a, b) in eachrow(ma[:, id_])\n",
    "        \n",
    "        string(a, b)\n",
    "        \n",
    "    end\n",
    "    \n",
    "end\n",
    "\n",
    "@btime maid_mzi($ro_x_co_x_an)\n",
    "\n",
    "@btime maid_mea($ro_x_co_x_an)\n",
    "\n",
    ";\n",
    "\n",
    "@code_warntype maid_mzi(ro_x_co_x_an)"
   ]
  },
  {
   "cell_type": "code",
   "execution_count": null,
   "id": "fe4ddfad-4e8e-40b3-8905-e8f8a3429e30",
   "metadata": {},
   "outputs": [],
   "source": [
    "# Use `Matrix` `zip` and `eachrow`.\n",
    "\n",
    "function _mazi(da)\n",
    "    \n",
    "    ma = Matrix(da)\n",
    "    \n",
    "    id_ = indexin((\"St4\", \"St8\"), names(da))\n",
    "    \n",
    "    mazi(ma, id_)\n",
    "    \n",
    "end\n",
    "\n",
    "function _maea(da)\n",
    "    \n",
    "    ma = Matrix(da)\n",
    "    \n",
    "    id_ = indexin((\"St4\", \"St8\"), names(da))\n",
    "    \n",
    "    maea(ma, id_)\n",
    "    \n",
    "end\n",
    "\n",
    "# Copying a part of code into a function and substituting it with the code improved the performance!\n",
    "\n",
    "@btime _mazi($ro_x_co_x_an)\n",
    "\n",
    "@btime _maea($ro_x_co_x_an)\n",
    "\n",
    ";"
   ]
  },
  {
   "cell_type": "code",
   "execution_count": null,
   "id": "a3cf8a41-ad18-4c2a-ab9b-9affc744cbf5",
   "metadata": {},
   "outputs": [],
   "source": [
    "# Use `maid` with `Matrix` `zip` and `eachrow`.\n",
    "\n",
    "function maid_mazi(ro_x_co_x_an)\n",
    "    \n",
    "    ma, id_ = maid(ro_x_co_x_an)\n",
    "    \n",
    "    mazi(ma, id_)\n",
    "    \n",
    "end\n",
    "\n",
    "function maid_maea(ro_x_co_x_an)\n",
    "    \n",
    "    ma, id_ = maid(ro_x_co_x_an)\n",
    "    \n",
    "    maea(ma, id_)\n",
    "    \n",
    "end\n",
    "\n",
    "@btime maid_mazi($ro_x_co_x_an)\n",
    "\n",
    "@btime maid_maea($ro_x_co_x_an)\n",
    "\n",
    ";\n",
    "\n",
    "@code_warntype maid_mazi(ro_x_co_x_an)"
   ]
  },
  {
   "cell_type": "markdown",
   "id": "8d083415-b9d4-4f26-a94b-716182575995",
   "metadata": {},
   "source": [
    "The compiler optimizes code at function boundaries.\n",
    "Use multiple smaller functions! "
   ]
  }
 ],
 "metadata": {
  "kernelspec": {
   "display_name": "Julia 1.8.3",
   "language": "julia",
   "name": "julia-1.8"
  },
  "language_info": {
   "file_extension": ".jl",
   "mimetype": "application/julia",
   "name": "julia",
   "version": "1.8.3"
  }
 },
 "nbformat": 4,
 "nbformat_minor": 5
}
