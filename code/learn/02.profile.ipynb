{
 "cells": [
  {
   "cell_type": "code",
   "execution_count": 11,
   "id": "b6955d47-9d18-445b-8e06-a32c01a29803",
   "metadata": {},
   "outputs": [
    {
     "name": "stdout",
     "output_type": "stream",
     "text": [
      "  17.577 ns (1 allocation: 128 bytes)\n",
      "  3.792 μs (2 allocations: 78.17 KiB)\n"
     ]
    }
   ],
   "source": [
    "# Making a bigger vector results in 1 more allocation...\n",
    "\n",
    "@btime [\"Aa\" for _ in 1:10]\n",
    "\n",
    "@btime [\"Aa\" for _ in 1:10000]\n",
    "\n",
    ";"
   ]
  },
  {
   "cell_type": "code",
   "execution_count": 2,
   "id": "d1fc2ee6-73f3-4900-ad7c-b14ce95e03b0",
   "metadata": {},
   "outputs": [
    {
     "data": {
      "text/plain": [
       "fu (generic function with 1 method)"
      ]
     },
     "execution_count": 2,
     "metadata": {},
     "output_type": "execute_result"
    }
   ],
   "source": [
    "# Let's make this code into a function, profile it, and figure out where the allocation comes from.\n",
    "\n",
    "function fu(si)\n",
    "    \n",
    "    [\"Aa\" for _ in 1:si]\n",
    "    \n",
    "end"
   ]
  },
  {
   "cell_type": "code",
   "execution_count": 3,
   "id": "6b51a57e-e1ee-47bd-a3e7-59c95aca006a",
   "metadata": {},
   "outputs": [
    {
     "name": "stdout",
     "output_type": "stream",
     "text": [
      "  17.535 ns (1 allocation: 128 bytes)\n",
      "  3.792 μs (2 allocations: 78.17 KiB)\n"
     ]
    }
   ],
   "source": [
    "# The function forms of the code behave the same.\n",
    "\n",
    "@btime fu(10)\n",
    "\n",
    "@btime fu(10000)\n",
    "\n",
    ";"
   ]
  },
  {
   "cell_type": "code",
   "execution_count": 12,
   "id": "626f16ad-20d7-4dee-9ff0-bd53c48f7a24",
   "metadata": {},
   "outputs": [
    {
     "data": {
      "text/plain": [
       "\"alloc-profile.pb.gz\""
      ]
     },
     "execution_count": 12,
     "metadata": {},
     "output_type": "execute_result"
    },
    {
     "name": "stderr",
     "output_type": "stream",
     "text": [
      "Main binary filename not available.\n",
      "Serving web UI on http://localhost:62261\n"
     ]
    }
   ],
   "source": [
    "# Profile allocations from using the smaller vector.\n",
    "\n",
    "Profile.Allocs.clear()\n",
    "\n",
    "Profile.Allocs.@profile sample_rate=1 fu(10)\n",
    "\n",
    "PProf.Allocs.pprof(from_c=false)"
   ]
  },
  {
   "cell_type": "code",
   "execution_count": 13,
   "id": "e4bc9275-e290-4187-9889-362dbb8c7513",
   "metadata": {},
   "outputs": [
    {
     "data": {
      "text/plain": [
       "\"alloc-profile.pb.gz\""
      ]
     },
     "execution_count": 13,
     "metadata": {},
     "output_type": "execute_result"
    },
    {
     "name": "stderr",
     "output_type": "stream",
     "text": [
      "Main binary filename not available.\n",
      "Serving web UI on http://localhost:62261\n"
     ]
    }
   ],
   "source": [
    "# Profile allocations from using the bigger vector.\n",
    "# The extra allocation seems to be coming from `collect` making a temporary buffer vector.\n",
    "\n",
    "Profile.Allocs.clear()\n",
    "\n",
    "Profile.Allocs.@profile sample_rate=1 fu(10000)\n",
    "\n",
    "PProf.Allocs.pprof(from_c=false)"
   ]
  }
 ],
 "metadata": {
  "kernelspec": {
   "display_name": "Julia 1.8.3",
   "language": "julia",
   "name": "julia-1.8"
  },
  "language_info": {
   "file_extension": ".jl",
   "mimetype": "application/julia",
   "name": "julia",
   "version": "1.8.3"
  }
 },
 "nbformat": 4,
 "nbformat_minor": 5
}
