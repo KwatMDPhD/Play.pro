{
 "cells": [
  {
   "cell_type": "code",
   "execution_count": 1,
   "id": "8c8e4028-902e-4ba7-9d84-415f01faa6dc",
   "metadata": {},
   "outputs": [],
   "source": [
    "nu_ = rand(1:9, 10^2)\n",
    "\n",
    ";"
   ]
  },
  {
   "cell_type": "code",
   "execution_count": 2,
   "id": "8c85371a-b248-420f-b670-b5af1e0c5da5",
   "metadata": {},
   "outputs": [],
   "source": [
    "ra = 1\n",
    "\n",
    "const rac = ra\n",
    "\n",
    ";"
   ]
  },
  {
   "cell_type": "code",
   "execution_count": 3,
   "id": "8b9123ce-e387-4f4c-a4fe-f65fd4c1166c",
   "metadata": {},
   "outputs": [],
   "source": [
    "function fug(nu)\n",
    "    \n",
    "    # Global.\n",
    "    nu == ra\n",
    "    \n",
    "end\n",
    "\n",
    "function fugc(nu)\n",
    "    \n",
    "    # Global but constnut.\n",
    "    nu == rac\n",
    "    \n",
    "end\n",
    "\n",
    "function fua(nu, ra)\n",
    "    \n",
    "    # Argument.\n",
    "    nu == ra\n",
    "    \n",
    "end\n",
    "\n",
    ";"
   ]
  },
  {
   "cell_type": "code",
   "execution_count": 4,
   "id": "85ca3906-b40b-482a-8014-b60168486bc7",
   "metadata": {},
   "outputs": [
    {
     "name": "stdout",
     "output_type": "stream",
     "text": [
      "  1.279 μs (4 allocations: 208 bytes)\n",
      "  1.308 μs (4 allocations: 208 bytes)\n",
      "  1.417 μs (4 allocations: 208 bytes)\n"
     ]
    }
   ],
   "source": [
    "# `ra` is global and mutable.\n",
    "\n",
    "@btime map(an->an==ra, $nu_)\n",
    "\n",
    "@btime map(fug, $nu_)\n",
    "\n",
    "@btime map(an->fua(an, ra), $nu_)\n",
    "\n",
    ";"
   ]
  },
  {
   "cell_type": "code",
   "execution_count": 5,
   "id": "3f46a8ed-3fbc-4729-8a05-55a9c4826119",
   "metadata": {},
   "outputs": [
    {
     "name": "stdout",
     "output_type": "stream",
     "text": [
      "  53.287 ns (1 allocation: 160 bytes)\n",
      "  53.299 ns (1 allocation: 160 bytes)\n"
     ]
    }
   ],
   "source": [
    "# `ra` is interpolated.\n",
    "\n",
    "@btime map(an->an==$ra, $nu_)\n",
    "\n",
    "@btime map(an->fua(an, $ra), $nu_)\n",
    "\n",
    ";"
   ]
  },
  {
   "cell_type": "code",
   "execution_count": 6,
   "id": "752c0191-23b7-452d-b372-354b932fd0ef",
   "metadata": {},
   "outputs": [
    {
     "name": "stdout",
     "output_type": "stream",
     "text": [
      "  42.591 ns (1 allocation: 160 bytes)\n",
      "  42.634 ns (1 allocation: 160 bytes)\n",
      "  42.591 ns (1 allocation: 160 bytes)\n"
     ]
    }
   ],
   "source": [
    "# `rac` is global and immutable.\n",
    "\n",
    "@btime map(an->an==rac, $nu_)\n",
    "\n",
    "@btime map(fugc, $nu_)\n",
    "\n",
    "@btime map(an->fua(an, rac), $nu_)\n",
    "\n",
    ";"
   ]
  },
  {
   "cell_type": "code",
   "execution_count": 7,
   "id": "95f32a60-ddac-4fc8-b8dc-4105dab91362",
   "metadata": {},
   "outputs": [
    {
     "name": "stdout",
     "output_type": "stream",
     "text": [
      "  53.330 ns (1 allocation: 160 bytes)\n",
      "  53.288 ns (1 allocation: 160 bytes)\n"
     ]
    }
   ],
   "source": [
    "# `rac` is interpolated, which adds work but does not do much.\n",
    "\n",
    "@btime map(an->an==$rac, $nu_)\n",
    "\n",
    "@btime map(an->fua(an, $rac), $nu_)\n",
    "\n",
    ";"
   ]
  },
  {
   "cell_type": "code",
   "execution_count": 8,
   "id": "3f00cbc0-5eb8-42d2-9696-61ad74f2e366",
   "metadata": {},
   "outputs": [
    {
     "name": "stdout",
     "output_type": "stream",
     "text": [
      "  53.287 ns (1 allocation: 160 bytes)\n",
      "  62.414 ns (1 allocation: 160 bytes)\n"
     ]
    }
   ],
   "source": [
    "#  Int vs Int\n",
    "@btime map(==($ra), $nu_)\n",
    "\n",
    "rat = float(ra)\n",
    "\n",
    "#  Int vs Float64\n",
    "@btime map(==($rat), $nu_)\n",
    "\n",
    ";"
   ]
  },
  {
   "cell_type": "code",
   "execution_count": 10,
   "id": "f3e4f552-3486-4eec-a9df-f54090f13212",
   "metadata": {},
   "outputs": [
    {
     "name": "stdout",
     "output_type": "stream",
     "text": [
      "  231.525 ns (3 allocations: 208 bytes)\n",
      "  220.274 ns (3 allocations: 208 bytes)\n",
      "  142.079 ns (3 allocations: 208 bytes)\n",
      "  53.245 ns (1 allocation: 160 bytes)\n",
      "  53.245 ns (1 allocation: 160 bytes)\n",
      "  53.258 ns (1 allocation: 160 bytes)\n"
     ]
    }
   ],
   "source": [
    "@btime map(==(ra), nu_)\n",
    "\n",
    "@btime map(==($ra), nu_)\n",
    "\n",
    "@btime map(==(ra), $nu_)\n",
    "\n",
    "# Only when the compiler knows about all variable types, there is no extra allocation.\n",
    "\n",
    "@btime map(==($ra), $nu_)\n",
    "\n",
    "@btime map(==(rac), $nu_)\n",
    "\n",
    "@btime map(==($rac), $nu_)\n",
    "\n",
    ";"
   ]
  }
 ],
 "metadata": {
  "kernelspec": {
   "display_name": "Julia 1.8.3",
   "language": "julia",
   "name": "julia-1.8"
  },
  "language_info": {
   "file_extension": ".jl",
   "mimetype": "application/julia",
   "name": "julia",
   "version": "1.8.3"
  }
 },
 "nbformat": 4,
 "nbformat_minor": 5
}
