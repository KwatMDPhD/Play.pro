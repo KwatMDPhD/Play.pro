{
 "cells": [
  {
   "cell_type": "code",
   "execution_count": 3,
   "id": "ba5764b5-ef15-4617-9fcd-e004a3434768",
   "metadata": {},
   "outputs": [],
   "source": [
    "va = 1\n",
    "\n",
    "const vac = 1\n",
    "\n",
    ";"
   ]
  },
  {
   "cell_type": "code",
   "execution_count": 43,
   "id": "6643f58f-3987-4fb9-b7e9-b70e2f63fdfe",
   "metadata": {},
   "outputs": [
    {
     "name": "stdout",
     "output_type": "stream",
     "text": [
      "  416.246 ns (2 allocations: 96 bytes)\n",
      "  17.493 ns (1 allocation: 64 bytes)\n"
     ]
    }
   ],
   "source": [
    "# Using the mutable version allocates `Any[]` and then, after infering its type during run time, `Bool[]`.\n",
    "\n",
    "@btime [nu == va for nu in (1,2,3)]\n",
    "\n",
    "@btime [nu == vac for nu in (1,2,3)]\n",
    "\n",
    ";"
   ]
  },
  {
   "cell_type": "markdown",
   "id": "2e070c11-3e61-4d24-8967-ae36a8cd5912",
   "metadata": {},
   "source": [
    "Profile allocations to see this temporary `Any[]` allocation."
   ]
  },
  {
   "cell_type": "code",
   "execution_count": 44,
   "id": "168af967-d436-443d-b69a-140d25f3d7a5",
   "metadata": {},
   "outputs": [
    {
     "data": {
      "text/plain": [
       "fuc (generic function with 1 method)"
      ]
     },
     "execution_count": 44,
     "metadata": {},
     "output_type": "execute_result"
    }
   ],
   "source": [
    "function fu()\n",
    "    \n",
    "    [nu == va for nu in (1,2,3)]\n",
    "    \n",
    "end\n",
    "\n",
    "function fuc()\n",
    "    \n",
    "    [nu == vac for nu in (1,2,3)]\n",
    "    \n",
    "end"
   ]
  },
  {
   "cell_type": "code",
   "execution_count": 42,
   "id": "abffc750-7e39-464d-a86b-2195a88ebacf",
   "metadata": {},
   "outputs": [
    {
     "name": "stdout",
     "output_type": "stream",
     "text": [
      "  414.362 ns (2 allocations: 96 bytes)\n",
      "  17.452 ns (1 allocation: 64 bytes)\n"
     ]
    }
   ],
   "source": [
    "@btime fu()\n",
    "\n",
    "@btime fuc()\n",
    "\n",
    ";"
   ]
  },
  {
   "cell_type": "code",
   "execution_count": 37,
   "id": "7983f184-0790-4a44-8d80-1f5f9dc7c32d",
   "metadata": {},
   "outputs": [
    {
     "data": {
      "text/plain": [
       "\"alloc-profile.pb.gz\""
      ]
     },
     "execution_count": 37,
     "metadata": {},
     "output_type": "execute_result"
    },
    {
     "name": "stderr",
     "output_type": "stream",
     "text": [
      "Main binary filename not available.\n",
      "Serving web UI on http://localhost:62261\n"
     ]
    }
   ],
   "source": [
    "Profile.Allocs.clear()\n",
    "\n",
    "Profile.Allocs.@profile sample_rate=1 fu()\n",
    "\n",
    "PProf.Allocs.pprof(from_c=false)"
   ]
  },
  {
   "cell_type": "code",
   "execution_count": 39,
   "id": "54d3d282-e2bd-46ea-b1ea-9cb0450ba262",
   "metadata": {},
   "outputs": [
    {
     "data": {
      "text/plain": [
       "\"alloc-profile.pb.gz\""
      ]
     },
     "execution_count": 39,
     "metadata": {},
     "output_type": "execute_result"
    },
    {
     "name": "stderr",
     "output_type": "stream",
     "text": [
      "Main binary filename not available.\n",
      "Serving web UI on http://localhost:62261\n"
     ]
    }
   ],
   "source": [
    "Profile.Allocs.clear()\n",
    "\n",
    "Profile.Allocs.@profile sample_rate=1 fuc()\n",
    "\n",
    "PProf.Allocs.pprof(from_c=false)"
   ]
  }
 ],
 "metadata": {
  "kernelspec": {
   "display_name": "Julia 1.8.3",
   "language": "julia",
   "name": "julia-1.8"
  },
  "language_info": {
   "file_extension": ".jl",
   "mimetype": "application/julia",
   "name": "julia",
   "version": "1.8.3"
  }
 },
 "nbformat": 4,
 "nbformat_minor": 5
}
