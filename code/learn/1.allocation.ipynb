{
 "cells": [
  {
   "cell_type": "markdown",
   "id": "16b27394-80e4-4b0e-961c-a2502aba2427",
   "metadata": {},
   "source": [
    "Objects are concrete if everything is known about them.\n",
    "\n",
    "Concrete objects get to live in the stack, where computation is faster.\n",
    "\n",
    "Other objects have unknown types, sizes, fields, or other attributes, so they don't get to live in the stack.\n",
    "Instead, they live in the heap, where their unknown attributes emerge, they mutate, and computation is slower.\n",
    "\n",
    "One allocation means that one object was born in the heap."
   ]
  },
  {
   "cell_type": "markdown",
   "id": "ff1146a2-7d7a-4e13-b47f-2fef3238a22d",
   "metadata": {},
   "source": [
    "These objects are concrete, so they are born in the stack, without occupying any memory in the heap:"
   ]
  },
  {
   "cell_type": "code",
   "execution_count": 1,
   "id": "73d89b2a-a5ea-40e5-9755-1a479454b9f7",
   "metadata": {},
   "outputs": [
    {
     "name": "stdout",
     "output_type": "stream",
     "text": [
      "  1.208 ns (0 allocations: 0 bytes)\n"
     ]
    }
   ],
   "source": [
    "@btime 1;"
   ]
  },
  {
   "cell_type": "code",
   "execution_count": 2,
   "id": "0e68248a-5c6a-4de0-9207-23284bf1b17b",
   "metadata": {},
   "outputs": [
    {
     "name": "stdout",
     "output_type": "stream",
     "text": [
      "  1.167 ns (0 allocations: 0 bytes)\n"
     ]
    }
   ],
   "source": [
    "@btime 'a';"
   ]
  },
  {
   "cell_type": "code",
   "execution_count": 3,
   "id": "5b80d1f9-70be-49b7-b480-be24d7341825",
   "metadata": {},
   "outputs": [
    {
     "name": "stdout",
     "output_type": "stream",
     "text": [
      "  2.083 ns (0 allocations: 0 bytes)\n"
     ]
    }
   ],
   "source": [
    "@btime \"a\";"
   ]
  },
  {
   "cell_type": "code",
   "execution_count": 4,
   "id": "37667b46-f715-4f6b-9251-04d25ab2bf54",
   "metadata": {},
   "outputs": [
    {
     "name": "stdout",
     "output_type": "stream",
     "text": [
      "  1.166 ns (0 allocations: 0 bytes)\n"
     ]
    }
   ],
   "source": [
    "@btime ();"
   ]
  },
  {
   "cell_type": "markdown",
   "id": "6c4534b4-9bf9-44a8-a9df-9534acd6a7c2",
   "metadata": {},
   "source": [
    "These objects are not concrete, so they are born in the heap, occupying memories:"
   ]
  },
  {
   "cell_type": "code",
   "execution_count": 5,
   "id": "cd553935-59b6-4a78-806a-2b00e03a198a",
   "metadata": {},
   "outputs": [
    {
     "name": "stdout",
     "output_type": "stream",
     "text": [
      "  16.115 ns (1 allocation: 48 bytes)\n"
     ]
    }
   ],
   "source": [
    "@btime [];"
   ]
  },
  {
   "cell_type": "code",
   "execution_count": 6,
   "id": "38896ea2-61d2-4ebd-a078-569bb4f14aac",
   "metadata": {},
   "outputs": [
    {
     "name": "stdout",
     "output_type": "stream",
     "text": [
      "  57.690 ns (4 allocations: 384 bytes)\n"
     ]
    }
   ],
   "source": [
    "@btime Set();"
   ]
  },
  {
   "cell_type": "code",
   "execution_count": 7,
   "id": "e88bff5f-66ae-4656-a228-a82788b66768",
   "metadata": {},
   "outputs": [
    {
     "name": "stdout",
     "output_type": "stream",
     "text": [
      "  58.224 ns (4 allocations: 512 bytes)\n"
     ]
    }
   ],
   "source": [
    "@btime Dict();"
   ]
  },
  {
   "cell_type": "markdown",
   "id": "106a1261-15c4-4e12-bba6-a4761149c419",
   "metadata": {},
   "source": [
    "These containers have known types but not size, so they are not concrete and are born in the heap:"
   ]
  },
  {
   "cell_type": "code",
   "execution_count": 8,
   "id": "53ce6baa-4a62-424c-b1d0-00f85c410a24",
   "metadata": {},
   "outputs": [
    {
     "name": "stdout",
     "output_type": "stream",
     "text": [
      "  16.825 ns (1 allocation: 64 bytes)\n"
     ]
    }
   ],
   "source": [
    "@btime Char[];"
   ]
  },
  {
   "cell_type": "code",
   "execution_count": 9,
   "id": "230ab8b1-779f-4648-a6e2-24d5e913d96d",
   "metadata": {},
   "outputs": [
    {
     "name": "stdout",
     "output_type": "stream",
     "text": [
      "  59.003 ns (4 allocations: 400 bytes)\n"
     ]
    }
   ],
   "source": [
    "@btime Set{Float64}();"
   ]
  },
  {
   "cell_type": "code",
   "execution_count": 10,
   "id": "b2f9f973-c5d4-423b-bd6a-3a4ed75457c1",
   "metadata": {},
   "outputs": [
    {
     "name": "stdout",
     "output_type": "stream",
     "text": [
      "  58.537 ns (4 allocations: 528 bytes)\n"
     ]
    }
   ],
   "source": [
    "@btime Dict{String, Int}();"
   ]
  },
  {
   "cell_type": "markdown",
   "id": "4b6cf155-c8ca-4c50-8ed4-20c3a9ca86d9",
   "metadata": {},
   "source": [
    "This `Tuple` and all of its values are born in the stack:"
   ]
  },
  {
   "cell_type": "code",
   "execution_count": 1,
   "id": "4166665d-951d-472b-8e3e-6048dd10696f",
   "metadata": {},
   "outputs": [
    {
     "name": "stdout",
     "output_type": "stream",
     "text": [
      "  1.166 ns (0 allocations: 0 bytes)\n"
     ]
    }
   ],
   "source": [
    "@btime (1,2,3,4,5,6,7,8,9,10);"
   ]
  },
  {
   "cell_type": "markdown",
   "id": "30c12251-f13c-46d2-a360-1eaab0b0ec14",
   "metadata": {},
   "source": [
    "This `Vector`s values are born in the stack but itself in the heap:"
   ]
  },
  {
   "cell_type": "code",
   "execution_count": 2,
   "id": "f006af5c-73ee-4ca9-ba72-04ecdd2b2ba2",
   "metadata": {},
   "outputs": [
    {
     "name": "stdout",
     "output_type": "stream",
     "text": [
      "  17.828 ns (1 allocation: 144 bytes)\n"
     ]
    }
   ],
   "source": [
    "@btime [1,2,3,4,5,6,7,8,9,10];"
   ]
  }
 ],
 "metadata": {
  "kernelspec": {
   "display_name": "Julia 1.8.3",
   "language": "julia",
   "name": "julia-1.8"
  },
  "language_info": {
   "file_extension": ".jl",
   "mimetype": "application/julia",
   "name": "julia",
   "version": "1.8.3"
  }
 },
 "nbformat": 4,
 "nbformat_minor": 5
}
