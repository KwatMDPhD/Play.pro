{
 "cells": [
  {
   "cell_type": "code",
   "execution_count": 27,
   "id": "a51dc944-fe34-4656-8a00-76687d0baef3",
   "metadata": {},
   "outputs": [
    {
     "name": "stdout",
     "output_type": "stream",
     "text": [
      "missing (12203499816459500736) and missing (12203499816459500736)\n",
      "missing\n",
      "true\n",
      "NaN (1573955859343395728) and NaN (1573955859343395728)\n",
      "false\n",
      "true\n",
      "Inf (9258189184035454063) and Inf (9258189184035454063)\n",
      "true\n",
      "true\n",
      "0 (8633297058295171728) and 0.0 (8633297058295171728)\n",
      "true\n",
      "true\n",
      "-0.0 (4316648529147585864) and 0.0 (8633297058295171728)\n",
      "true\n",
      "false\n"
     ]
    }
   ],
   "source": [
    "# `isequal` checks hashs.\n",
    "\n",
    "for (an1, an2) in  (\n",
    "    (missing, missing),\n",
    "    (NaN, NaN),\n",
    "    (Inf, Inf),\n",
    "    (0, 0.0),\n",
    "    (-0.0, 0.0),\n",
    ")\n",
    "    \n",
    "    println(\"$an1 ($(hash(an1))) and $an2 ($(hash(an2)))\")\n",
    "    \n",
    "    println(an1 == an2)\n",
    "    \n",
    "    println(isequal(an1, an2))\n",
    "        \n",
    "end"
   ]
  }
 ],
 "metadata": {
  "kernelspec": {
   "display_name": "Julia 1.8.3",
   "language": "julia",
   "name": "julia-1.8"
  },
  "language_info": {
   "file_extension": ".jl",
   "mimetype": "application/julia",
   "name": "julia",
   "version": "1.8.3"
  }
 },
 "nbformat": 4,
 "nbformat_minor": 5
}
