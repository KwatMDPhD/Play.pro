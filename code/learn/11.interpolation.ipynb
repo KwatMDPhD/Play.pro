{
 "cells": [
  {
   "cell_type": "code",
   "execution_count": 1,
   "id": "55af89e0-9854-440c-a589-dbe762c6a384",
   "metadata": {},
   "outputs": [],
   "source": [
    "ar_ = [1, 2, 3]\n",
    "\n",
    "const arc_ = [1, 2, 3]\n",
    "\n",
    "tu_ = (1, 2, 3)\n",
    "\n",
    "const tuc_ = (1, 2, 3)\n",
    "\n",
    ";"
   ]
  },
  {
   "cell_type": "code",
   "execution_count": 2,
   "id": "52f775aa-0f89-4532-8a16-11ca91266c68",
   "metadata": {},
   "outputs": [
    {
     "name": "stdout",
     "output_type": "stream",
     "text": [
      "  171.469 ns (2 allocations: 96 bytes)\n",
      "  36.799 ns (2 allocations: 160 bytes)\n",
      "  20.311 ns (1 allocation: 80 bytes)\n",
      "  20.311 ns (1 allocation: 80 bytes)\n",
      "  20.291 ns (1 allocation: 80 bytes)\n",
      "  20.436 ns (1 allocation: 80 bytes)\n"
     ]
    }
   ],
   "source": [
    "# The global variable `ar_` is not constant so it can change its type at run time.\n",
    "# At compile time, the compiler can not optimize the code.\n",
    "# At run time, the compiler sees the input, makes something like Int[1, 2, 3] (allocation 1), and optimizes the code.\n",
    "# The result makes an array (allocation 2).\n",
    "@btime map(nu->nu^2, ar_)\n",
    "\n",
    "# The hard-coded `Int[1, 2, 3]` is made (allocation 1) and the compiler knows about it.\n",
    "# At compile time, the compiler optimizes the code.\n",
    "# The result makes an array (allocation 2).\n",
    "@btime map(nu->nu^2, [1, 2, 3])\n",
    "\n",
    "# The compiler already knows about the interpolated and constant variables.\n",
    "# At compile time, the compiler optimizes the code.\n",
    "# The result makes an array (allocation 1).\n",
    "@btime map(nu->nu^2, $[1, 2, 3])\n",
    "\n",
    "@btime map(nu->nu^2, $ar_)\n",
    "\n",
    "@btime map(nu->nu^2, $arc_)\n",
    "\n",
    "@btime map(nu->nu^2, arc_)\n",
    "\n",
    ";"
   ]
  },
  {
   "cell_type": "code",
   "execution_count": 3,
   "id": "834de2ef-d754-4f43-a9ac-06251dac18ac",
   "metadata": {},
   "outputs": [
    {
     "name": "stdout",
     "output_type": "stream",
     "text": [
      "  18.370 ns (1 allocation: 32 bytes)\n",
      "  2.125 ns (0 allocations: 0 bytes)\n",
      "  2.083 ns (0 allocations: 0 bytes)\n",
      "  2.083 ns (0 allocations: 0 bytes)\n",
      "  1.167 ns (0 allocations: 0 bytes)\n",
      "  1.208 ns (0 allocations: 0 bytes)\n"
     ]
    }
   ],
   "source": [
    "# The global variable `tu_` is not constant so it can change its type at run time.\n",
    "# At compile time, the compiler can not optimize the code.\n",
    "# At run time, the compiler sees the input, makes something like Int[1, 2, 3] (allocation 1), and optimizes the code.\n",
    "# The result makes a tuple.\n",
    "@btime map(nu->nu^2, tu_)\n",
    "\n",
    "# The compiler already knows about the interpolated variables.\n",
    "# At compile time, the compiler optimizes the code.\n",
    "# The result makes a tuple.\n",
    "@btime map(nu->nu^2, $(1, 2, 3))\n",
    "\n",
    "@btime map(nu->nu^2, $tu_)\n",
    "\n",
    "@btime map(nu->nu^2, $tuc_)\n",
    "\n",
    "# The compiler already knows about the hard-coded tuple and the constant variable.\n",
    "# At compile time, the compiler optimizes the code.\n",
    "# The result makes a tuple.\n",
    "# Lack of interpolation makes these fraction of ns faster.\n",
    "@btime map(nu->nu^2, (1, 2, 3))\n",
    "\n",
    "@btime map(nu->nu^2, tuc_)\n",
    "\n",
    ";"
   ]
  },
  {
   "cell_type": "code",
   "execution_count": 4,
   "id": "d9fcf50a-17fc-4d87-8d3a-4b3780da4924",
   "metadata": {},
   "outputs": [
    {
     "name": "stdout",
     "output_type": "stream",
     "text": [
      "  20.436 ns (1 allocation: 80 bytes)\n",
      "  17.285 ns (1 allocation: 80 bytes)\n",
      "  87.886 ns (2 allocations: 96 bytes)\n",
      "  86.975 ns (2 allocations: 112 bytes)\n",
      "  36.799 ns (2 allocations: 160 bytes)\n"
     ]
    }
   ],
   "source": [
    "# Accessing mutable variables results in allocation of temporary immutable counterparts.\n",
    "@btime [nu^2 for nu in arc_]\n",
    "\n",
    "@btime [nu^2 for nu in tuc_]\n",
    "\n",
    "@btime [nu^2 for nu in ar_]\n",
    "\n",
    "@btime [nu^2 for nu in tu_]\n",
    "\n",
    "# Making the hard-coding array is like allocating a temporary one.\n",
    "\n",
    "@btime [nu^2 for nu in [1, 2, 3]]\n",
    "\n",
    ";"
   ]
  },
  {
   "cell_type": "code",
   "execution_count": 5,
   "id": "63648678-d5dc-44e3-b41b-28f1601613db",
   "metadata": {},
   "outputs": [
    {
     "name": "stdout",
     "output_type": "stream",
     "text": [
      "  20.394 ns (1 allocation: 80 bytes)\n",
      "  20.352 ns (1 allocation: 80 bytes)\n",
      "  17.618 ns (1 allocation: 80 bytes)\n",
      "  17.618 ns (1 allocation: 80 bytes)\n",
      "  17.200 ns (1 allocation: 80 bytes)\n"
     ]
    }
   ],
   "source": [
    "# The compiler already knows about these inputs.\n",
    "@btime [nu^2 for nu in $[1, 2, 3]]\n",
    "@btime [nu^2 for nu in $ar_]\n",
    "@btime [nu^2 for nu in $(1, 2, 3)]\n",
    "@btime [nu^2 for nu in $tu_]\n",
    "\n",
    "# Lack of interpolation makes this fraction of ns faster.\n",
    "@btime [nu^2 for nu in (1, 2, 3)]\n",
    "\n",
    ";"
   ]
  }
 ],
 "metadata": {
  "kernelspec": {
   "display_name": "Julia 1.8.3",
   "language": "julia",
   "name": "julia-1.8"
  },
  "language_info": {
   "file_extension": ".jl",
   "mimetype": "application/julia",
   "name": "julia",
   "version": "1.8.3"
  }
 },
 "nbformat": 4,
 "nbformat_minor": 5
}
