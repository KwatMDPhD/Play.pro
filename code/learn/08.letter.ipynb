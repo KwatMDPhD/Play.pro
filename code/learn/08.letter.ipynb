{
 "cells": [
  {
   "cell_type": "code",
   "execution_count": 1,
   "id": "5c4e2214-a4dc-40a5-8e3a-5cbcca0a6fc1",
   "metadata": {},
   "outputs": [
    {
     "name": "stdout",
     "output_type": "stream",
     "text": [
      "4\n",
      "4\n"
     ]
    }
   ],
   "source": [
    "# `Char`s are concrete, so they always occupy 4 bytes (this is why an empty `Char` '' can not exist).\n",
    "\n",
    "println(sizeof(Char))\n",
    "\n",
    "println(sizeof('a'))"
   ]
  },
  {
   "cell_type": "code",
   "execution_count": 4,
   "id": "f4678c7e-a7ff-443e-b2e5-245d15449b69",
   "metadata": {},
   "outputs": [
    {
     "name": "stdout",
     "output_type": "stream",
     "text": [
      "Type Array does not have a definite size.\n",
      "Type String does not have a definite size.\n",
      "0\n",
      "1\n",
      "2\n",
      "3\n",
      "9\n"
     ]
    }
   ],
   "source": [
    "# On the other hand, `String`s are mutable in size, like `Array`s.\n",
    "\n",
    "for ty in (Array, String)\n",
    "    \n",
    "    try\n",
    "\n",
    "        sizeof(ty)\n",
    "\n",
    "    catch er\n",
    "\n",
    "        println(er.msg)\n",
    "\n",
    "    end\n",
    "    \n",
    "end\n",
    "\n",
    "for st in (\n",
    "    \"\",\n",
    "    \"a\",\n",
    "    \"aa\",\n",
    "    \"aaa\",\n",
    "    \"aaaaaaaaa\",\n",
    ")\n",
    "    \n",
    "    println(sizeof(st))\n",
    "\n",
    "end"
   ]
  },
  {
   "cell_type": "code",
   "execution_count": 63,
   "id": "e02e8357-8160-477c-b7c8-0c025087cd98",
   "metadata": {},
   "outputs": [],
   "source": [
    "# The compiler simplifies code, and benchmarking small code is tricky and may not reflect what happens when the code is part of another code.\n",
    "# Perhaps because `Char`s have a fixed length, they are faster to work with than `String`s.\n",
    "\n",
    "@btime 'a'\n",
    "\n",
    "@btime \"a\"\n",
    "\n",
    "for (xs, ys) in ((\n",
    "        ('a', 'c', 'e'), ('a', 'b', 'c', 'd', 'e')),\n",
    "        ((\"a\", \"c\", \"e\"),(\"a\", \"b\", \"c\", \"d\", \"e\")),\n",
    "    )\n",
    "\n",
    "    @btime all(x in ys for x in xs)\n",
    "    \n",
    "    @btime all(x in $ys for x in $xs)\n",
    "    \n",
    "end"
   ]
  },
  {
   "cell_type": "code",
   "execution_count": 65,
   "id": "e43ecd00-eb8d-43d3-9411-84121411c3db",
   "metadata": {},
   "outputs": [
    {
     "name": "stdout",
     "output_type": "stream",
     "text": [
      "  78.216 ns (0 allocations: 0 bytes)\n",
      "  77.534 ns (0 allocations: 0 bytes)\n"
     ]
    }
   ],
   "source": [
    "# It is okay to not 100% understanding what goes on in a benchmark.\n",
    "\n",
    "@btime all(x in ys for x in xs) setup=(xs=('a', 'c', 'e'), ys=('a', 'b', 'c', 'd', 'e'))\n",
    "\n",
    "@btime all(x in ys for x in xs) setup=(xs=(\"a\", \"c\", \"e\"), ys=(\"a\", \"b\", \"c\", \"d\", \"e\"))\n",
    "\n",
    ";"
   ]
  },
  {
   "cell_type": "code",
   "execution_count": 4,
   "id": "23635d58-2b49-4864-85ab-2fb11d0e6ba9",
   "metadata": {},
   "outputs": [
    {
     "name": "stdout",
     "output_type": "stream",
     "text": [
      "  13.179 ns (1 allocation: 24 bytes)\n",
      "  14.822 ns (1 allocation: 24 bytes)\n",
      "  13.180 ns (1 allocation: 24 bytes)\n",
      "  14.807 ns (1 allocation: 24 bytes)\n"
     ]
    }
   ],
   "source": [
    "aa = \"Aa\"\n",
    "\n",
    "bb = \"Bb\"\n",
    "\n",
    "@btime string($aa, $bb)\n",
    "\n",
    "@btime string($aa, \" \", $bb)\n",
    "\n",
    "@btime \"$($aa)$($bb)\"\n",
    "\n",
    "@btime \"$($aa) $($bb)\"\n",
    "\n",
    ";"
   ]
  },
  {
   "cell_type": "markdown",
   "id": "09ef46dd-4fcb-4591-a16a-4f2243cf72fc",
   "metadata": {},
   "source": [
    "Pick `string` or interpolation based on your style, and stick to it.\n",
    "(I like interpolation.)"
   ]
  }
 ],
 "metadata": {
  "kernelspec": {
   "display_name": "Julia 1.8.3",
   "language": "julia",
   "name": "julia-1.8"
  },
  "language_info": {
   "file_extension": ".jl",
   "mimetype": "application/julia",
   "name": "julia",
   "version": "1.8.3"
  }
 },
 "nbformat": 4,
 "nbformat_minor": 5
}
