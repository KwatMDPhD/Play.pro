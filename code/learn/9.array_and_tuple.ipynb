{
 "cells": [
  {
   "cell_type": "code",
   "execution_count": 1,
   "id": "f515ca0f-d33b-4cc3-a2c5-e2778406920b",
   "metadata": {},
   "outputs": [],
   "source": [
    "n = 10^3\n",
    "\n",
    ";"
   ]
  },
  {
   "cell_type": "code",
   "execution_count": 2,
   "id": "bd350254-d722-408b-9172-231b50a9b531",
   "metadata": {},
   "outputs": [
    {
     "name": "stdout",
     "output_type": "stream",
     "text": [
      "Vector{Vector{String}}\n",
      "Vector{Vector{String}}\n"
     ]
    }
   ],
   "source": [
    "ar2a__ = [[string(rand()) for _ in 1:2] for _ in 1:n]\n",
    "\n",
    "ar4a__ = [[string(rand()) for _ in 1:4] for _ in 1:n]\n",
    "\n",
    "println(typeof(ar2a__))\n",
    "\n",
    "println(typeof(ar4a__))"
   ]
  },
  {
   "cell_type": "code",
   "execution_count": 3,
   "id": "c819e4ec-e4d1-4982-9fe4-167983d21c4e",
   "metadata": {},
   "outputs": [],
   "source": [
    "function fu1(ar__)\n",
    "    \n",
    "    for ar_ in ar__\n",
    "        \n",
    "        string(ar_...)\n",
    "        \n",
    "    end\n",
    "    \n",
    "end\n",
    "\n",
    ";"
   ]
  },
  {
   "cell_type": "code",
   "execution_count": 4,
   "id": "0688a279-27fd-4dde-be25-130f8f6deacf",
   "metadata": {},
   "outputs": [],
   "source": [
    "function fu22(ar__)\n",
    "    \n",
    "    for ar_ in ar__\n",
    "        \n",
    "        string(ar_[1], ar_[2])\n",
    "        \n",
    "    end\n",
    "    \n",
    "end\n",
    "\n",
    "function fu24(ar__)\n",
    "    \n",
    "    for ar_ in ar__\n",
    "        \n",
    "        string(ar_[1], ar_[2], ar_[3], ar_[4])\n",
    "        \n",
    "    end\n",
    "    \n",
    "end\n",
    "\n",
    ";"
   ]
  },
  {
   "cell_type": "code",
   "execution_count": 5,
   "id": "6b36a315-4d79-4b2b-bfd5-5c0c9b54d731",
   "metadata": {},
   "outputs": [],
   "source": [
    "function fu32(ar__)\n",
    "    \n",
    "    for (on, tw) in ar__\n",
    "        \n",
    "        string(on, tw)\n",
    "        \n",
    "    end\n",
    "    \n",
    "end\n",
    "\n",
    "function fu34(ar__)\n",
    "    \n",
    "    for (on, tw, th, fo) in ar__\n",
    "        \n",
    "        string(on, tw, th, fo)\n",
    "        \n",
    "    end\n",
    "    \n",
    "end\n",
    "\n",
    ";"
   ]
  },
  {
   "cell_type": "code",
   "execution_count": 6,
   "id": "6cc311be-17ae-41f0-b27b-8d25c6e4fea5",
   "metadata": {},
   "outputs": [
    {
     "name": "stdout",
     "output_type": "stream",
     "text": [
      "  41.583 μs (1000 allocations: 54.70 KiB)\n",
      "  211.917 μs (1000 allocations: 93.07 KiB)\n",
      "  19.417 μs (1000 allocations: 54.70 KiB)\n",
      "  30.083 μs (1000 allocations: 93.07 KiB)\n",
      "  19.584 μs (1000 allocations: 54.70 KiB)\n",
      "  30.041 μs (1000 allocations: 93.07 KiB)\n"
     ]
    }
   ],
   "source": [
    "@btime fu1($ar2a__)\n",
    "\n",
    "@btime fu1($ar4a__)\n",
    "\n",
    "@btime fu22($ar2a__)\n",
    "\n",
    "@btime fu24($ar4a__)\n",
    "\n",
    "@btime fu32($ar2a__)\n",
    "\n",
    "@btime fu34($ar4a__)\n",
    "\n",
    ";"
   ]
  },
  {
   "cell_type": "markdown",
   "id": "e42783ac-2901-4414-be48-6619bd85e370",
   "metadata": {},
   "source": [
    "`fu1` is slow because the compiler does not know the `...` objects until run-time.\n",
    "\n",
    "Pick function 2 or 3 based on your style.\n",
    "I like `fu2*`."
   ]
  },
  {
   "cell_type": "markdown",
   "id": "d3f0b7e3-8673-4e14-8be0-39896412db91",
   "metadata": {},
   "source": [
    "But using `Tuple` makes every variation as fast because the compiler knows the what (concrete and immutable objects) are coming and optimizes the code equally;"
   ]
  },
  {
   "cell_type": "code",
   "execution_count": 7,
   "id": "47b8dbb5-d897-49d3-b389-5288047a68f1",
   "metadata": {},
   "outputs": [
    {
     "name": "stdout",
     "output_type": "stream",
     "text": [
      "Vector{Tuple{String, String}}\n",
      "Vector{NTuple{4, String}}\n"
     ]
    }
   ],
   "source": [
    "ar2t__ = [Tuple(ar2_) for ar2_ in ar2a__]\n",
    "\n",
    "ar4t__ = [Tuple(ar4_) for ar4_ in ar4a__]\n",
    "    \n",
    "println(typeof(ar2t__))\n",
    "\n",
    "println(typeof(ar4t__))"
   ]
  },
  {
   "cell_type": "code",
   "execution_count": null,
   "id": "50fd4d59-0387-4113-8aad-e4d278a2882a",
   "metadata": {},
   "outputs": [
    {
     "name": "stdout",
     "output_type": "stream",
     "text": [
      "  17.250 μs (1000 allocations: 54.70 KiB)\n",
      "  28.791 μs (1000 allocations: 93.07 KiB)\n",
      "  17.500 μs (1000 allocations: 54.70 KiB)\n",
      "  28.916 μs (1000 allocations: 93.07 KiB)\n"
     ]
    }
   ],
   "source": [
    "@btime fu1($ar2t__)\n",
    "\n",
    "@btime fu1($ar4t__)\n",
    "\n",
    "@btime fu22($ar2t__)\n",
    "\n",
    "@btime fu24($ar4t__)\n",
    "\n",
    "@btime fu32($ar2t__)\n",
    "\n",
    "@btime fu34($ar4t__)\n",
    "\n",
    ";"
   ]
  },
  {
   "cell_type": "markdown",
   "id": "96c64844-840e-401e-85b9-2c3eee970f3f",
   "metadata": {},
   "source": [
    "Use `Tuple`s more.\n",
    "Use concrete and immutable objects."
   ]
  }
 ],
 "metadata": {
  "kernelspec": {
   "display_name": "Julia 1.8.3",
   "language": "julia",
   "name": "julia-1.8"
  },
  "language_info": {
   "file_extension": ".jl",
   "mimetype": "application/julia",
   "name": "julia",
   "version": "1.8.3"
  }
 },
 "nbformat": 4,
 "nbformat_minor": 5
}
