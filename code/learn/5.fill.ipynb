{
 "cells": [
  {
   "cell_type": "code",
   "execution_count": 1,
   "id": "2e6269ab-cb15-4541-9fb0-80f554c631c7",
   "metadata": {},
   "outputs": [
    {
     "data": {
      "text/plain": [
       "(1000, 1000)"
      ]
     },
     "execution_count": 1,
     "metadata": {},
     "output_type": "execute_result"
    }
   ],
   "source": [
    "n = 10^3\n",
    "\n",
    "si = (n, n)\n",
    "\n",
    ";"
   ]
  },
  {
   "cell_type": "code",
   "execution_count": 2,
   "id": "de9b3e7d-ea4a-4ce9-b269-97819e469b4a",
   "metadata": {},
   "outputs": [
    {
     "name": "stdout",
     "output_type": "stream",
     "text": [
      "  350.939 ns (1 allocation: 7.94 KiB)\n",
      "  186.274 ns (1 allocation: 7.94 KiB)\n",
      "  70.791 μs (2 allocations: 7.63 MiB)\n",
      "  70.375 μs (2 allocations: 7.63 MiB)\n"
     ]
    }
   ],
   "source": [
    "@btime fill(0.0, n)\n",
    "\n",
    "@btime zeros(n)\n",
    "\n",
    "@btime fill(0.0, $si)\n",
    "\n",
    "@btime zeros($si)\n",
    "\n",
    ";"
   ]
  },
  {
   "cell_type": "code",
   "execution_count": 3,
   "id": "c3b7073e-8286-49e4-8299-7a18ac9a4a62",
   "metadata": {},
   "outputs": [
    {
     "name": "stdout",
     "output_type": "stream",
     "text": [
      "  197.514 ns (1 allocation: 7.94 KiB)\n",
      "  252.371 ns (1 allocation: 7.94 KiB)\n",
      "  261.708 μs (2 allocations: 7.63 MiB)\n",
      "  261.875 μs (2 allocations: 7.63 MiB)\n"
     ]
    }
   ],
   "source": [
    "@btime fill(0, n)\n",
    "\n",
    "@btime zeros(Int, n)\n",
    "\n",
    "@btime fill(0, $si)\n",
    "\n",
    "@btime zeros(Int, $si)\n",
    "\n",
    ";"
   ]
  },
  {
   "cell_type": "code",
   "execution_count": 4,
   "id": "e32d1ef5-5b3e-401e-828e-a52c428ab35f",
   "metadata": {},
   "outputs": [
    {
     "name": "stdout",
     "output_type": "stream",
     "text": [
      "  206.920 ns (1 allocation: 7.94 KiB)\n",
      "  365.966 ns (1 allocation: 7.94 KiB)\n",
      "  126.958 μs (2 allocations: 7.63 MiB)\n",
      "  311.000 μs (2 allocations: 7.63 MiB)\n"
     ]
    }
   ],
   "source": [
    "@btime fill(1.0, n)\n",
    "\n",
    "@btime ones(n)\n",
    "\n",
    "@btime fill(1.0, $si)\n",
    "\n",
    "@btime ones($si)\n",
    "\n",
    ";"
   ]
  },
  {
   "cell_type": "code",
   "execution_count": 5,
   "id": "1e038758-cc6e-470c-ad42-7f207c7f009e",
   "metadata": {},
   "outputs": [
    {
     "name": "stdout",
     "output_type": "stream",
     "text": [
      "  201.069 ns (1 allocation: 7.94 KiB)\n",
      "  298.430 ns (1 allocation: 7.94 KiB)\n",
      "  550.750 μs (2 allocations: 7.63 MiB)\n",
      "  127.542 μs (2 allocations: 7.63 MiB)\n"
     ]
    }
   ],
   "source": [
    "@btime fill(1, n)\n",
    "\n",
    "@btime ones(Int, n)\n",
    "\n",
    "@btime fill(1, $si)\n",
    "\n",
    "@btime ones(Int, $si)\n",
    "\n",
    ";"
   ]
  }
 ],
 "metadata": {
  "kernelspec": {
   "display_name": "Julia 1.8.3",
   "language": "julia",
   "name": "julia-1.8"
  },
  "language_info": {
   "file_extension": ".jl",
   "mimetype": "application/julia",
   "name": "julia",
   "version": "1.8.3"
  }
 },
 "nbformat": 4,
 "nbformat_minor": 5
}
