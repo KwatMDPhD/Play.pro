{
 "cells": [
  {
   "cell_type": "code",
   "execution_count": null,
   "id": "ae44d0ed-13c7-44e5-a978-4e471c5147c1",
   "metadata": {},
   "outputs": [],
   "source": [
    "function fu(si)\n",
    "    \n",
    "    [\"Aa\" for _ in 1:si]\n",
    "    \n",
    "end"
   ]
  },
  {
   "cell_type": "code",
   "execution_count": null,
   "id": "e4bc9275-e290-4187-9889-362dbb8c7513",
   "metadata": {},
   "outputs": [],
   "source": [
    "Profile.Allocs.clear()\n",
    "\n",
    "Profile.Allocs.@profile fu(10^2)\n",
    "\n",
    ";"
   ]
  },
  {
   "cell_type": "code",
   "execution_count": null,
   "id": "dfd4e753-382d-4a60-b76a-0df5e188379e",
   "metadata": {},
   "outputs": [],
   "source": [
    "Profile.Allocs.print()"
   ]
  },
  {
   "cell_type": "code",
   "execution_count": null,
   "id": "6898837e-4b3f-48de-9219-fe1f816738dc",
   "metadata": {},
   "outputs": [],
   "source": [
    "@btime peakflops()"
   ]
  },
  {
   "cell_type": "code",
   "execution_count": null,
   "id": "d96c5cd8-9d98-4e84-a34f-21b08955775c",
   "metadata": {},
   "outputs": [],
   "source": [
    "Profile.Allocs.clear()\n",
    "Profile.Allocs.@profile peakflops()\n",
    "PProf.Allocs.pprof()"
   ]
  },
  {
   "cell_type": "code",
   "execution_count": null,
   "id": "4536547a-7055-42f5-9372-1641568ecde5",
   "metadata": {},
   "outputs": [],
   "source": [
    "Profile.clear()\n",
    "\n",
    "@profile fu()\n",
    "\n",
    "pprof()"
   ]
  },
  {
   "cell_type": "code",
   "execution_count": null,
   "id": "c285a1cf-a0c8-44ba-9d29-831e329793e8",
   "metadata": {},
   "outputs": [],
   "source": [
    "Profile.Allocs.clear()\n",
    "\n",
    "Profile.Allocs.@profile fu()\n",
    "\n",
    "Profile.print()"
   ]
  },
  {
   "cell_type": "markdown",
   "id": "a01fbc67-c299-485e-b151-ec23c4d7cba7",
   "metadata": {},
   "source": [
    "Bigger resuls need one more (temporary) allocation?"
   ]
  },
  {
   "cell_type": "code",
   "execution_count": null,
   "id": "14664eab-ffc9-4754-89fe-86e1bb8dbdb8",
   "metadata": {},
   "outputs": [],
   "source": [
    "for po in 0:8\n",
    "    \n",
    "    @btime [\"Aa\" for _ in $(1:10^po)]\n",
    "\n",
    "end"
   ]
  },
  {
   "cell_type": "code",
   "execution_count": null,
   "id": "9067d4da-6ff0-4cb5-bdde-aaa0d354b3d9",
   "metadata": {},
   "outputs": [],
   "source": [
    "\n",
    "@profilehtml fu()"
   ]
  },
  {
   "cell_type": "code",
   "execution_count": null,
   "id": "8abac0ed-eca0-404c-912c-88bbd37ed30d",
   "metadata": {},
   "outputs": [],
   "source": [
    "for po in 0:4\n",
    "    \n",
    "    n = 10 ^ po\n",
    "    \n",
    "    for ma in (0, 1, 2, 4, 8, 64, 128)\n",
    "        \n",
    "        tu = Tuple(1:ma)\n",
    "        \n",
    "        println(n, \" \", ma, \" \", sizeof(tu))\n",
    "\n",
    "        @btime [$tu for _ in $(1:n)]\n",
    "\n",
    "    end\n",
    "    \n",
    "end"
   ]
  }
 ],
 "metadata": {
  "kernelspec": {
   "display_name": "Julia 1.8.3",
   "language": "julia",
   "name": "julia-1.8"
  },
  "language_info": {
   "file_extension": ".jl",
   "mimetype": "application/julia",
   "name": "julia",
   "version": "1.8.3"
  }
 },
 "nbformat": 4,
 "nbformat_minor": 5
}
