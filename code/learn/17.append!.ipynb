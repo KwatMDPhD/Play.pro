{
 "cells": [
  {
   "cell_type": "code",
   "execution_count": 13,
   "id": "c0f3e320-bd16-47ce-9c98-8ec4533ba5bc",
   "metadata": {},
   "outputs": [
    {
     "name": "stdout",
     "output_type": "stream",
     "text": [
      "  8.967 ns (0 allocations: 0 bytes)\n",
      "  9.093 ns (0 allocations: 0 bytes)\n",
      "  7.458 ns (0 allocations: 0 bytes)\n",
      "  7.083 ns (0 allocations: 0 bytes)\n"
     ]
    }
   ],
   "source": [
    "# When operating on two objects, it is usually good for them to be of the same type, like in `::Int * ::Int`.\n",
    "# However, when working on 2 `Array`s, using a `Tuple` or `Generator` is often faster.\n",
    "\n",
    "@btime append!($[1, 2, 3], $[4, 5])\n",
    "\n",
    "@btime append!($[1, 2, 3], $4:5)\n",
    "\n",
    "@btime append!($[1, 2, 3], $(4, 5))\n",
    "\n",
    "@btime append!($[1, 2, 3], $(id for id in (4, 5)))\n",
    "\n",
    ";"
   ]
  }
 ],
 "metadata": {
  "kernelspec": {
   "display_name": "Julia 1.8.3",
   "language": "julia",
   "name": "julia-1.8"
  },
  "language_info": {
   "file_extension": ".jl",
   "mimetype": "application/julia",
   "name": "julia",
   "version": "1.8.3"
  }
 },
 "nbformat": 4,
 "nbformat_minor": 5
}
