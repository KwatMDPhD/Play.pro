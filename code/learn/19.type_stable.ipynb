{
 "cells": [
  {
   "cell_type": "code",
   "execution_count": 1,
   "id": "f573b510-d45c-40a5-af56-1555f64f71bf",
   "metadata": {},
   "outputs": [],
   "source": [
    "nu_ = rand(1.0:9, 10^2)\n",
    "\n",
    ";"
   ]
  },
  {
   "cell_type": "code",
   "execution_count": 2,
   "id": "2e68bb04-2319-4c8c-aad0-18f5b3a48858",
   "metadata": {},
   "outputs": [
    {
     "name": "stdout",
     "output_type": "stream",
     "text": [
      "  39.775 ns (1 allocation: 896 bytes)\n",
      "  39.736 ns (1 allocation: 896 bytes)\n"
     ]
    }
   ],
   "source": [
    "# `ifelse` is type stable, returning `Float64`.\n",
    "\n",
    "@btime [ifelse(nu < 5.0, nu, 0.0) for nu in $nu_]\n",
    "\n",
    "@btime [ifelse(nu < 5, nu, 0.0) for nu in $nu_]\n",
    "\n",
    ";"
   ]
  },
  {
   "cell_type": "code",
   "execution_count": 3,
   "id": "44ad56e6-d6bf-4151-a24f-9ca551873c1f",
   "metadata": {},
   "outputs": [
    {
     "name": "stdout",
     "output_type": "stream",
     "text": [
      "  295.383 ns (52 allocations: 2.53 KiB)\n",
      "  296.098 ns (52 allocations: 2.53 KiB)\n"
     ]
    }
   ],
   "source": [
    "# `ifelse` is not type stable, returning `Float64` or `Int`.\n",
    "# Converting types requires temporary allocations.\n",
    "\n",
    "@btime [ifelse(nu < 5.0, nu, 0) for nu in $nu_]\n",
    "\n",
    "@btime [ifelse(nu < 5, nu, 0) for nu in $nu_]\n",
    "\n",
    ";"
   ]
  }
 ],
 "metadata": {
  "kernelspec": {
   "display_name": "Julia 1.8.3",
   "language": "julia",
   "name": "julia-1.8"
  },
  "language_info": {
   "file_extension": ".jl",
   "mimetype": "application/julia",
   "name": "julia",
   "version": "1.8.3"
  }
 },
 "nbformat": 4,
 "nbformat_minor": 5
}
