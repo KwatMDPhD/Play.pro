{
 "cells": [
  {
   "cell_type": "code",
   "execution_count": 9,
   "id": "16f27f45-f1f4-4083-8769-a981bdafa0a5",
   "metadata": {},
   "outputs": [],
   "source": [
    "n = 10^3\n",
    "\n",
    "in_ = collect(1:n)\n",
    "\n",
    "fl_ = float.(in_)\n",
    "\n",
    "ch_ = [Char(i[1]) for i in in_]\n",
    "\n",
    "st_ = string.(in_);\n",
    "\n",
    ";"
   ]
  },
  {
   "cell_type": "markdown",
   "id": "66a9a55f-1783-4856-b26c-3a92c310eb31",
   "metadata": {},
   "source": [
    "`Int`, the smallest concrete type here, is the fastest. \n",
    "`String` is not concrete only after one is created and the computer knows its size, so it is slow to work with."
   ]
  },
  {
   "cell_type": "code",
   "execution_count": 10,
   "id": "a4f5e67d-4774-4d4b-9937-fdbaf3674ae4",
   "metadata": {},
   "outputs": [
    {
     "name": "stdout",
     "output_type": "stream",
     "text": [
      "Int64: 8\n",
      "Float64: 8\n",
      "Char: 4\n",
      "String: Type String does not have a definite size.\n"
     ]
    }
   ],
   "source": [
    "for ty in (Int, Float64, Char, String)\n",
    "    \n",
    "    print(\"$ty: \")\n",
    "    \n",
    "    try\n",
    "        \n",
    "        println(sizeof(ty))\n",
    "        \n",
    "    catch er\n",
    "        \n",
    "        println(er.msg)\n",
    "        \n",
    "    end\n",
    "    \n",
    "end "
   ]
  },
  {
   "cell_type": "markdown",
   "id": "5e0869b1-783d-4bd1-9897-92f97d0af0c4",
   "metadata": {},
   "source": [
    "`unique` allocates the most, and it is the slowest (avoid it)."
   ]
  },
  {
   "cell_type": "code",
   "execution_count": 4,
   "id": "ad9d30b3-981b-4159-9a68-92ff0575b21e",
   "metadata": {},
   "outputs": [
    {
     "name": "stdout",
     "output_type": "stream",
     "text": [
      "  26.916 μs (23 allocations: 71.00 KiB)\n",
      "  34.292 μs (23 allocations: 71.00 KiB)\n",
      "  30.209 μs (22 allocations: 38.92 KiB)\n",
      "  50.292 μs (23 allocations: 70.97 KiB)\n"
     ]
    }
   ],
   "source": [
    "@btime unique($in_)\n",
    "\n",
    "@btime unique($fl_)\n",
    "\n",
    "@btime unique($ch_)\n",
    "\n",
    "@btime unique($st_)\n",
    "\n",
    ";"
   ]
  },
  {
   "cell_type": "markdown",
   "id": "eaea785d-863d-42fa-922f-e1dced80beec",
   "metadata": {},
   "source": [
    "`Set` always allocates 4 times and is faster."
   ]
  },
  {
   "cell_type": "code",
   "execution_count": 5,
   "id": "bc53e1d9-c0bb-40c3-8bfe-3a8e47dd70d8",
   "metadata": {},
   "outputs": [
    {
     "name": "stdout",
     "output_type": "stream",
     "text": [
      "  6.017 μs (7 allocations: 18.59 KiB)\n",
      "  9.959 μs (7 allocations: 18.59 KiB)\n",
      "  6.183 μs (7 allocations: 10.52 KiB)\n",
      "  21.292 μs (7 allocations: 18.57 KiB)\n"
     ]
    }
   ],
   "source": [
    "@btime Set($in_)\n",
    "\n",
    "@btime Set($fl_)\n",
    "\n",
    "@btime Set($ch_)\n",
    "\n",
    "@btime Set($st_)\n",
    "\n",
    ";"
   ]
  },
  {
   "cell_type": "markdown",
   "id": "ec22e7d0-3280-40eb-97f0-12bd2a7a4523",
   "metadata": {},
   "source": [
    "`unique!` allocates 0 for the number types and more than 7 for the letter types.\n",
    "So it is the fastest for working with the numbers and slower than `Set` for the letters."
   ]
  },
  {
   "cell_type": "code",
   "execution_count": 11,
   "id": "d8361564-cd72-4e99-9555-a8b26644785d",
   "metadata": {},
   "outputs": [
    {
     "name": "stdout",
     "output_type": "stream",
     "text": [
      "  1.275 μs (0 allocations: 0 bytes)\n",
      "  2.250 μs (0 allocations: 0 bytes)\n",
      "  11.708 μs (16 allocations: 27.86 KiB)\n",
      "  45.875 μs (17 allocations: 49.12 KiB)\n"
     ]
    }
   ],
   "source": [
    "@btime unique!($in_)\n",
    "\n",
    "@btime unique!($fl_)\n",
    "\n",
    "@btime unique!($ch_)\n",
    "\n",
    "@btime unique!($st_)\n",
    "\n",
    ";"
   ]
  },
  {
   "cell_type": "markdown",
   "id": "56ae4327-f18a-4abf-8d77-233e535e1b30",
   "metadata": {},
   "source": [
    "However, contents with repeats slow down `Set` more."
   ]
  },
  {
   "cell_type": "code",
   "execution_count": null,
   "id": "3dd23e89-f6e4-4b3d-a349-ffd0db7788ec",
   "metadata": {},
   "outputs": [],
   "source": [
    "inr_ = repeat(1:10, n)\n",
    "\n",
    "@btime unique($inr_)\n",
    "\n",
    "@btime Set($inr_)\n",
    "\n",
    "@btime unique!($inr_)\n",
    "\n",
    ";"
   ]
  },
  {
   "cell_type": "code",
   "execution_count": null,
   "id": "a383d30d-eac1-4b0f-a2c7-225a9736c820",
   "metadata": {},
   "outputs": [],
   "source": []
  },
  {
   "cell_type": "markdown",
   "id": "74e3c7e8-76b8-49bb-b510-50f3cceb72a7",
   "metadata": {},
   "source": [
    "`unique!` is the best because it is a function and it is less dependent on the content."
   ]
  }
 ],
 "metadata": {
  "kernelspec": {
   "display_name": "Julia 1.8.3",
   "language": "julia",
   "name": "julia-1.8"
  },
  "language_info": {
   "file_extension": ".jl",
   "mimetype": "application/julia",
   "name": "julia",
   "version": "1.8.3"
  }
 },
 "nbformat": 4,
 "nbformat_minor": 5
}
