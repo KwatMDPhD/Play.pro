{
 "cells": [
  {
   "cell_type": "code",
   "execution_count": 1,
   "id": "809063b8-cdaf-4269-bb53-dbbdc7edbe44",
   "metadata": {},
   "outputs": [],
   "source": [
    "aa = \"Aa\"\n",
    "\n",
    "bb = \"Bb\"\n",
    "\n",
    ";"
   ]
  },
  {
   "cell_type": "markdown",
   "id": "92016ff2-7418-4ff0-9451-6a1adba329f4",
   "metadata": {},
   "source": [
    "A `String` is not alloacted."
   ]
  },
  {
   "cell_type": "code",
   "execution_count": 2,
   "id": "abb64e3a-aa82-41f1-93a2-dd5140c9a86e",
   "metadata": {},
   "outputs": [
    {
     "name": "stdout",
     "output_type": "stream",
     "text": [
      "  2.125 ns (0 allocations: 0 bytes)\n"
     ]
    }
   ],
   "source": [
    "@btime \"Cc\"\n",
    "\n",
    ";"
   ]
  },
  {
   "cell_type": "markdown",
   "id": "25d9a2bc-ceb9-4ba5-85be-050b333fa872",
   "metadata": {},
   "source": [
    "Making a string allocates something like (but smaller than) a temporary `Vector{String}`, whose memory structure is not fully known at compile time because run-time `String` objects can be of any size."
   ]
  },
  {
   "cell_type": "code",
   "execution_count": 3,
   "id": "d5fbca53-2116-4851-83ff-024d5e428670",
   "metadata": {},
   "outputs": [
    {
     "name": "stdout",
     "output_type": "stream",
     "text": [
      "  16.115 ns (1 allocation: 48 bytes)\n"
     ]
    }
   ],
   "source": [
    "@btime String[]\n",
    "\n",
    ";"
   ]
  },
  {
   "cell_type": "code",
   "execution_count": 4,
   "id": "35cdae94-aff3-4404-afb0-ea0bc4cf8853",
   "metadata": {},
   "outputs": [
    {
     "name": "stdout",
     "output_type": "stream",
     "text": [
      "  13.179 ns (1 allocation: 24 bytes)\n",
      "  14.822 ns (1 allocation: 24 bytes)\n",
      "  13.180 ns (1 allocation: 24 bytes)\n",
      "  14.807 ns (1 allocation: 24 bytes)\n"
     ]
    }
   ],
   "source": [
    "@btime string($aa, $bb)\n",
    "\n",
    "@btime string($aa, \" \", $bb)\n",
    "\n",
    "@btime \"$($aa)$($bb)\"\n",
    "\n",
    "@btime \"$($aa) $($bb)\"\n",
    "\n",
    ";"
   ]
  },
  {
   "cell_type": "markdown",
   "id": "c6b0f461-40f4-4fb2-a0a2-f70fee1d9633",
   "metadata": {},
   "source": [
    "Pick `string` or interpolation based on your style, and stick to it.\n",
    "(I like interpolation.)"
   ]
  }
 ],
 "metadata": {
  "kernelspec": {
   "display_name": "Julia 1.8.3",
   "language": "julia",
   "name": "julia-1.8"
  },
  "language_info": {
   "file_extension": ".jl",
   "mimetype": "application/julia",
   "name": "julia",
   "version": "1.8.3"
  }
 },
 "nbformat": 4,
 "nbformat_minor": 5
}
