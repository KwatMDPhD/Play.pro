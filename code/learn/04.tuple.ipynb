{
 "cells": [
  {
   "cell_type": "code",
   "execution_count": 1,
   "id": "4a567940-7c97-444f-b311-b9b03f4c8f6b",
   "metadata": {},
   "outputs": [
    {
     "name": "stdout",
     "output_type": "stream",
     "text": [
      "0\n",
      "  1.208 ns (0 allocations: 0 bytes)\n"
     ]
    }
   ],
   "source": [
    "# `Tuple`s have a size of 0 and are born in the stack instead of born and allocated in the heap.\n",
    "\n",
    "println(sizeof(()))\n",
    "\n",
    "@btime ()\n",
    "\n",
    ";"
   ]
  },
  {
   "cell_type": "code",
   "execution_count": 2,
   "id": "e84893a4-447e-4137-b3c6-6336fd0de01a",
   "metadata": {},
   "outputs": [
    {
     "name": "stdout",
     "output_type": "stream",
     "text": [
      "(1, 2.0)\n",
      "MethodError(Tuple, (1, 2.0), 0x0000000000007eea)\n",
      "(1, 2.0)\n",
      "(1,)\n"
     ]
    }
   ],
   "source": [
    "println(tuple(1,2.0))\n",
    "\n",
    "# Julia has a convention `Collection(another_collection)`.\n",
    "\n",
    "try\n",
    "    \n",
    "    Tuple(1,2.0)\n",
    "    \n",
    "catch er\n",
    "    \n",
    "    println(er)\n",
    "    \n",
    "end\n",
    "\n",
    "println(Tuple((1,2.0)))\n",
    "\n",
    "println(Tuple(1))"
   ]
  },
  {
   "cell_type": "markdown",
   "id": "25b8182f-588e-41c2-a815-32d1cd6c2838",
   "metadata": {},
   "source": [
    "The following examples are for being comfortable with benchmarking and profiling.\n",
    "\n",
    "The number of allocations depends on the implementations of the low-level function and the compiler.\n",
    "These were done with Julia 1.8.3.\n",
    "In 1.9, things seem get better and the allocations dissapear.\n",
    "\n",
    "Furthermore, some allocations are only done during a benchmark."
   ]
  },
  {
   "cell_type": "code",
   "execution_count": 13,
   "id": "dfb9317e-4d3b-4baa-9b78-309c305cb241",
   "metadata": {},
   "outputs": [
    {
     "name": "stdout",
     "output_type": "stream",
     "text": [
      "  1.166 ns (0 allocations: 0 bytes)\n",
      "  75.874 ns (2 allocations: 80 bytes)\n"
     ]
    },
    {
     "data": {
      "text/plain": [
       "\"alloc-profile.pb.gz\""
      ]
     },
     "execution_count": 13,
     "metadata": {},
     "output_type": "execute_result"
    },
    {
     "name": "stderr",
     "output_type": "stream",
     "text": [
      "Main binary filename not available.\n",
      "Serving web UI on http://localhost:62261\n"
     ]
    }
   ],
   "source": [
    "# Note that unlike `tuple()` function, `Tuple()` constructor allocates more.\n",
    "\n",
    "@btime (3,)\n",
    "\n",
    "@btime tuple(3)\n",
    "\n",
    "@btime Tuple(3)\n",
    "\n",
    "# The first allocation comes from `collect`ing values and the second from splatting (`...`) them into a `Tuple`.\n",
    "\n",
    "Profile.Allocs.clear()\n",
    "\n",
    "Profile.Allocs.@profile sample_rate=1 Tuple(3)\n",
    "\n",
    "PProf.Allocs.pprof(from_c=false)"
   ]
  },
  {
   "cell_type": "code",
   "execution_count": 14,
   "id": "354c06c1-f8c8-4c78-ae13-cfe48031e997",
   "metadata": {},
   "outputs": [
    {
     "name": "stdout",
     "output_type": "stream",
     "text": [
      "  1.166 ns (0 allocations: 0 bytes)\n",
      "  82.126 ns (3 allocations: 96 bytes)\n"
     ]
    },
    {
     "data": {
      "text/plain": [
       "\"alloc-profile.pb.gz\""
      ]
     },
     "execution_count": 14,
     "metadata": {},
     "output_type": "execute_result"
    },
    {
     "name": "stderr",
     "output_type": "stream",
     "text": [
      "Main binary filename not available.\n",
      "Serving web UI on http://localhost:62261\n"
     ]
    }
   ],
   "source": [
    "# Using `Float64` results in splatting size and adds one more allocation.\n",
    "\n",
    "@btime (3.0,)\n",
    "\n",
    "@btime tuple(3.0)\n",
    "\n",
    "@btime Tuple(3.0)\n",
    "\n",
    "Profile.Allocs.clear()\n",
    "\n",
    "Profile.Allocs.@profile sample_rate=1 Tuple(3.0)\n",
    "\n",
    "PProf.Allocs.pprof(from_c=false)"
   ]
  }
 ],
 "metadata": {
  "kernelspec": {
   "display_name": "Julia 1.8.3",
   "language": "julia",
   "name": "julia-1.8"
  },
  "language_info": {
   "file_extension": ".jl",
   "mimetype": "application/julia",
   "name": "julia",
   "version": "1.8.3"
  }
 },
 "nbformat": 4,
 "nbformat_minor": 5
}
