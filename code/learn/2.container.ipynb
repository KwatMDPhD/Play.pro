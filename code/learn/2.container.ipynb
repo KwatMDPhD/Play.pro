{
 "cells": [
  {
   "cell_type": "markdown",
   "id": "2703a7cb-5a50-4b12-bbe4-9a1c77991024",
   "metadata": {},
   "source": [
    "`Vector`s have a size of 0 and are born in the heap:"
   ]
  },
  {
   "cell_type": "code",
   "execution_count": null,
   "id": "69c5be31-8e6b-490b-98f0-8fc603911635",
   "metadata": {},
   "outputs": [],
   "source": [
    "for ve in (\n",
    "    [],\n",
    "    Int[],\n",
    "    Float64[],\n",
    "    Float32[],\n",
    "    Char[],\n",
    "    String[],\n",
    ")\n",
    "    \n",
    "    println(sizeof(ve))\n",
    "    \n",
    "end "
   ]
  },
  {
   "cell_type": "code",
   "execution_count": null,
   "id": "3600f2f1-2f0e-4ac2-b173-57f23c585f6a",
   "metadata": {},
   "outputs": [],
   "source": [
    "@btime Any[]\n",
    "\n",
    ";"
   ]
  },
  {
   "cell_type": "code",
   "execution_count": null,
   "id": "11b975f2-7464-4bce-bca5-47e90a718b59",
   "metadata": {},
   "outputs": [],
   "source": [
    "@btime Int[]\n",
    "\n",
    ";"
   ]
  },
  {
   "cell_type": "code",
   "execution_count": null,
   "id": "4dbaf36d-2c21-4a22-9f0e-1d970029fd2e",
   "metadata": {},
   "outputs": [],
   "source": [
    "@btime Float64[]\n",
    "\n",
    ";"
   ]
  },
  {
   "cell_type": "code",
   "execution_count": null,
   "id": "b11519e1-7c21-4324-a3ae-5595be34e955",
   "metadata": {},
   "outputs": [],
   "source": [
    "@btime Float32[]\n",
    "\n",
    ";"
   ]
  },
  {
   "cell_type": "code",
   "execution_count": null,
   "id": "0439b869-396a-4457-a158-3074a5af267e",
   "metadata": {},
   "outputs": [],
   "source": [
    "@btime Char[]\n",
    "\n",
    ";"
   ]
  },
  {
   "cell_type": "markdown",
   "id": "569b9a1e-6bb9-408e-b7fa-4056a045af69",
   "metadata": {},
   "source": [
    "Like `Any`, `String` does not have a definite size, so its empty `Array` also uses 48 bytes in the heap:"
   ]
  },
  {
   "cell_type": "code",
   "execution_count": null,
   "id": "b02f6f38-9ee0-4e7b-a8a7-bf6aa5b978c5",
   "metadata": {},
   "outputs": [],
   "source": [
    "@btime String[]\n",
    "\n",
    ";"
   ]
  }
 ],
 "metadata": {
  "kernelspec": {
   "display_name": "Julia 1.8.3",
   "language": "julia",
   "name": "julia-1.8"
  },
  "language_info": {
   "file_extension": ".jl",
   "mimetype": "application/julia",
   "name": "julia",
   "version": "1.8.3"
  }
 },
 "nbformat": 4,
 "nbformat_minor": 5
}
