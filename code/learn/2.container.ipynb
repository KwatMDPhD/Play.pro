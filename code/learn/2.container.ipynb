{
 "cells": [
  {
   "cell_type": "markdown",
   "id": "6d1d4bbd-c4cb-4067-8a3a-92d2e0a40108",
   "metadata": {},
   "source": [
    "`Tuple`s have a size of 0 and are born in the stack:"
   ]
  },
  {
   "cell_type": "code",
   "execution_count": 1,
   "id": "ed4108dc-d4bd-4060-a2f5-f76ecc2da970",
   "metadata": {},
   "outputs": [
    {
     "data": {
      "text/plain": [
       "0"
      ]
     },
     "execution_count": 1,
     "metadata": {},
     "output_type": "execute_result"
    }
   ],
   "source": [
    "sizeof(())"
   ]
  },
  {
   "cell_type": "code",
   "execution_count": 2,
   "id": "714f3112-c5a1-4629-b3f8-98cc5d7b6844",
   "metadata": {},
   "outputs": [
    {
     "name": "stdout",
     "output_type": "stream",
     "text": [
      "  1.208 ns (0 allocations: 0 bytes)\n"
     ]
    }
   ],
   "source": [
    "@btime ();"
   ]
  },
  {
   "cell_type": "code",
   "execution_count": 3,
   "id": "3503530b-822b-448d-9260-6cf1ff3b6b5d",
   "metadata": {},
   "outputs": [
    {
     "name": "stdout",
     "output_type": "stream",
     "text": [
      "  1.208 ns (0 allocations: 0 bytes)\n"
     ]
    },
    {
     "data": {
      "text/plain": [
       "(1,)"
      ]
     },
     "execution_count": 3,
     "metadata": {},
     "output_type": "execute_result"
    }
   ],
   "source": [
    "@btime tuple(1)"
   ]
  },
  {
   "cell_type": "markdown",
   "id": "4062f6cb-2f1a-4229-8809-ddfca2cab628",
   "metadata": {},
   "source": [
    "Julia has a convention that when `T` is a collection, you can construct it from another similar collection by `T(other)`."
   ]
  },
  {
   "cell_type": "code",
   "execution_count": 4,
   "id": "553add9c-1ac1-474e-a311-83a7c070bfdf",
   "metadata": {},
   "outputs": [
    {
     "data": {
      "text/plain": [
       "(1, 2)"
      ]
     },
     "execution_count": 4,
     "metadata": {},
     "output_type": "execute_result"
    }
   ],
   "source": [
    "Tuple([1,2])"
   ]
  },
  {
   "cell_type": "code",
   "execution_count": 5,
   "id": "3baddda4-4702-4fd6-b8f6-7456ba20f340",
   "metadata": {},
   "outputs": [
    {
     "name": "stdout",
     "output_type": "stream",
     "text": [
      "MethodError(Tuple, (1, 2), 0x0000000000007ec7)\n"
     ]
    }
   ],
   "source": [
    "try\n",
    "    \n",
    "    Tuple(1,2)\n",
    "    \n",
    "catch er\n",
    "    \n",
    "    println(er)\n",
    "    \n",
    "end"
   ]
  },
  {
   "cell_type": "code",
   "execution_count": 6,
   "id": "1e7e5ee9-7521-4df5-ace3-bccbd4360864",
   "metadata": {},
   "outputs": [
    {
     "data": {
      "text/plain": [
       "(1, 2)"
      ]
     },
     "execution_count": 6,
     "metadata": {},
     "output_type": "execute_result"
    }
   ],
   "source": [
    "tuple(1,2)"
   ]
  },
  {
   "cell_type": "markdown",
   "id": "63e362fa-aa50-477f-8250-fa7e47eaa4ae",
   "metadata": {},
   "source": [
    "Note that unlike `tuple` function, `Tuple` constructor allocates twice:"
   ]
  },
  {
   "cell_type": "code",
   "execution_count": 1,
   "id": "69b46d3d-3adb-40a0-a9b1-4a738207f781",
   "metadata": {},
   "outputs": [
    {
     "name": "stdout",
     "output_type": "stream",
     "text": [
      "  75.753 ns (2 allocations: 80 bytes)\n"
     ]
    },
    {
     "data": {
      "text/plain": [
       "(1,)"
      ]
     },
     "execution_count": 1,
     "metadata": {},
     "output_type": "execute_result"
    }
   ],
   "source": [
    "@btime Tuple(1)"
   ]
  },
  {
   "cell_type": "markdown",
   "id": "2703a7cb-5a50-4b12-bbe4-9a1c77991024",
   "metadata": {},
   "source": [
    "`Vector`s have a size of 0 and are born in the heap:"
   ]
  },
  {
   "cell_type": "code",
   "execution_count": 8,
   "id": "69c5be31-8e6b-490b-98f0-8fc603911635",
   "metadata": {},
   "outputs": [
    {
     "name": "stdout",
     "output_type": "stream",
     "text": [
      "0\n",
      "0\n",
      "0\n",
      "0\n",
      "0\n",
      "0\n"
     ]
    }
   ],
   "source": [
    "for ve in (\n",
    "    [],\n",
    "    Int[],\n",
    "    Float64[],\n",
    "    Float32[],\n",
    "    Char[],\n",
    "    String[],\n",
    ")\n",
    "    \n",
    "    println(sizeof(ve))\n",
    "    \n",
    "end "
   ]
  },
  {
   "cell_type": "code",
   "execution_count": 9,
   "id": "3600f2f1-2f0e-4ac2-b173-57f23c585f6a",
   "metadata": {},
   "outputs": [
    {
     "name": "stdout",
     "output_type": "stream",
     "text": [
      "  16.115 ns (1 allocation: 48 bytes)\n"
     ]
    },
    {
     "data": {
      "text/plain": [
       "Any[]"
      ]
     },
     "execution_count": 9,
     "metadata": {},
     "output_type": "execute_result"
    }
   ],
   "source": [
    "@btime Any[]"
   ]
  },
  {
   "cell_type": "code",
   "execution_count": 10,
   "id": "11b975f2-7464-4bce-bca5-47e90a718b59",
   "metadata": {},
   "outputs": [
    {
     "name": "stdout",
     "output_type": "stream",
     "text": [
      "  16.825 ns (1 allocation: 64 bytes)\n"
     ]
    }
   ],
   "source": [
    "@btime Int[];"
   ]
  },
  {
   "cell_type": "code",
   "execution_count": 11,
   "id": "4dbaf36d-2c21-4a22-9f0e-1d970029fd2e",
   "metadata": {},
   "outputs": [
    {
     "name": "stdout",
     "output_type": "stream",
     "text": [
      "  17.034 ns (1 allocation: 64 bytes)\n"
     ]
    }
   ],
   "source": [
    "@btime Float64[];"
   ]
  },
  {
   "cell_type": "code",
   "execution_count": 12,
   "id": "b11519e1-7c21-4324-a3ae-5595be34e955",
   "metadata": {},
   "outputs": [
    {
     "name": "stdout",
     "output_type": "stream",
     "text": [
      "  16.825 ns (1 allocation: 64 bytes)\n"
     ]
    }
   ],
   "source": [
    "@btime Float32[];"
   ]
  },
  {
   "cell_type": "code",
   "execution_count": 13,
   "id": "0439b869-396a-4457-a158-3074a5af267e",
   "metadata": {},
   "outputs": [
    {
     "name": "stdout",
     "output_type": "stream",
     "text": [
      "  16.784 ns (1 allocation: 64 bytes)\n"
     ]
    }
   ],
   "source": [
    "@btime Char[];"
   ]
  },
  {
   "cell_type": "markdown",
   "id": "569b9a1e-6bb9-408e-b7fa-4056a045af69",
   "metadata": {},
   "source": [
    "Like `Any`, `String` does not have a definite size, so its empty `Array` also uses 48 bytes in the heap:"
   ]
  },
  {
   "cell_type": "code",
   "execution_count": 2,
   "id": "b02f6f38-9ee0-4e7b-a8a7-bf6aa5b978c5",
   "metadata": {},
   "outputs": [
    {
     "name": "stdout",
     "output_type": "stream",
     "text": [
      "  16.073 ns (1 allocation: 48 bytes)\n"
     ]
    },
    {
     "data": {
      "text/plain": [
       "String[]"
      ]
     },
     "execution_count": 2,
     "metadata": {},
     "output_type": "execute_result"
    }
   ],
   "source": [
    "@btime String[]"
   ]
  }
 ],
 "metadata": {
  "kernelspec": {
   "display_name": "Julia 1.8.3",
   "language": "julia",
   "name": "julia-1.8"
  },
  "language_info": {
   "file_extension": ".jl",
   "mimetype": "application/julia",
   "name": "julia",
   "version": "1.8.3"
  }
 },
 "nbformat": 4,
 "nbformat_minor": 5
}
