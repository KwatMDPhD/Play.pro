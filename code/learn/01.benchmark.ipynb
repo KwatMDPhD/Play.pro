{
 "cells": [
  {
   "cell_type": "markdown",
   "id": "0a24eeb4-3c7c-4e31-a669-6685dfc10762",
   "metadata": {},
   "source": [
    "Benchmarking is;\n",
    "\n",
    "```julia\n",
    "for _ in 1:NUMBER_OF_SAMPLING\n",
    "    \n",
    "    # `setup` code\n",
    "    \n",
    "    ti0 = time()\n",
    "    \n",
    "    for _ in 1:NUMBER_OF_EVALUATION\n",
    "        \n",
    "        # Benchmarking code\n",
    "        \n",
    "    end\n",
    "    \n",
    "    ti = (time() - ti0) / NUMBER_OF_EVALUATION\n",
    "    \n",
    "    # Summarize\n",
    "    \n",
    "end\n",
    "```"
   ]
  },
  {
   "cell_type": "code",
   "execution_count": null,
   "id": "6f108dbd-47c5-486e-9e52-c803accb4b1e",
   "metadata": {},
   "outputs": [],
   "source": [
    "function make_nu_()\n",
    "    \n",
    "    rand(10^2)\n",
    "    \n",
    "end\n",
    "\n",
    "nu_ = make_nu_()\n",
    "\n",
    ";"
   ]
  },
  {
   "cell_type": "code",
   "execution_count": null,
   "id": "3e04bb62-3cd4-4fdb-ac25-5ff5a5cb4537",
   "metadata": {},
   "outputs": [],
   "source": [
    "# The same `nu_` is sorted inplace everytime.\n",
    "# So it is actually sorted only once during the first one.\n",
    "\n",
    "@btime sort!($nu_)\n",
    "\n",
    "@benchmark sort!($nu_)"
   ]
  },
  {
   "cell_type": "code",
   "execution_count": null,
   "id": "1a792184-be21-4f8f-a967-1040fa910990",
   "metadata": {},
   "outputs": [],
   "source": [
    "# Each sampling sets up a new `nu_`.\n",
    "# But it is sorted only during the first evaluation.\n",
    "\n",
    "@btime sort!(nus_) setup=(nus_=make_nu_())\n",
    "\n",
    "@benchmark sort!(nus_) setup=(nus_=make_nu_())"
   ]
  },
  {
   "cell_type": "code",
   "execution_count": null,
   "id": "d57a674f-5bd1-4dfb-9078-5154da04ea33",
   "metadata": {},
   "outputs": [],
   "source": [
    "# Each sampling sets up a new `nu_` and there is only one evaluation.\n",
    "\n",
    "@btime sort!(nus_) setup=(nus_=make_nu_()) evals=1\n",
    "\n",
    "@benchmark sort!(nus_) setup=(nus_=make_nu_()) evals=1"
   ]
  }
 ],
 "metadata": {
  "kernelspec": {
   "display_name": "Julia 1.8.3",
   "language": "julia",
   "name": "julia-1.8"
  },
  "language_info": {
   "file_extension": ".jl",
   "mimetype": "application/julia",
   "name": "julia",
   "version": "1.8.3"
  }
 },
 "nbformat": 4,
 "nbformat_minor": 5
}
