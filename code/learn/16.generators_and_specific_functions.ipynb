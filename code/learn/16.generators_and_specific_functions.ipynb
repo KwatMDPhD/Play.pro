{
 "cells": [
  {
   "cell_type": "code",
   "execution_count": 1,
   "id": "2a4ab9b1-e0a3-45f1-a18b-0ee3ebe23617",
   "metadata": {},
   "outputs": [],
   "source": [
    "an_ = rand((0, 1, missing), 10^3)\n",
    "\n",
    ";"
   ]
  },
  {
   "cell_type": "code",
   "execution_count": 2,
   "id": "6591c028-81cb-41c4-a138-2f04f38ec9dd",
   "metadata": {},
   "outputs": [
    {
     "name": "stdout",
     "output_type": "stream",
     "text": [
      "  1.962 μs (6 allocations: 7.61 KiB)\n",
      "  572.346 ns (4 allocations: 7.09 KiB)\n",
      "  573.714 ns (4 allocations: 7.09 KiB)\n"
     ]
    }
   ],
   "source": [
    "# Generators are usually great.\n",
    "@btime findall(ismissing(an) for an in $an_)\n",
    "\n",
    "# But specific functions can be even better.\n",
    "# The compiler fuses element-wise `ismissing` and `findall`.\n",
    "\n",
    "@btime findall(ismissing.($an_))\n",
    "\n",
    "@btime findall(ismissing, $an_)\n",
    "\n",
    ";"
   ]
  }
 ],
 "metadata": {
  "kernelspec": {
   "display_name": "Julia 1.8.3",
   "language": "julia",
   "name": "julia-1.8"
  },
  "language_info": {
   "file_extension": ".jl",
   "mimetype": "application/julia",
   "name": "julia",
   "version": "1.8.3"
  }
 },
 "nbformat": 4,
 "nbformat_minor": 5
}
