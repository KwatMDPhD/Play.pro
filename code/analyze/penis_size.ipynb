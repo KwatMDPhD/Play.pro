{
 "cells": [
  {
   "cell_type": "code",
   "execution_count": null,
   "id": "835c5e99-dc56-4ea3-8a56-129763275275",
   "metadata": {},
   "outputs": [],
   "source": [
    "include(\"../src/Play.jl\")"
   ]
  },
  {
   "cell_type": "code",
   "execution_count": null,
   "id": "1024a2a8-9145-4248-8ea3-376af8058a2f",
   "metadata": {},
   "outputs": [],
   "source": [
    "co_x_pe_x_nu = tabulate(read(\"../input/country_x_penis_x_number.txt\", String))"
   ]
  },
  {
   "cell_type": "code",
   "execution_count": null,
   "id": "b43f1a38-8c19-45a0-95df-c9df1508defc",
   "metadata": {},
   "outputs": [],
   "source": [
    "co_x_in_x_nu = tabulate(read(\"../input/country_x_income_x_number.txt\", String))"
   ]
  },
  {
   "cell_type": "code",
   "execution_count": null,
   "id": "99a48a24-cd73-474c-8b6f-9f6208260716",
   "metadata": {},
   "outputs": [],
   "source": [
    "cop_ = co_x_pe_x_nu[!, \"Country\"]\n",
    "\n",
    "coi_ = co_x_in_x_nu[!, \"Country\"]\n",
    "\n",
    ";"
   ]
  },
  {
   "cell_type": "code",
   "execution_count": null,
   "id": "e32c94d0-8410-4563-8372-abe405be663f",
   "metadata": {},
   "outputs": [],
   "source": [
    "di_ = sort(symdiff(cop_, coi_))\n",
    "\n",
    "println(di_)\n",
    "\n",
    "co_ = intersect(cop_, coi_)"
   ]
  },
  {
   "cell_type": "code",
   "execution_count": null,
   "id": "8518da20-7ee9-494b-b757-c945a06c7bc1",
   "metadata": {},
   "outputs": [],
   "source": [
    "id_ = indexin(cop_, co_)\n",
    "\n",
    "go_ = [!isnothing(id) for id in id_]\n",
    "\n",
    "co_x_pe_x_nu = co_x_pe_x_nu[go_, :][id_[go_], :]"
   ]
  },
  {
   "cell_type": "code",
   "execution_count": null,
   "id": "c49f26bc-1344-49a6-a456-adccaeee8b92",
   "metadata": {},
   "outputs": [],
   "source": [
    "id_ = indexin(coi_, co_)\n",
    "\n",
    "go_ = [!isnothing(id) for id in id_]\n",
    "\n",
    "co_x_in_x_nu = co_x_in_x_nu[go_, :][id_[go_], :]"
   ]
  },
  {
   "cell_type": "code",
   "execution_count": null,
   "id": "de3a18e6-add8-4d6d-89f4-2970ae7a48df",
   "metadata": {},
   "outputs": [],
   "source": [
    "pe_ = [parse(Float64, st) for st in co_x_pe_x_nu[!, \"Erect length (cm)\"]]\n",
    "\n",
    "in_ = [parse(Float64, st) for st in co_x_in_x_nu[!, \"Avg. income per year\"]]\n",
    "\n",
    "y, x = OnePiece.Vector.sort_like(([pe / ic for (pe, ic) in zip(pe_, in_)], co_), true)\n",
    "\n",
    "OnePiece.Plot.plot_bar(\n",
    "    [y],\n",
    "    [x],\n",
    "    marker_color_ = (\"#20d9ba\",),\n",
    "    layout = Dict(\n",
    "        \"title\" => Dict(\"text\" => \"🍆💦📏🧐\", \"font\" => Dict(\"size\" => 32)),\n",
    "        \"yaxis\" => Dict(\"title\" => Dict(\"text\" => \"<b>Penis Size / Annual Income</b> (cm / \\$)\")),\n",
    "        \"xaxis\" => Dict(\"title\" => Dict(\"text\" => \"<b>Country</b>\")),\n",
    "    ),\n",
    "    ht = \"../output/penis_size_per_income.html\",\n",
    ")"
   ]
  }
 ],
 "metadata": {
  "kernelspec": {
   "display_name": "Julia 1.8.3",
   "language": "julia",
   "name": "julia-1.8"
  },
  "language_info": {
   "file_extension": ".jl",
   "mimetype": "application/julia",
   "name": "julia",
   "version": "1.8.3"
  }
 },
 "nbformat": 4,
 "nbformat_minor": 5
}
