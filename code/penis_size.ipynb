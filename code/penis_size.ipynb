{
 "cells": [
  {
   "outputs": [],
   "cell_type": "code",
   "source": [
    "include(\"../src/Play.jl\")"
   ],
   "id": "835c5e99-dc56-4ea3-8a56-129763275275",
   "metadata": {},
   "execution_count": null
  },
  {
   "outputs": [],
   "cell_type": "code",
   "source": [
    "co_x_pe_x_nu = tabulate(read(\"../input/country_x_penis_x_number.txt\", String))"
   ],
   "id": "1024a2a8-9145-4248-8ea3-376af8058a2f",
   "metadata": {},
   "execution_count": null
  },
  {
   "outputs": [],
   "cell_type": "code",
   "source": [
    "co_x_in_x_nu = tabulate(read(\"../input/country_x_income_x_number.txt\", String))"
   ],
   "id": "b43f1a38-8c19-45a0-95df-c9df1508defc",
   "metadata": {},
   "execution_count": null
  },
  {
   "outputs": [],
   "cell_type": "code",
   "source": [
    "cop_ = co_x_pe_x_nu[!, \"Country\"]\n",
    "\n",
    "coi_ = co_x_in_x_nu[!, \"Country\"]\n",
    "\n",
    ";"
   ],
   "id": "99a48a24-cd73-474c-8b6f-9f6208260716",
   "metadata": {},
   "execution_count": null
  },
  {
   "outputs": [],
   "cell_type": "code",
   "source": [
    "di_ = sort(symdiff(cop_, coi_))\n",
    "\n",
    "println(di_)\n",
    "\n",
    "co_ = intersect(cop_, coi_)"
   ],
   "id": "e32c94d0-8410-4563-8372-abe405be663f",
   "metadata": {},
   "execution_count": null
  },
  {
   "outputs": [],
   "cell_type": "code",
   "source": [
    "id_ = indexin(cop_, co_)\n",
    "\n",
    "go_ = [!isnothing(id) for id in id_]\n",
    "\n",
    "co_x_pe_x_nu = co_x_pe_x_nu[go_, :][id_[go_], :]"
   ],
   "id": "8518da20-7ee9-494b-b757-c945a06c7bc1",
   "metadata": {},
   "execution_count": null
  },
  {
   "outputs": [],
   "cell_type": "code",
   "source": [
    "id_ = indexin(coi_, co_)\n",
    "\n",
    "go_ = [!isnothing(id) for id in id_]\n",
    "\n",
    "co_x_in_x_nu = co_x_in_x_nu[go_, :][id_[go_], :]"
   ],
   "id": "c49f26bc-1344-49a6-a456-adccaeee8b92",
   "metadata": {},
   "execution_count": null
  },
  {
   "outputs": [],
   "cell_type": "code",
   "source": [
    "pe_ = [parse(Float64, st) for st in co_x_pe_x_nu[!, \"Erect length (cm)\"]]\n",
    "\n",
    "in_ = [parse(Float64, st) for st in co_x_in_x_nu[!, \"Avg. income per year\"]]\n",
    "\n",
    "y, x = BioinformaticsCore.Vector.sort_like(([pe / ic for (pe, ic) in zip(pe_, in_)], co_), true)\n",
    "\n",
    "BioinformaticsCore.Plot.plot_bar(\n",
    "    [y],\n",
    "    [x],\n",
    "    marker_color_ = (\"#20d9ba\",),\n",
    "    layout = Dict(\n",
    "        \"title\" => Dict(\"text\" => \"🍆💦📏🧐\", \"font\" => Dict(\"size\" => 32)),\n",
    "        \"yaxis\" => Dict(\"title\" => Dict(\"text\" => \"<b>Penis Size / Annual Income</b> (cm / \\$)\")),\n",
    "        \"xaxis\" => Dict(\"title\" => Dict(\"text\" => \"<b>Country</b>\")),\n",
    "    ),\n",
    "    ht = \"../output/penis_size_per_income.html\",\n",
    ")"
   ],
   "id": "de3a18e6-add8-4d6d-89f4-2970ae7a48df",
   "metadata": {},
   "execution_count": null
  }
 ],
 "nbformat_minor": 5,
 "metadata": {
  "language_info": {
   "file_extension": ".jl",
   "mimetype": "application/julia",
   "name": "julia",
   "version": "1.8.3"
  },
  "kernelspec": {
   "name": "julia-1.8",
   "display_name": "Julia 1.8.3",
   "language": "julia"
  }
 },
 "nbformat": 4
}
