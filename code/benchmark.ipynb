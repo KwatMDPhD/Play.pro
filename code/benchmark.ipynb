{
 "cells": [
  {
   "outputs": [],
   "cell_type": "code",
   "source": [
    "include(\"../src/Play.jl\")"
   ],
   "id": "93a7bbd7-df07-4fc7-91dd-d0dcf2e62a43",
   "metadata": {},
   "execution_count": null
  },
  {
   "outputs": [],
   "cell_type": "code",
   "source": [
    "#\n",
    "n = 10^2\n",
    "\n",
    "#\n",
    "ch_ = 'a':'z'\n",
    "\n",
    "st_ = [join(rand(ch_, 8)) for _ in 1:n]\n",
    "\n",
    "#\n",
    "fl_ = rand(Float64, n)\n",
    "\n",
    "#\n",
    "in_ = [rand(0:9) for _ in 1:n]\n",
    "\n",
    ";"
   ],
   "id": "4bf7e2a1-0044-4ec6-89a0-6fa9822e515e",
   "metadata": {},
   "execution_count": null
  },
  {
   "outputs": [],
   "cell_type": "code",
   "source": [
    "da = DataFrame(\"C1\" => st_, \"C2\" => fl_, \"C3\" => in_)\n",
    "\n",
    "insertcols!(da, \"C4\" => [rand(vcat(collect(ro), missing)) for ro in eachrow(da)])\n",
    "\n",
    ";"
   ],
   "id": "a5f22a55-6f0e-4fed-bd0a-32a38ef6e429",
   "metadata": {},
   "execution_count": null
  },
  {
   "outputs": [],
   "cell_type": "code",
   "source": [
    "function fudi(da)\n",
    "\n",
    "    for id in 1:size(da, 1)\n",
    "\n",
    "        [ismissing(an) for an in da[id, :]]\n",
    "\n",
    "    end\n",
    "\n",
    "end"
   ],
   "id": "67ed0ffa-aa59-48b6-8a6e-03a54d84dbbd",
   "metadata": {},
   "execution_count": null
  },
  {
   "outputs": [],
   "cell_type": "code",
   "source": [
    "@btime fudi(da)"
   ],
   "id": "c78d7ddb-d002-4bb6-86b1-55efe5b9d7d2",
   "metadata": {},
   "execution_count": null
  },
  {
   "outputs": [],
   "cell_type": "code",
   "source": [
    "function fumi(da)\n",
    "\n",
    "    ma = Matrix(da)\n",
    "\n",
    "    for id in 1:size(ma, 1)\n",
    "\n",
    "        [ismissing(an) for an in ma[id, :]]\n",
    "\n",
    "    end\n",
    "\n",
    "end"
   ],
   "id": "8caae14e-3b90-45fe-b714-d365e488a400",
   "metadata": {},
   "execution_count": null
  },
  {
   "outputs": [],
   "cell_type": "code",
   "source": [
    "@btime fumi(da)"
   ],
   "id": "9d78a45c-7e7c-47ad-aa3c-3e8cbb7ab1ed",
   "metadata": {},
   "execution_count": null
  },
  {
   "outputs": [],
   "cell_type": "code",
   "source": [
    "function fude(da)\n",
    "\n",
    "    for ro in eachrow(da)\n",
    "\n",
    "        [ismissing(an) for an in ro]\n",
    "\n",
    "    end\n",
    "\n",
    "end"
   ],
   "id": "bdfbcacf-824b-4bd9-b64f-1a5449bab939",
   "metadata": {},
   "execution_count": null
  },
  {
   "outputs": [],
   "cell_type": "code",
   "source": [
    "@btime fude(da)"
   ],
   "id": "1cca9eaf-b195-4400-a456-89732bc72f71",
   "metadata": {},
   "execution_count": null
  },
  {
   "outputs": [],
   "cell_type": "code",
   "source": [
    "function fume(da)\n",
    "\n",
    "    for ro in eachrow(Matrix(da))\n",
    "\n",
    "        [ismissing(an) for an in ro]\n",
    "\n",
    "    end\n",
    "\n",
    "end"
   ],
   "id": "2dce859a-db02-4391-9438-dba7f90ae1c9",
   "metadata": {},
   "execution_count": null
  },
  {
   "outputs": [],
   "cell_type": "code",
   "source": [
    "@btime fume(da)"
   ],
   "id": "7feb1e5f-47e1-4861-913c-0051774f1348",
   "metadata": {},
   "execution_count": null
  }
 ],
 "nbformat_minor": 5,
 "metadata": {
  "language_info": {
   "file_extension": ".jl",
   "mimetype": "application/julia",
   "name": "julia",
   "version": "1.8.2"
  },
  "kernelspec": {
   "name": "julia-1.8",
   "display_name": "Julia 1.8.2",
   "language": "julia"
  }
 },
 "nbformat": 4
}
