{
 "cells": [
  {
   "outputs": [],
   "cell_type": "code",
   "source": [
    "using Revise\n",
    "\n",
    "using BenchmarkTools\n",
    "\n",
    "using DataFrames\n",
    "\n",
    "using Random\n",
    "\n",
    "using OnePiece"
   ],
   "id": "93a7bbd7-df07-4fc7-91dd-d0dcf2e62a43",
   "metadata": {},
   "execution_count": null
  },
  {
   "outputs": [],
   "cell_type": "code",
   "source": [
    "n = 10^3\n",
    "\n",
    "ch_ = 'a':'z'\n",
    "\n",
    "st_ = [join(rand(ch_, 8)) for _ in 1:n]\n",
    "\n",
    "nu_ = [rand((0:9)) for _ in 1:n]\n",
    "\n",
    "nu_ = rand(Float64, n);"
   ],
   "id": "4bf7e2a1-0044-4ec6-89a0-6fa9822e515e",
   "metadata": {},
   "execution_count": null
  },
  {
   "cell_type": "markdown",
   "source": [
    "## display"
   ],
   "id": "ec1aa8bf-2f8c-49ee-8f96-85c9ad56fd3d",
   "metadata": {}
  },
  {
   "cell_type": "markdown",
   "source": [
    "## permute"
   ],
   "id": "ddb62479-18d0-4231-a70e-9a4897d5b508",
   "metadata": {}
  },
  {
   "outputs": [],
   "cell_type": "code",
   "source": [
    "id_ = randperm(n)"
   ],
   "id": "3a0430a2-5da0-4eaa-b2ed-43bb8cf9bb71",
   "metadata": {},
   "execution_count": null
  },
  {
   "outputs": [],
   "cell_type": "code",
   "source": [
    "@btime permute!(nu_, id_);"
   ],
   "id": "e2e8f5f5-06c3-4ce5-843a-f3d881530ba8",
   "metadata": {},
   "execution_count": null
  },
  {
   "outputs": [],
   "cell_type": "code",
   "source": [
    "@btime nu_[id_];"
   ],
   "id": "87549a30-1a20-4c4f-8f70-9481d8ed7a64",
   "metadata": {},
   "execution_count": null
  },
  {
   "outputs": [],
   "cell_type": "code",
   "source": [
    "@btime permute!($nu_, $id_);"
   ],
   "id": "856cb32e-45b4-4406-843b-894a0f5e4342",
   "metadata": {},
   "execution_count": null
  },
  {
   "outputs": [],
   "cell_type": "code",
   "source": [
    "@btime $nu_[$id_];"
   ],
   "id": "19780139-a7a4-492e-9d38-264e284efabf",
   "metadata": {},
   "execution_count": null
  },
  {
   "cell_type": "markdown",
   "source": [
    "## Iterate data frame"
   ],
   "id": "89c51f00-8202-4a87-b1b6-30c61d2c8435",
   "metadata": {}
  }
 ],
 "nbformat_minor": 5,
 "metadata": {
  "language_info": {
   "file_extension": ".jl",
   "mimetype": "application/julia",
   "name": "julia",
   "version": "1.8.2"
  },
  "kernelspec": {
   "name": "julia-1.8",
   "display_name": "Julia 1.8.2",
   "language": "julia"
  }
 },
 "nbformat": 4
}
