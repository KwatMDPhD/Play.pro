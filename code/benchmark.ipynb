{
 "cells": [
  {
   "outputs": [],
   "cell_type": "code",
   "source": [
    "include(\"../src/Play.jl\")"
   ],
   "id": "7672a781",
   "metadata": {},
   "execution_count": null
  },
  {
   "outputs": [],
   "cell_type": "code",
   "source": [
    "#\n",
    "n = 10^3\n",
    "\n",
    "#\n",
    "ch_ = 'a':'z'\n",
    "\n",
    "st_ = [join(rand(ch_, 8)) for _ in 1:n]\n",
    "\n",
    "#\n",
    "fl_ = rand(Float64, n)\n",
    "\n",
    "#\n",
    "in_ = [rand(0:9) for _ in 1:n]\n",
    "\n",
    "#\n",
    "da = DataFrame(\"Strings\" => st_, \"Floats\" => fl_, \"Integers\" => in_)\n",
    "\n",
    "insertcols!(da, \"Mixures\" => [rand(vcat(ro, missing)) for ro in eachrow(Matrix(da))])\n",
    "\n",
    ";"
   ],
   "id": "fbd07c45-4dfd-4450-bfa9-972bf3d42f00",
   "metadata": {},
   "execution_count": null
  },
  {
   "cell_type": "markdown",
   "source": [
    "## Fastness: Float64 < BitVector < Vector{Bool}"
   ],
   "id": "a66d74fa-93a0-4a0d-86af-716c9a11e54a",
   "metadata": {}
  },
  {
   "outputs": [],
   "cell_type": "code",
   "source": [
    "@btime 55.1"
   ],
   "id": "c44e0fb9-5a10-4504-8b42-484d5ea2ba0e",
   "metadata": {},
   "execution_count": null
  },
  {
   "outputs": [],
   "cell_type": "code",
   "source": [
    "@btime $55.1"
   ],
   "id": "4e7cded9-8c9e-4a25-9968-3caa3ae35411",
   "metadata": {},
   "execution_count": null
  },
  {
   "outputs": [],
   "cell_type": "code",
   "source": [
    "using ProfileSVG"
   ],
   "id": "a06cd80c-991c-4d34-b53c-3fbf92d29584",
   "metadata": {},
   "execution_count": null
  },
  {
   "outputs": [],
   "cell_type": "code",
   "source": [
    "function profile_test(n)\n",
    "    for i in 1:n\n",
    "        A = randn(100, 100, 20)\n",
    "        m = maximum(A)\n",
    "        Am = mapslices(sum, A; dims = 2)\n",
    "        B = A[:, :, 5]\n",
    "        Bsort = mapslices(sort, B; dims = 1)\n",
    "        b = rand(100)\n",
    "        C = B .* b\n",
    "    end\n",
    "end\n",
    "\n",
    "@profview profile_test(10)"
   ],
   "id": "bcd8be08-ba3f-4818-80c7-b92a33ec7455",
   "metadata": {},
   "execution_count": null
  }
 ],
 "nbformat_minor": 5,
 "metadata": {
  "language_info": {
   "file_extension": ".jl",
   "mimetype": "application/julia",
   "name": "julia",
   "version": "1.8.2"
  },
  "kernelspec": {
   "name": "julia-1.8",
   "display_name": "Julia 1.8.2",
   "language": "julia"
  }
 },
 "nbformat": 4
}
