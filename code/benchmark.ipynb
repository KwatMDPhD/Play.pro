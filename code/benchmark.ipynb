{
 "cells": [
  {
   "outputs": [],
   "cell_type": "code",
   "source": [
    "include(\"../src/Play.jl\")"
   ],
   "id": "93a7bbd7-df07-4fc7-91dd-d0dcf2e62a43",
   "metadata": {},
   "execution_count": null
  },
  {
   "outputs": [],
   "cell_type": "code",
   "source": [
    "#\n",
    "n = 10^3\n",
    "\n",
    "#\n",
    "ch_ = 'a':'z'\n",
    "\n",
    "st_ = [join(rand(ch_, 8)) for _ in 1:n]\n",
    "\n",
    "#\n",
    "fl_ = rand(Float64, n)\n",
    "\n",
    "#\n",
    "in_ = [rand(0:9) for _ in 1:n]\n",
    "\n",
    "#\n",
    "da = DataFrame(\"Strings\" => st_, \"Floats\" => fl_, \"Integers\" => in_)\n",
    "\n",
    "insertcols!(da, \"Mixures\" => [rand(vcat(ro, missing)) for ro in eachrow(Matrix(da))])\n",
    "\n",
    ";"
   ],
   "id": "fbd07c45-4dfd-4450-bfa9-972bf3d42f00",
   "metadata": {},
   "execution_count": null
  },
  {
   "cell_type": "markdown",
   "source": [
    "## Fastness: Float64 < BitVector < Vector{Bool}"
   ],
   "id": "c511bd1a-0b54-4291-8b32-962a028d5d63",
   "metadata": {}
  }
 ],
 "nbformat_minor": 5,
 "metadata": {
  "language_info": {
   "file_extension": ".jl",
   "mimetype": "application/julia",
   "name": "julia",
   "version": "1.8.2"
  },
  "kernelspec": {
   "name": "julia-1.8",
   "display_name": "Julia 1.8.2",
   "language": "julia"
  }
 },
 "nbformat": 4
}
