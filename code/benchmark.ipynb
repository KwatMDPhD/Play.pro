{
 "cells": [
  {
   "outputs": [],
   "cell_type": "code",
   "source": [
    "using Revise\n",
    "\n",
    "using BenchmarkTools\n",
    "\n",
    "using DataFrames\n",
    "\n",
    "using OnePiece"
   ],
   "id": "93a7bbd7-df07-4fc7-91dd-d0dcf2e62a43",
   "metadata": {},
   "execution_count": null
  },
  {
   "outputs": [],
   "cell_type": "code",
   "source": [
    "n = 10^3\n",
    "\n",
    "ch_ = 'a':'z'\n",
    "\n",
    "an_ = [join(rand(ch_, 8)) for _ in 1:n]\n",
    "\n",
    "nu_ = [rand((0:9)) for _ in 1:n]\n",
    "nu_ = [rand(Float64) for _ in 1:n]"
   ],
   "id": "c446dd11-d264-45e4-a730-89704f9de821",
   "metadata": {},
   "execution_count": null
  },
  {
   "cell_type": "markdown",
   "source": [
    "## Iterate data frame"
   ],
   "id": "05cbe9c7-bb3f-4a70-874a-5f0b59a0db18",
   "metadata": {}
  }
 ],
 "nbformat_minor": 5,
 "metadata": {
  "language_info": {
   "file_extension": ".jl",
   "mimetype": "application/julia",
   "name": "julia",
   "version": "1.8.2"
  },
  "kernelspec": {
   "name": "julia-1.8",
   "display_name": "Julia 1.8.2",
   "language": "julia"
  }
 },
 "nbformat": 4
}
