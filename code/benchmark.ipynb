{
 "cells": [
  {
   "cell_type": "code",
   "execution_count": null,
   "id": "78f624c9-74d9-45d6-9478-1c1673a91c2f",
   "metadata": {},
   "outputs": [],
   "source": [
    "using Revise\n",
    "\n",
    "using BenchmarkTools\n",
    "\n",
    "using DataFrames\n",
    "\n",
    "using OnePiece"
   ]
  },
  {
   "cell_type": "code",
   "execution_count": null,
   "id": "c446dd11-d264-45e4-a730-89704f9de821",
   "metadata": {},
   "outputs": [],
   "source": [
    "n = convert(Int, 1e3)\n",
    "\n",
    "ch_ = 'a':'z'\n",
    "\n",
    "an_ = [join(rand(ch_, 8)) for id in 1:n]\n",
    "\n",
    "nu_ = [rand((0:9)) for id in 1:n]\n",
    "nu_ = [rand(Float64) for id in 1:n]"
   ]
  }
 ],
 "metadata": {
  "kernelspec": {
   "display_name": "Julia 1.8.2",
   "language": "julia",
   "name": "julia-1.8"
  },
  "language_info": {
   "file_extension": ".jl",
   "mimetype": "application/julia",
   "name": "julia",
   "version": "1.8.2"
  }
 },
 "nbformat": 4,
 "nbformat_minor": 5
}
