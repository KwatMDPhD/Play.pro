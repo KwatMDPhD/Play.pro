{
 "cells": [
  {
   "cell_type": "code",
   "execution_count": null,
   "id": "78f624c9-74d9-45d6-9478-1c1673a91c2f",
   "metadata": {},
   "outputs": [],
   "source": [
    "using Revise\n",
    "\n",
    "using BenchmarkTools\n",
    "\n",
    "using DataFrames\n",
    "\n",
    "using OnePiece"
   ]
  },
  {
   "cell_type": "code",
   "execution_count": null,
   "id": "52235041-9d09-4aa9-b29e-15fea2816ce3",
   "metadata": {},
   "outputs": [],
   "source": [
    "da = DataFrame(\"a\" => st_, \"b\" => reverse(st_), \"c\" => 0, \"d\" => 0.0)"
   ]
  },
  {
   "cell_type": "code",
   "execution_count": null,
   "id": "da8f5a79-be51-4f45-b4b7-566ebaca2ee3",
   "metadata": {},
   "outputs": [],
   "source": [
    "n = convert(Int, 1e3)\n",
    "\n",
    "ch_ = 'a':'z'\n",
    "\n",
    "st_ = [join(rand(ch_, 8)) for id in 1:n]\n",
    "\n",
    "la = st_[end]\n",
    "\n",
    ";"
   ]
  }
 ],
 "metadata": {
  "kernelspec": {
   "display_name": "Julia 1.8.2",
   "language": "julia",
   "name": "julia-1.8"
  },
  "language_info": {
   "file_extension": ".jl",
   "mimetype": "application/julia",
   "name": "julia",
   "version": "1.8.2"
  }
 },
 "nbformat": 4,
 "nbformat_minor": 5
}
