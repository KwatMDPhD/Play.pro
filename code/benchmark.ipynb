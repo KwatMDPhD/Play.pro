{
 "cells": [
  {
   "cell_type": "code",
   "execution_count": null,
   "id": "78f624c9-74d9-45d6-9478-1c1673a91c2f",
   "metadata": {},
   "outputs": [],
   "source": [
    "using Revise\n",
    "\n",
    "using BenchmarkTools\n",
    "\n",
    "using DataFrames\n",
    "\n",
    "using OnePiece"
   ]
  },
  {
   "cell_type": "code",
   "execution_count": null,
   "id": "61b98cea-ff36-4a33-9031-4719f831f7f3",
   "metadata": {},
   "outputs": [],
   "source": [
    "n = convert(Int, 1e3)\n",
    "\n",
    "ch_ = 'a':'z'\n",
    "\n",
    "an_ = [join(rand(ch_, 8)) for id in 1:n]"
   ]
  },
  {
   "cell_type": "code",
   "execution_count": null,
   "id": "c4e310fd-6227-4556-b462-dd58c09c9fb3",
   "metadata": {},
   "outputs": [],
   "source": [
    "an_ = [rand((0, 1)) for id in 1:n]"
   ]
  },
  {
   "cell_type": "code",
   "execution_count": null,
   "id": "8df85eda-ec45-4d5d-afe7-5f10afd6b428",
   "metadata": {},
   "outputs": [],
   "source": [
    "ra = rand(an_)"
   ]
  }
 ],
 "metadata": {
  "kernelspec": {
   "display_name": "Julia 1.8.2",
   "language": "julia",
   "name": "julia-1.8"
  },
  "language_info": {
   "file_extension": ".jl",
   "mimetype": "application/julia",
   "name": "julia",
   "version": "1.8.2"
  }
 },
 "nbformat": 4,
 "nbformat_minor": 5
}
