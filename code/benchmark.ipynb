{
 "cells": [
  {
   "cell_type": "code",
   "execution_count": null,
   "id": "93a7bbd7-df07-4fc7-91dd-d0dcf2e62a43",
   "metadata": {},
   "outputs": [],
   "source": [
    "using Revise\n",
    "\n",
    "using BenchmarkTools\n",
    "\n",
    "using DataFrames\n",
    "\n",
    "using OnePiece"
   ]
  },
  {
   "cell_type": "code",
   "execution_count": null,
   "id": "c446dd11-d264-45e4-a730-89704f9de821",
   "metadata": {},
   "outputs": [],
   "source": [
    "n = 10^3\n",
    "\n",
    "ch_ = 'a':'z'\n",
    "\n",
    "an_ = [join(rand(ch_, 8)) for _ in 1:n]\n",
    "\n",
    "nu_ = [rand((0:9)) for _ in 1:n]\n",
    "nu_ = [rand(Float64) for _ in 1:n]"
   ]
  }
 ],
 "metadata": {
  "kernelspec": {
   "display_name": "Julia 1.8.2",
   "language": "julia",
   "name": "julia-1.8"
  },
  "language_info": {
   "file_extension": ".jl",
   "mimetype": "application/julia",
   "name": "julia",
   "version": "1.8.2"
  }
 },
 "nbformat": 4,
 "nbformat_minor": 5
}
